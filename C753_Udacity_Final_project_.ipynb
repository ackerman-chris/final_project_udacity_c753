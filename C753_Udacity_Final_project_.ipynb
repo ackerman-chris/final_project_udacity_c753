{
  "nbformat": 4,
  "nbformat_minor": 0,
  "metadata": {
    "colab": {
      "name": "C753 | Udacity Final project.ipynb",
      "provenance": [],
      "collapsed_sections": []
    },
    "kernelspec": {
      "name": "python3",
      "display_name": "Python 3"
    },
    "language_info": {
      "name": "python"
    },
    "widgets": {
      "application/vnd.jupyter.widget-state+json": {
        "58bc91179b2f4b248e2095f878783edd": {
          "model_module": "@jupyter-widgets/controls",
          "model_name": "IntProgressModel",
          "model_module_version": "1.5.0",
          "state": {
            "_view_name": "ProgressView",
            "style": "IPY_MODEL_402402fe2ab148c3ac989a4d4c47c57b",
            "_dom_classes": [],
            "description": "Processing: ",
            "_model_name": "IntProgressModel",
            "bar_style": "",
            "max": 3,
            "_view_module": "@jupyter-widgets/controls",
            "_model_module_version": "1.5.0",
            "value": 3,
            "_view_count": null,
            "_view_module_version": "1.5.0",
            "orientation": "horizontal",
            "min": 0,
            "description_tooltip": null,
            "_model_module": "@jupyter-widgets/controls",
            "layout": "IPY_MODEL_27c8cb23c6cb4e308abb4b0321b5be4a"
          }
        },
        "402402fe2ab148c3ac989a4d4c47c57b": {
          "model_module": "@jupyter-widgets/controls",
          "model_name": "ProgressStyleModel",
          "model_module_version": "1.5.0",
          "state": {
            "_view_name": "StyleView",
            "_model_name": "ProgressStyleModel",
            "description_width": "",
            "_view_module": "@jupyter-widgets/base",
            "_model_module_version": "1.5.0",
            "_view_count": null,
            "_view_module_version": "1.2.0",
            "bar_color": null,
            "_model_module": "@jupyter-widgets/controls"
          }
        },
        "27c8cb23c6cb4e308abb4b0321b5be4a": {
          "model_module": "@jupyter-widgets/base",
          "model_name": "LayoutModel",
          "model_module_version": "1.2.0",
          "state": {
            "_view_name": "LayoutView",
            "grid_template_rows": null,
            "right": null,
            "justify_content": null,
            "_view_module": "@jupyter-widgets/base",
            "overflow": null,
            "_model_module_version": "1.2.0",
            "_view_count": null,
            "flex_flow": null,
            "width": null,
            "min_width": null,
            "border": null,
            "align_items": null,
            "bottom": null,
            "_model_module": "@jupyter-widgets/base",
            "top": null,
            "grid_column": null,
            "overflow_y": null,
            "overflow_x": null,
            "grid_auto_flow": null,
            "grid_area": null,
            "grid_template_columns": null,
            "flex": null,
            "_model_name": "LayoutModel",
            "justify_items": null,
            "grid_row": null,
            "max_height": null,
            "align_content": null,
            "visibility": null,
            "align_self": null,
            "height": null,
            "min_height": null,
            "padding": null,
            "grid_auto_rows": null,
            "grid_gap": null,
            "max_width": null,
            "order": null,
            "_view_module_version": "1.2.0",
            "grid_template_areas": null,
            "object_position": null,
            "object_fit": null,
            "grid_auto_columns": null,
            "margin": null,
            "display": null,
            "left": null
          }
        },
        "8dd97b09a2284112a506dc854f8be263": {
          "model_module": "@jupyter-widgets/controls",
          "model_name": "TextModel",
          "model_module_version": "1.5.0",
          "state": {
            "_view_name": "TextView",
            "style": "IPY_MODEL_6e4deefff4734a26ba0f02d2c545fbdd",
            "_dom_classes": [],
            "description": "",
            "_model_name": "TextModel",
            "placeholder": "​",
            "_view_module": "@jupyter-widgets/controls",
            "_model_module_version": "1.5.0",
            "value": "Following data types have been inferred automatically, if they are correct press enter to continue or type 'quit' otherwise.",
            "_view_count": null,
            "disabled": false,
            "_view_module_version": "1.5.0",
            "continuous_update": true,
            "description_tooltip": null,
            "_model_module": "@jupyter-widgets/controls",
            "layout": "IPY_MODEL_ec802070d131486e964c3f4839092d92"
          }
        },
        "6e4deefff4734a26ba0f02d2c545fbdd": {
          "model_module": "@jupyter-widgets/controls",
          "model_name": "DescriptionStyleModel",
          "model_module_version": "1.5.0",
          "state": {
            "_view_name": "StyleView",
            "_model_name": "DescriptionStyleModel",
            "description_width": "",
            "_view_module": "@jupyter-widgets/base",
            "_model_module_version": "1.5.0",
            "_view_count": null,
            "_view_module_version": "1.2.0",
            "_model_module": "@jupyter-widgets/controls"
          }
        },
        "ec802070d131486e964c3f4839092d92": {
          "model_module": "@jupyter-widgets/base",
          "model_name": "LayoutModel",
          "model_module_version": "1.2.0",
          "state": {
            "_view_name": "LayoutView",
            "grid_template_rows": null,
            "right": null,
            "justify_content": null,
            "_view_module": "@jupyter-widgets/base",
            "overflow": null,
            "_model_module_version": "1.2.0",
            "_view_count": null,
            "flex_flow": null,
            "width": "100%",
            "min_width": null,
            "border": null,
            "align_items": null,
            "bottom": null,
            "_model_module": "@jupyter-widgets/base",
            "top": null,
            "grid_column": null,
            "overflow_y": null,
            "overflow_x": null,
            "grid_auto_flow": null,
            "grid_area": null,
            "grid_template_columns": null,
            "flex": null,
            "_model_name": "LayoutModel",
            "justify_items": null,
            "grid_row": null,
            "max_height": null,
            "align_content": null,
            "visibility": null,
            "align_self": null,
            "height": null,
            "min_height": null,
            "padding": null,
            "grid_auto_rows": null,
            "grid_gap": null,
            "max_width": null,
            "order": null,
            "_view_module_version": "1.2.0",
            "grid_template_areas": null,
            "object_position": null,
            "object_fit": null,
            "grid_auto_columns": null,
            "margin": null,
            "display": null,
            "left": null
          }
        },
        "91312535426e498f820d20f825168b1d": {
          "model_module": "@jupyter-widgets/controls",
          "model_name": "IntProgressModel",
          "model_module_version": "1.5.0",
          "state": {
            "_view_name": "ProgressView",
            "style": "IPY_MODEL_d778985f7a4e4dffb0247509150306c2",
            "_dom_classes": [],
            "description": "Processing: ",
            "_model_name": "IntProgressModel",
            "bar_style": "",
            "max": 74,
            "_view_module": "@jupyter-widgets/controls",
            "_model_module_version": "1.5.0",
            "value": 74,
            "_view_count": null,
            "_view_module_version": "1.5.0",
            "orientation": "horizontal",
            "min": 0,
            "description_tooltip": null,
            "_model_module": "@jupyter-widgets/controls",
            "layout": "IPY_MODEL_d17d28c9241e4c8b9f93f6076d47e8c9"
          }
        },
        "d778985f7a4e4dffb0247509150306c2": {
          "model_module": "@jupyter-widgets/controls",
          "model_name": "ProgressStyleModel",
          "model_module_version": "1.5.0",
          "state": {
            "_view_name": "StyleView",
            "_model_name": "ProgressStyleModel",
            "description_width": "",
            "_view_module": "@jupyter-widgets/base",
            "_model_module_version": "1.5.0",
            "_view_count": null,
            "_view_module_version": "1.2.0",
            "bar_color": null,
            "_model_module": "@jupyter-widgets/controls"
          }
        },
        "d17d28c9241e4c8b9f93f6076d47e8c9": {
          "model_module": "@jupyter-widgets/base",
          "model_name": "LayoutModel",
          "model_module_version": "1.2.0",
          "state": {
            "_view_name": "LayoutView",
            "grid_template_rows": null,
            "right": null,
            "justify_content": null,
            "_view_module": "@jupyter-widgets/base",
            "overflow": null,
            "_model_module_version": "1.2.0",
            "_view_count": null,
            "flex_flow": null,
            "width": null,
            "min_width": null,
            "border": null,
            "align_items": null,
            "bottom": null,
            "_model_module": "@jupyter-widgets/base",
            "top": null,
            "grid_column": null,
            "overflow_y": null,
            "overflow_x": null,
            "grid_auto_flow": null,
            "grid_area": null,
            "grid_template_columns": null,
            "flex": null,
            "_model_name": "LayoutModel",
            "justify_items": null,
            "grid_row": null,
            "max_height": null,
            "align_content": null,
            "visibility": null,
            "align_self": null,
            "height": null,
            "min_height": null,
            "padding": null,
            "grid_auto_rows": null,
            "grid_gap": null,
            "max_width": null,
            "order": null,
            "_view_module_version": "1.2.0",
            "grid_template_areas": null,
            "object_position": null,
            "object_fit": null,
            "grid_auto_columns": null,
            "margin": null,
            "display": null,
            "left": null
          }
        }
      }
    }
  },
  "cells": [
    {
      "cell_type": "code",
      "source": [
        "!git clone https://github.com/hussnain-imtiaz/POI_Analysis.git\n",
        "!mv /content/POI_Analysis/final_project /content\n",
        "!mv /content/POI_Analysis/tools /content"
      ],
      "metadata": {
        "colab": {
          "base_uri": "https://localhost:8080/"
        },
        "id": "8ys0MfAX2F22",
        "outputId": "f6a968a9-dfee-49df-d76f-814862d8fce0"
      },
      "execution_count": 1,
      "outputs": [
        {
          "output_type": "stream",
          "name": "stdout",
          "text": [
            "Cloning into 'POI_Analysis'...\n",
            "remote: Enumerating objects: 4687, done.\u001b[K\n",
            "remote: Counting objects: 100% (4687/4687), done.\u001b[K\n",
            "remote: Compressing objects: 100% (489/489), done.\u001b[K\n",
            "remote: Total 4687 (delta 4198), reused 4680 (delta 4196), pack-reused 0\u001b[K\n",
            "Receiving objects: 100% (4687/4687), 15.00 MiB | 23.20 MiB/s, done.\n",
            "Resolving deltas: 100% (4198/4198), done.\n"
          ]
        }
      ]
    },
    {
      "cell_type": "markdown",
      "source": [
        "# Installing all the required tools:\n",
        "Any missing tool(s) can be installed by using pip command. \n"
      ],
      "metadata": {
        "id": "mYIKM1DSLHt8"
      }
    },
    {
      "cell_type": "code",
      "source": [
        "!pip install pycaret\n",
        "#!pip install numpy\n",
        "#!pip install pandas matplotlib seaborn sklearn"
      ],
      "metadata": {
        "id": "yxm_w0sBSKwy"
      },
      "execution_count": null,
      "outputs": []
    },
    {
      "cell_type": "markdown",
      "source": [
        "# 2. Getting the Tools Ready:"
      ],
      "metadata": {
        "id": "mUl5z-IWLnSJ"
      }
    },
    {
      "cell_type": "code",
      "source": [
        "import pandas as pd\n",
        "import sys\n",
        "import numpy as np\n",
        "import pickle\n",
        "from pycaret.classification import * \n",
        "import seaborn as sns\n",
        "import matplotlib.pyplot as plt\n",
        "\n",
        "from final_project.tester import dump_classifier_and_data\n",
        "from tools.feature_format import featureFormat, targetFeatureSplit\n",
        "\n",
        "\n",
        "# Provided to give you a starting point. Try a variety of classifiers.\n",
        "from sklearn.naive_bayes import GaussianNB\n",
        "from sklearn.svm import SVC\n",
        "from sklearn.linear_model import LogisticRegression\n",
        "from sklearn.ensemble import RandomForestClassifier\n",
        "from final_project.tester import test_classifier\n",
        "from sklearn.ensemble import GradientBoostingClassifier\n",
        "from sklearn.tree import DecisionTreeClassifier"
      ],
      "metadata": {
        "id": "JSbclPXiuiXd",
        "colab": {
          "base_uri": "https://localhost:8080/"
        },
        "outputId": "2783ab58-8075-42d1-a86c-240b1f46a229"
      },
      "execution_count": 3,
      "outputs": [
        {
          "output_type": "stream",
          "name": "stderr",
          "text": [
            "/usr/local/lib/python3.7/dist-packages/distributed/config.py:20: YAMLLoadWarning: calling yaml.load() without Loader=... is deprecated, as the default Loader is unsafe. Please read https://msg.pyyaml.org/load for full details.\n",
            "  defaults = yaml.load(f)\n"
          ]
        }
      ]
    },
    {
      "cell_type": "markdown",
      "source": [
        "# 3. Loading the data:"
      ],
      "metadata": {
        "id": "PEOdGVgYLxRh"
      }
    },
    {
      "cell_type": "code",
      "source": [
        "### Load the dictionary containing the dataset\n",
        "with open(\"/content/final_project/final_project_dataset.pkl\", \"rb\") as data_file:\n",
        "    data_dict = pickle.load(data_file)"
      ],
      "metadata": {
        "id": "z4ANdoUHLwPM"
      },
      "execution_count": 4,
      "outputs": []
    },
    {
      "cell_type": "markdown",
      "source": [
        "# 4. Getting the data Ready:"
      ],
      "metadata": {
        "id": "qo8QahofL4G7"
      }
    },
    {
      "cell_type": "markdown",
      "source": [
        "In the intial run we will take all the available features and then based on analysis report we will select the best ones. "
      ],
      "metadata": {
        "id": "fjzZgpj6MFKy"
      }
    },
    {
      "cell_type": "code",
      "source": [
        "### Task 1: Select what features you'll use.\n",
        "### features_list is a list of strings, each of which is a feature name.\n",
        "### The first feature must be \"poi\".\n",
        "features_list = ['poi', 'salary', 'deferral_payments', 'total_payments', 'loan_advances',\n",
        "                 'bonus', 'restricted_stock_deferred', 'deferred_income',\n",
        "                 'total_stock_value', 'expenses', 'exercised_stock_options',\n",
        "                 'other', 'long_term_incentive', 'restricted_stock', 'director_fees',\n",
        "                 'to_messages', 'from_poi_to_this_person', 'from_messages',\n",
        "                 'from_this_person_to_poi', 'shared_receipt_with_poi'] "
      ],
      "metadata": {
        "id": "wvXCwNYVL2TF"
      },
      "execution_count": 5,
      "outputs": []
    },
    {
      "cell_type": "code",
      "source": [
        "### Store to my_dataset for easy export below.\n",
        "my_dataset = data_dict\n",
        "\n",
        "### Extract features and labels from dataset for local testing\n",
        "data = featureFormat(my_dataset, features_list, sort_keys = True)\n",
        "\n",
        "### converting the data to df for some analysis and exploration\n",
        "my_data = pd.DataFrame(data, columns=features_list)\n",
        "my_data.head()"
      ],
      "metadata": {
        "id": "jMT6rxQ-usfH",
        "colab": {
          "base_uri": "https://localhost:8080/",
          "height": 270
        },
        "outputId": "0378b4af-3f8c-40df-de9d-9c680b264139"
      },
      "execution_count": 112,
      "outputs": [
        {
          "output_type": "execute_result",
          "data": {
            "text/html": [
              "\n",
              "  <div id=\"df-05b3e379-643d-421a-9328-55692d6d2e88\">\n",
              "    <div class=\"colab-df-container\">\n",
              "      <div>\n",
              "<style scoped>\n",
              "    .dataframe tbody tr th:only-of-type {\n",
              "        vertical-align: middle;\n",
              "    }\n",
              "\n",
              "    .dataframe tbody tr th {\n",
              "        vertical-align: top;\n",
              "    }\n",
              "\n",
              "    .dataframe thead th {\n",
              "        text-align: right;\n",
              "    }\n",
              "</style>\n",
              "<table border=\"1\" class=\"dataframe\">\n",
              "  <thead>\n",
              "    <tr style=\"text-align: right;\">\n",
              "      <th></th>\n",
              "      <th>poi</th>\n",
              "      <th>salary</th>\n",
              "      <th>deferral_payments</th>\n",
              "      <th>total_payments</th>\n",
              "      <th>loan_advances</th>\n",
              "      <th>bonus</th>\n",
              "      <th>restricted_stock_deferred</th>\n",
              "      <th>deferred_income</th>\n",
              "      <th>total_stock_value</th>\n",
              "      <th>expenses</th>\n",
              "      <th>exercised_stock_options</th>\n",
              "      <th>other</th>\n",
              "      <th>long_term_incentive</th>\n",
              "      <th>restricted_stock</th>\n",
              "      <th>director_fees</th>\n",
              "      <th>to_messages</th>\n",
              "      <th>from_poi_to_this_person</th>\n",
              "      <th>from_messages</th>\n",
              "      <th>from_this_person_to_poi</th>\n",
              "      <th>shared_receipt_with_poi</th>\n",
              "    </tr>\n",
              "  </thead>\n",
              "  <tbody>\n",
              "    <tr>\n",
              "      <th>0</th>\n",
              "      <td>0.0</td>\n",
              "      <td>201955.0</td>\n",
              "      <td>2869717.0</td>\n",
              "      <td>4484442.0</td>\n",
              "      <td>0.0</td>\n",
              "      <td>4175000.0</td>\n",
              "      <td>-126027.0</td>\n",
              "      <td>-3081055.0</td>\n",
              "      <td>1729541.0</td>\n",
              "      <td>13868.0</td>\n",
              "      <td>1729541.0</td>\n",
              "      <td>152.0</td>\n",
              "      <td>304805.0</td>\n",
              "      <td>126027.0</td>\n",
              "      <td>0.0</td>\n",
              "      <td>2902.0</td>\n",
              "      <td>47.0</td>\n",
              "      <td>2195.0</td>\n",
              "      <td>65.0</td>\n",
              "      <td>1407.0</td>\n",
              "    </tr>\n",
              "    <tr>\n",
              "      <th>1</th>\n",
              "      <td>0.0</td>\n",
              "      <td>0.0</td>\n",
              "      <td>178980.0</td>\n",
              "      <td>182466.0</td>\n",
              "      <td>0.0</td>\n",
              "      <td>0.0</td>\n",
              "      <td>0.0</td>\n",
              "      <td>0.0</td>\n",
              "      <td>257817.0</td>\n",
              "      <td>3486.0</td>\n",
              "      <td>257817.0</td>\n",
              "      <td>0.0</td>\n",
              "      <td>0.0</td>\n",
              "      <td>0.0</td>\n",
              "      <td>0.0</td>\n",
              "      <td>0.0</td>\n",
              "      <td>0.0</td>\n",
              "      <td>0.0</td>\n",
              "      <td>0.0</td>\n",
              "      <td>0.0</td>\n",
              "    </tr>\n",
              "    <tr>\n",
              "      <th>2</th>\n",
              "      <td>0.0</td>\n",
              "      <td>477.0</td>\n",
              "      <td>0.0</td>\n",
              "      <td>916197.0</td>\n",
              "      <td>0.0</td>\n",
              "      <td>0.0</td>\n",
              "      <td>-560222.0</td>\n",
              "      <td>-5104.0</td>\n",
              "      <td>5243487.0</td>\n",
              "      <td>56301.0</td>\n",
              "      <td>4046157.0</td>\n",
              "      <td>864523.0</td>\n",
              "      <td>0.0</td>\n",
              "      <td>1757552.0</td>\n",
              "      <td>0.0</td>\n",
              "      <td>566.0</td>\n",
              "      <td>39.0</td>\n",
              "      <td>29.0</td>\n",
              "      <td>0.0</td>\n",
              "      <td>465.0</td>\n",
              "    </tr>\n",
              "    <tr>\n",
              "      <th>3</th>\n",
              "      <td>0.0</td>\n",
              "      <td>267102.0</td>\n",
              "      <td>1295738.0</td>\n",
              "      <td>5634343.0</td>\n",
              "      <td>0.0</td>\n",
              "      <td>1200000.0</td>\n",
              "      <td>0.0</td>\n",
              "      <td>-1386055.0</td>\n",
              "      <td>10623258.0</td>\n",
              "      <td>11200.0</td>\n",
              "      <td>6680544.0</td>\n",
              "      <td>2660303.0</td>\n",
              "      <td>1586055.0</td>\n",
              "      <td>3942714.0</td>\n",
              "      <td>0.0</td>\n",
              "      <td>0.0</td>\n",
              "      <td>0.0</td>\n",
              "      <td>0.0</td>\n",
              "      <td>0.0</td>\n",
              "      <td>0.0</td>\n",
              "    </tr>\n",
              "    <tr>\n",
              "      <th>4</th>\n",
              "      <td>0.0</td>\n",
              "      <td>239671.0</td>\n",
              "      <td>260455.0</td>\n",
              "      <td>827696.0</td>\n",
              "      <td>0.0</td>\n",
              "      <td>400000.0</td>\n",
              "      <td>-82782.0</td>\n",
              "      <td>-201641.0</td>\n",
              "      <td>63014.0</td>\n",
              "      <td>129142.0</td>\n",
              "      <td>0.0</td>\n",
              "      <td>69.0</td>\n",
              "      <td>0.0</td>\n",
              "      <td>145796.0</td>\n",
              "      <td>0.0</td>\n",
              "      <td>0.0</td>\n",
              "      <td>0.0</td>\n",
              "      <td>0.0</td>\n",
              "      <td>0.0</td>\n",
              "      <td>0.0</td>\n",
              "    </tr>\n",
              "  </tbody>\n",
              "</table>\n",
              "</div>\n",
              "      <button class=\"colab-df-convert\" onclick=\"convertToInteractive('df-05b3e379-643d-421a-9328-55692d6d2e88')\"\n",
              "              title=\"Convert this dataframe to an interactive table.\"\n",
              "              style=\"display:none;\">\n",
              "        \n",
              "  <svg xmlns=\"http://www.w3.org/2000/svg\" height=\"24px\"viewBox=\"0 0 24 24\"\n",
              "       width=\"24px\">\n",
              "    <path d=\"M0 0h24v24H0V0z\" fill=\"none\"/>\n",
              "    <path d=\"M18.56 5.44l.94 2.06.94-2.06 2.06-.94-2.06-.94-.94-2.06-.94 2.06-2.06.94zm-11 1L8.5 8.5l.94-2.06 2.06-.94-2.06-.94L8.5 2.5l-.94 2.06-2.06.94zm10 10l.94 2.06.94-2.06 2.06-.94-2.06-.94-.94-2.06-.94 2.06-2.06.94z\"/><path d=\"M17.41 7.96l-1.37-1.37c-.4-.4-.92-.59-1.43-.59-.52 0-1.04.2-1.43.59L10.3 9.45l-7.72 7.72c-.78.78-.78 2.05 0 2.83L4 21.41c.39.39.9.59 1.41.59.51 0 1.02-.2 1.41-.59l7.78-7.78 2.81-2.81c.8-.78.8-2.07 0-2.86zM5.41 20L4 18.59l7.72-7.72 1.47 1.35L5.41 20z\"/>\n",
              "  </svg>\n",
              "      </button>\n",
              "      \n",
              "  <style>\n",
              "    .colab-df-container {\n",
              "      display:flex;\n",
              "      flex-wrap:wrap;\n",
              "      gap: 12px;\n",
              "    }\n",
              "\n",
              "    .colab-df-convert {\n",
              "      background-color: #E8F0FE;\n",
              "      border: none;\n",
              "      border-radius: 50%;\n",
              "      cursor: pointer;\n",
              "      display: none;\n",
              "      fill: #1967D2;\n",
              "      height: 32px;\n",
              "      padding: 0 0 0 0;\n",
              "      width: 32px;\n",
              "    }\n",
              "\n",
              "    .colab-df-convert:hover {\n",
              "      background-color: #E2EBFA;\n",
              "      box-shadow: 0px 1px 2px rgba(60, 64, 67, 0.3), 0px 1px 3px 1px rgba(60, 64, 67, 0.15);\n",
              "      fill: #174EA6;\n",
              "    }\n",
              "\n",
              "    [theme=dark] .colab-df-convert {\n",
              "      background-color: #3B4455;\n",
              "      fill: #D2E3FC;\n",
              "    }\n",
              "\n",
              "    [theme=dark] .colab-df-convert:hover {\n",
              "      background-color: #434B5C;\n",
              "      box-shadow: 0px 1px 3px 1px rgba(0, 0, 0, 0.15);\n",
              "      filter: drop-shadow(0px 1px 2px rgba(0, 0, 0, 0.3));\n",
              "      fill: #FFFFFF;\n",
              "    }\n",
              "  </style>\n",
              "\n",
              "      <script>\n",
              "        const buttonEl =\n",
              "          document.querySelector('#df-05b3e379-643d-421a-9328-55692d6d2e88 button.colab-df-convert');\n",
              "        buttonEl.style.display =\n",
              "          google.colab.kernel.accessAllowed ? 'block' : 'none';\n",
              "\n",
              "        async function convertToInteractive(key) {\n",
              "          const element = document.querySelector('#df-05b3e379-643d-421a-9328-55692d6d2e88');\n",
              "          const dataTable =\n",
              "            await google.colab.kernel.invokeFunction('convertToInteractive',\n",
              "                                                     [key], {});\n",
              "          if (!dataTable) return;\n",
              "\n",
              "          const docLinkHtml = 'Like what you see? Visit the ' +\n",
              "            '<a target=\"_blank\" href=https://colab.research.google.com/notebooks/data_table.ipynb>data table notebook</a>'\n",
              "            + ' to learn more about interactive tables.';\n",
              "          element.innerHTML = '';\n",
              "          dataTable['output_type'] = 'display_data';\n",
              "          await google.colab.output.renderOutput(dataTable, element);\n",
              "          const docLink = document.createElement('div');\n",
              "          docLink.innerHTML = docLinkHtml;\n",
              "          element.appendChild(docLink);\n",
              "        }\n",
              "      </script>\n",
              "    </div>\n",
              "  </div>\n",
              "  "
            ],
            "text/plain": [
              "   poi    salary  ...  from_this_person_to_poi  shared_receipt_with_poi\n",
              "0  0.0  201955.0  ...                     65.0                   1407.0\n",
              "1  0.0       0.0  ...                      0.0                      0.0\n",
              "2  0.0     477.0  ...                      0.0                    465.0\n",
              "3  0.0  267102.0  ...                      0.0                      0.0\n",
              "4  0.0  239671.0  ...                      0.0                      0.0\n",
              "\n",
              "[5 rows x 20 columns]"
            ]
          },
          "metadata": {},
          "execution_count": 112
        }
      ]
    },
    {
      "cell_type": "markdown",
      "source": [
        "### i. Exploratory Data Analysis"
      ],
      "metadata": {
        "id": "KJ0gCxSPMoVQ"
      }
    },
    {
      "cell_type": "code",
      "source": [
        "# inspect info\n",
        "my_data.info()"
      ],
      "metadata": {
        "colab": {
          "base_uri": "https://localhost:8080/"
        },
        "id": "OZKGR08_Mj-4",
        "outputId": "d715980a-7efa-4b29-d95d-de137ace99c7"
      },
      "execution_count": 59,
      "outputs": [
        {
          "output_type": "stream",
          "name": "stdout",
          "text": [
            "<class 'pandas.core.frame.DataFrame'>\n",
            "RangeIndex: 145 entries, 0 to 144\n",
            "Data columns (total 20 columns):\n",
            " #   Column                     Non-Null Count  Dtype  \n",
            "---  ------                     --------------  -----  \n",
            " 0   poi                        145 non-null    float64\n",
            " 1   salary                     145 non-null    float64\n",
            " 2   deferral_payments          145 non-null    float64\n",
            " 3   total_payments             145 non-null    float64\n",
            " 4   loan_advances              145 non-null    float64\n",
            " 5   bonus                      145 non-null    float64\n",
            " 6   restricted_stock_deferred  145 non-null    float64\n",
            " 7   deferred_income            145 non-null    float64\n",
            " 8   total_stock_value          145 non-null    float64\n",
            " 9   expenses                   145 non-null    float64\n",
            " 10  exercised_stock_options    145 non-null    float64\n",
            " 11  other                      145 non-null    float64\n",
            " 12  long_term_incentive        145 non-null    float64\n",
            " 13  restricted_stock           145 non-null    float64\n",
            " 14  director_fees              145 non-null    float64\n",
            " 15  to_messages                145 non-null    float64\n",
            " 16  from_poi_to_this_person    145 non-null    float64\n",
            " 17  from_messages              145 non-null    float64\n",
            " 18  from_this_person_to_poi    145 non-null    float64\n",
            " 19  shared_receipt_with_poi    145 non-null    float64\n",
            "dtypes: float64(20)\n",
            "memory usage: 22.8 KB\n"
          ]
        }
      ]
    },
    {
      "cell_type": "markdown",
      "source": [
        "**We see no missing values because they were imputed with '0'. But it doesnt mean that there is no missing values. We will find their % later.**"
      ],
      "metadata": {
        "id": "m9ed2lQvMxlW"
      }
    },
    {
      "cell_type": "markdown",
      "source": [
        "#### (A). Total Number of data points and their distribution across different classes (poi/non-poi)"
      ],
      "metadata": {
        "id": "iAx2adndNREn"
      }
    },
    {
      "cell_type": "code",
      "source": [
        "### how many data points we have?\n",
        "len(my_data)"
      ],
      "metadata": {
        "colab": {
          "base_uri": "https://localhost:8080/"
        },
        "id": "K4D8lOo6NisF",
        "outputId": "3929812d-1e26-4fb2-c25a-a49033a3cd1f"
      },
      "execution_count": 8,
      "outputs": [
        {
          "output_type": "execute_result",
          "data": {
            "text/plain": [
              "145"
            ]
          },
          "metadata": {},
          "execution_count": 8
        }
      ]
    },
    {
      "cell_type": "code",
      "source": [
        "### distribution across different classes\n",
        "plt.title('Data Points(Obs) per class')\n",
        "plt.xlabel('Class/Label')\n",
        "plt.ylabel('Count')\n",
        "my_data['poi'].value_counts().plot.bar()\n",
        "plt.xticks([0, 1], labels=['Non-POI', 'POI'], rotation=45)\n",
        "plt.show()"
      ],
      "metadata": {
        "colab": {
          "base_uri": "https://localhost:8080/",
          "height": 400
        },
        "id": "8n4g9Wt6Mw8O",
        "outputId": "aaa1c4a7-31b3-43d2-c6fc-9c6295f4734b"
      },
      "execution_count": 9,
      "outputs": [
        {
          "output_type": "display_data",
          "data": {
            "image/png": "[encoded data removed]",
            "text/plain": [
              "<Figure size 576x396 with 1 Axes>"
            ]
          },
          "metadata": {}
        }
      ]
    },
    {
      "cell_type": "markdown",
      "source": [
        "#### (B). Looking up for the missing values in availble features and filtereing the ones with less than 50% missing values. "
      ],
      "metadata": {
        "id": "JDO9qzr6Oqup"
      }
    },
    {
      "cell_type": "code",
      "source": [
        "### find how many values are missing in each column\n",
        "filtered_features_missing = []\n",
        "missing_count = []\n",
        "for col in features_list[1:]:\n",
        "  missing_vals = len(my_data[col][np.where(my_data[col]==0)[0]])\n",
        "  missing_count.append(missing_vals)\n",
        "  total_vals = len(my_data[col])\n",
        "  ptc_missing = missing_vals / total_vals\n",
        "  if ptc_missing < 0.5:\n",
        "    filtered_features_missing.append(col)\n",
        "  print(f'{col} = {ptc_missing:.2f}%')"
      ],
      "metadata": {
        "id": "JMbQ4I0KTdVq",
        "colab": {
          "base_uri": "https://localhost:8080/"
        },
        "outputId": "066ca606-358e-4117-d3ba-13510c532afa"
      },
      "execution_count": 10,
      "outputs": [
        {
          "output_type": "stream",
          "name": "stdout",
          "text": [
            "salary = 0.34%\n",
            "deferral_payments = 0.73%\n",
            "total_payments = 0.14%\n",
            "loan_advances = 0.97%\n",
            "bonus = 0.43%\n",
            "restricted_stock_deferred = 0.88%\n",
            "deferred_income = 0.66%\n",
            "total_stock_value = 0.13%\n",
            "expenses = 0.34%\n",
            "exercised_stock_options = 0.30%\n",
            "other = 0.36%\n",
            "long_term_incentive = 0.54%\n",
            "restricted_stock = 0.24%\n",
            "director_fees = 0.88%\n",
            "to_messages = 0.41%\n",
            "from_poi_to_this_person = 0.49%\n",
            "from_messages = 0.41%\n",
            "from_this_person_to_poi = 0.54%\n",
            "shared_receipt_with_poi = 0.41%\n"
          ]
        }
      ]
    },
    {
      "cell_type": "code",
      "source": [
        "### Visualizing the missing values (by count)\n",
        "plt.figure(figsize=(10,5))\n",
        "sns.barplot(x=features_list[1:], y=missing_count)\n",
        "plt.xticks(rotation=90)\n",
        "plt.title('Missing Values per feature out of 140.')\n",
        "plt.xlabel('Feature')\n",
        "plt.ylabel('Missing value count')\n",
        "plt.show()"
      ],
      "metadata": {
        "id": "gcUv7amCUHxb",
        "colab": {
          "base_uri": "https://localhost:8080/",
          "height": 452
        },
        "outputId": "d0e8bc6b-9821-4342-8690-7fb447b1d706"
      },
      "execution_count": 11,
      "outputs": [
        {
          "output_type": "display_data",
          "data": {
            "image/png": "[encoded data removed]",
            "text/plain": [
              "<Figure size 720x360 with 1 Axes>"
            ]
          },
          "metadata": {}
        }
      ]
    },
    {
      "cell_type": "code",
      "source": [
        "### some filtered features those are having less than 50% missing values\n",
        "filtered_features_missing"
      ],
      "metadata": {
        "colab": {
          "base_uri": "https://localhost:8080/"
        },
        "id": "l7TDK06maryU",
        "outputId": "d6ef8281-4b4e-4ec0-9355-01e885bd61f5"
      },
      "execution_count": 12,
      "outputs": [
        {
          "output_type": "execute_result",
          "data": {
            "text/plain": [
              "['salary',\n",
              " 'total_payments',\n",
              " 'bonus',\n",
              " 'total_stock_value',\n",
              " 'expenses',\n",
              " 'exercised_stock_options',\n",
              " 'other',\n",
              " 'restricted_stock',\n",
              " 'to_messages',\n",
              " 'from_poi_to_this_person',\n",
              " 'from_messages',\n",
              " 'shared_receipt_with_poi']"
            ]
          },
          "metadata": {},
          "execution_count": 12
        }
      ]
    },
    {
      "cell_type": "markdown",
      "source": [
        "#### (C). Finding the correlation between dependent and independant variable"
      ],
      "metadata": {
        "id": "rU3MglNkQTXO"
      }
    },
    {
      "cell_type": "code",
      "source": [
        "my_data.corr().iloc[0]"
      ],
      "metadata": {
        "colab": {
          "base_uri": "https://localhost:8080/"
        },
        "id": "PFPg2eZtR4jc",
        "outputId": "3b8010e0-ce78-42b0-9206-2f37353a498c"
      },
      "execution_count": 13,
      "outputs": [
        {
          "output_type": "execute_result",
          "data": {
            "text/plain": [
              "poi                          1.000000\n",
              "salary                      -0.001058\n",
              "deferral_payments           -0.040847\n",
              "total_payments               0.049386\n",
              "loan_advances                0.131550\n",
              "bonus                        0.023341\n",
              "restricted_stock_deferred   -0.005402\n",
              "deferred_income             -0.039149\n",
              "total_stock_value            0.034064\n",
              "expenses                    -0.009886\n",
              "exercised_stock_options      0.039922\n",
              "other                        0.021832\n",
              "long_term_incentive          0.012467\n",
              "restricted_stock             0.014801\n",
              "director_fees               -0.061847\n",
              "to_messages                  0.110006\n",
              "from_poi_to_this_person      0.191549\n",
              "from_messages               -0.033302\n",
              "from_this_person_to_poi      0.130319\n",
              "shared_receipt_with_poi      0.242105\n",
              "Name: poi, dtype: float64"
            ]
          },
          "metadata": {},
          "execution_count": 13
        }
      ]
    },
    {
      "cell_type": "code",
      "source": [
        "### find the correlation in all_features\n",
        "plt.figure(figsize=(10, 10))\n",
        "sns.heatmap(my_data.corr());"
      ],
      "metadata": {
        "colab": {
          "base_uri": "https://localhost:8080/",
          "height": 699
        },
        "id": "7UaSPd3RcxoO",
        "outputId": "7652eebe-9548-49b8-a958-d5755032dec5"
      },
      "execution_count": null,
      "outputs": [
        {
          "output_type": "display_data",
          "data": {
            "image/png": "[encoded data removed]",
            "text/plain": [
              "<Figure size 720x720 with 2 Axes>"
            ]
          },
          "metadata": {
            "needs_background": "light"
          }
        }
      ]
    },
    {
      "cell_type": "markdown",
      "source": [
        "**There is no super corelation.**"
      ],
      "metadata": {
        "id": "y7tSt4K9Qd1b"
      }
    },
    {
      "cell_type": "markdown",
      "source": [
        "#### (D). Is the Data Balanced?"
      ],
      "metadata": {
        "id": "05Ghz51DQqKn"
      }
    },
    {
      "cell_type": "code",
      "source": [
        "pd.DataFrame(data_dict).T['poi'].value_counts()"
      ],
      "metadata": {
        "colab": {
          "base_uri": "https://localhost:8080/"
        },
        "id": "nWvQf2sAeCu8",
        "outputId": "a47bd9f0-0eb0-4560-99ed-60e873a34d71"
      },
      "execution_count": 14,
      "outputs": [
        {
          "output_type": "execute_result",
          "data": {
            "text/plain": [
              "False    128\n",
              "True      18\n",
              "Name: poi, dtype: int64"
            ]
          },
          "metadata": {},
          "execution_count": 14
        }
      ]
    },
    {
      "cell_type": "markdown",
      "source": [
        "**Data is very much imbalanced and more biased to class 0.**"
      ],
      "metadata": {
        "id": "e2flSEAweiap"
      }
    },
    {
      "cell_type": "markdown",
      "source": [
        "### ii. Data Preparation\n",
        "We will prepare the data for better analysis and modeling. We will\n",
        "1. Remove the outliers\n",
        "2. Create new feature(s)\n",
        "3. Select higly correlated features"
      ],
      "metadata": {
        "id": "QcbmwQhnTXKm"
      }
    },
    {
      "cell_type": "markdown",
      "source": [
        "#### 1. Outliers detection and removal"
      ],
      "metadata": {
        "id": "K1-dhGMu7myS"
      }
    },
    {
      "cell_type": "markdown",
      "source": [
        "**Inspecting with box plot**"
      ],
      "metadata": {
        "id": "_b_QGZ_dADTv"
      }
    },
    {
      "cell_type": "code",
      "source": [
        "### Task 2: Remove outliers\n",
        "\n",
        "for i in range(1, len(features_list)):\n",
        "  plt.figure(figsize = (10,20))\n",
        "  plt.subplot(10, 2, i)\n",
        "  sns.boxplot(data=my_data[features_list[i]])\n",
        "  plt.ticklabel_format(style='plain', axis='y')\n",
        "  plt.xlabel(features_list[i])\n",
        "  plt.tight_layout()\n"
      ],
      "metadata": {
        "colab": {
          "base_uri": "https://localhost:8080/",
          "height": 1000
        },
        "id": "qPtmQSHk7upG",
        "outputId": "43f4ca82-265b-45d5-f2e0-e5f504505e26"
      },
      "execution_count": 60,
      "outputs": [
        {
          "output_type": "display_data",
          "data": {
            "image/png": "[encoded data removed]",
            "text/plain": [
              "<Figure size 720x1440 with 1 Axes>"
            ]
          },
          "metadata": {}
        },
        {
          "output_type": "display_data",
          "data": {
            "image/png": "[encoded data removed]",
            "text/plain": [
              "<Figure size 720x1440 with 1 Axes>"
            ]
          },
          "metadata": {}
        },
        {
          "output_type": "display_data",
          "data": {
            "image/png": "[encoded data removed]",
            "text/plain": [
              "<Figure size 720x1440 with 1 Axes>"
            ]
          },
          "metadata": {}
        },
        {
          "output_type": "display_data",
          "data": {
            "image/png": "[encoded data removed]",
            "text/plain": [
              "<Figure size 720x1440 with 1 Axes>"
            ]
          },
          "metadata": {}
        },
        {
          "output_type": "display_data",
          "data": {
            "image/png": "[encoded data removed]",
            "text/plain": [
              "<Figure size 720x1440 with 1 Axes>"
            ]
          },
          "metadata": {}
        },
        {
          "output_type": "display_data",
          "data": {
            "image/png": "[encoded data removed]",
            "text/plain": [
              "<Figure size 720x1440 with 1 Axes>"
            ]
          },
          "metadata": {}
        },
        {
          "output_type": "display_data",
          "data": {
            "image/png": "[encoded data removed]",
            "text/plain": [
              "<Figure size 720x1440 with 1 Axes>"
            ]
          },
          "metadata": {}
        },
        {
          "output_type": "display_data",
          "data": {
            "image/png": "[encoded data removed]",
            "text/plain": [
              "<Figure size 720x1440 with 1 Axes>"
            ]
          },
          "metadata": {}
        },
        {
          "output_type": "display_data",
          "data": {
            "image/png": "[encoded data removed]",
            "text/plain": [
              "<Figure size 720x1440 with 1 Axes>"
            ]
          },
          "metadata": {}
        },
        {
          "output_type": "display_data",
          "data": {
            "image/png": "[encoded data removed]",
            "text/plain": [
              "<Figure size 720x1440 with 1 Axes>"
            ]
          },
          "metadata": {}
        },
        {
          "output_type": "display_data",
          "data": {
            "image/png": "[encoded data removed]",
            "text/plain": [
              "<Figure size 720x1440 with 1 Axes>"
            ]
          },
          "metadata": {}
        },
        {
          "output_type": "display_data",
          "data": {
            "image/png": "[encoded data removed]",
            "text/plain": [
              "<Figure size 720x1440 with 1 Axes>"
            ]
          },
          "metadata": {}
        },
        {
          "output_type": "display_data",
          "data": {
            "image/png": "[encoded data removed]",
            "text/plain": [
              "<Figure size 720x1440 with 1 Axes>"
            ]
          },
          "metadata": {}
        },
        {
          "output_type": "display_data",
          "data": {
            "image/png": "[encoded data removed]",
            "text/plain": [
              "<Figure size 720x1440 with 1 Axes>"
            ]
          },
          "metadata": {}
        },
        {
          "output_type": "display_data",
          "data": {
            "image/png": "[encoded data removed]",
            "text/plain": [
              "<Figure size 720x1440 with 1 Axes>"
            ]
          },
          "metadata": {}
        },
        {
          "output_type": "display_data",
          "data": {
            "image/png": "[encoded data removed]",
            "text/plain": [
              "<Figure size 720x1440 with 1 Axes>"
            ]
          },
          "metadata": {}
        },
        {
          "output_type": "display_data",
          "data": {
            "image/png": "[encoded data removed]",
            "text/plain": [
              "<Figure size 720x1440 with 1 Axes>"
            ]
          },
          "metadata": {}
        },
        {
          "output_type": "display_data",
          "data": {
            "image/png": "[encoded data removed]",
            "text/plain": [
              "<Figure size 720x1440 with 1 Axes>"
            ]
          },
          "metadata": {}
        },
        {
          "output_type": "display_data",
          "data": {
            "image/png": "[encoded data removed]",
            "text/plain": [
              "<Figure size 720x1440 with 1 Axes>"
            ]
          },
          "metadata": {}
        }
      ]
    },
    {
      "cell_type": "code",
      "source": [
        "my_data[my_data.salary == max(my_data.salary)]"
      ],
      "metadata": {
        "colab": {
          "base_uri": "https://localhost:8080/",
          "height": 145
        },
        "id": "CWoPzM693uuv",
        "outputId": "e35707fd-2514-4e28-d1ed-7deb65b0b89d"
      },
      "execution_count": 113,
      "outputs": [
        {
          "output_type": "execute_result",
          "data": {
            "text/html": [
              "\n",
              "  <div id=\"df-8ffb1840-0e06-4f4a-927e-5390b5df6b37\">\n",
              "    <div class=\"colab-df-container\">\n",
              "      <div>\n",
              "<style scoped>\n",
              "    .dataframe tbody tr th:only-of-type {\n",
              "        vertical-align: middle;\n",
              "    }\n",
              "\n",
              "    .dataframe tbody tr th {\n",
              "        vertical-align: top;\n",
              "    }\n",
              "\n",
              "    .dataframe thead th {\n",
              "        text-align: right;\n",
              "    }\n",
              "</style>\n",
              "<table border=\"1\" class=\"dataframe\">\n",
              "  <thead>\n",
              "    <tr style=\"text-align: right;\">\n",
              "      <th></th>\n",
              "      <th>poi</th>\n",
              "      <th>salary</th>\n",
              "      <th>deferral_payments</th>\n",
              "      <th>total_payments</th>\n",
              "      <th>loan_advances</th>\n",
              "      <th>bonus</th>\n",
              "      <th>restricted_stock_deferred</th>\n",
              "      <th>deferred_income</th>\n",
              "      <th>total_stock_value</th>\n",
              "      <th>expenses</th>\n",
              "      <th>exercised_stock_options</th>\n",
              "      <th>other</th>\n",
              "      <th>long_term_incentive</th>\n",
              "      <th>restricted_stock</th>\n",
              "      <th>director_fees</th>\n",
              "      <th>to_messages</th>\n",
              "      <th>from_poi_to_this_person</th>\n",
              "      <th>from_messages</th>\n",
              "      <th>from_this_person_to_poi</th>\n",
              "      <th>shared_receipt_with_poi</th>\n",
              "    </tr>\n",
              "  </thead>\n",
              "  <tbody>\n",
              "    <tr>\n",
              "      <th>129</th>\n",
              "      <td>0.0</td>\n",
              "      <td>26704229.0</td>\n",
              "      <td>32083396.0</td>\n",
              "      <td>309886585.0</td>\n",
              "      <td>83925000.0</td>\n",
              "      <td>97343619.0</td>\n",
              "      <td>-7576788.0</td>\n",
              "      <td>-27992891.0</td>\n",
              "      <td>434509511.0</td>\n",
              "      <td>5235198.0</td>\n",
              "      <td>311764000.0</td>\n",
              "      <td>42667589.0</td>\n",
              "      <td>48521928.0</td>\n",
              "      <td>130322299.0</td>\n",
              "      <td>1398517.0</td>\n",
              "      <td>0.0</td>\n",
              "      <td>0.0</td>\n",
              "      <td>0.0</td>\n",
              "      <td>0.0</td>\n",
              "      <td>0.0</td>\n",
              "    </tr>\n",
              "  </tbody>\n",
              "</table>\n",
              "</div>\n",
              "      <button class=\"colab-df-convert\" onclick=\"convertToInteractive('df-8ffb1840-0e06-4f4a-927e-5390b5df6b37')\"\n",
              "              title=\"Convert this dataframe to an interactive table.\"\n",
              "              style=\"display:none;\">\n",
              "        \n",
              "  <svg xmlns=\"http://www.w3.org/2000/svg\" height=\"24px\"viewBox=\"0 0 24 24\"\n",
              "       width=\"24px\">\n",
              "    <path d=\"M0 0h24v24H0V0z\" fill=\"none\"/>\n",
              "    <path d=\"M18.56 5.44l.94 2.06.94-2.06 2.06-.94-2.06-.94-.94-2.06-.94 2.06-2.06.94zm-11 1L8.5 8.5l.94-2.06 2.06-.94-2.06-.94L8.5 2.5l-.94 2.06-2.06.94zm10 10l.94 2.06.94-2.06 2.06-.94-2.06-.94-.94-2.06-.94 2.06-2.06.94z\"/><path d=\"M17.41 7.96l-1.37-1.37c-.4-.4-.92-.59-1.43-.59-.52 0-1.04.2-1.43.59L10.3 9.45l-7.72 7.72c-.78.78-.78 2.05 0 2.83L4 21.41c.39.39.9.59 1.41.59.51 0 1.02-.2 1.41-.59l7.78-7.78 2.81-2.81c.8-.78.8-2.07 0-2.86zM5.41 20L4 18.59l7.72-7.72 1.47 1.35L5.41 20z\"/>\n",
              "  </svg>\n",
              "      </button>\n",
              "      \n",
              "  <style>\n",
              "    .colab-df-container {\n",
              "      display:flex;\n",
              "      flex-wrap:wrap;\n",
              "      gap: 12px;\n",
              "    }\n",
              "\n",
              "    .colab-df-convert {\n",
              "      background-color: #E8F0FE;\n",
              "      border: none;\n",
              "      border-radius: 50%;\n",
              "      cursor: pointer;\n",
              "      display: none;\n",
              "      fill: #1967D2;\n",
              "      height: 32px;\n",
              "      padding: 0 0 0 0;\n",
              "      width: 32px;\n",
              "    }\n",
              "\n",
              "    .colab-df-convert:hover {\n",
              "      background-color: #E2EBFA;\n",
              "      box-shadow: 0px 1px 2px rgba(60, 64, 67, 0.3), 0px 1px 3px 1px rgba(60, 64, 67, 0.15);\n",
              "      fill: #174EA6;\n",
              "    }\n",
              "\n",
              "    [theme=dark] .colab-df-convert {\n",
              "      background-color: #3B4455;\n",
              "      fill: #D2E3FC;\n",
              "    }\n",
              "\n",
              "    [theme=dark] .colab-df-convert:hover {\n",
              "      background-color: #434B5C;\n",
              "      box-shadow: 0px 1px 3px 1px rgba(0, 0, 0, 0.15);\n",
              "      filter: drop-shadow(0px 1px 2px rgba(0, 0, 0, 0.3));\n",
              "      fill: #FFFFFF;\n",
              "    }\n",
              "  </style>\n",
              "\n",
              "      <script>\n",
              "        const buttonEl =\n",
              "          document.querySelector('#df-8ffb1840-0e06-4f4a-927e-5390b5df6b37 button.colab-df-convert');\n",
              "        buttonEl.style.display =\n",
              "          google.colab.kernel.accessAllowed ? 'block' : 'none';\n",
              "\n",
              "        async function convertToInteractive(key) {\n",
              "          const element = document.querySelector('#df-8ffb1840-0e06-4f4a-927e-5390b5df6b37');\n",
              "          const dataTable =\n",
              "            await google.colab.kernel.invokeFunction('convertToInteractive',\n",
              "                                                     [key], {});\n",
              "          if (!dataTable) return;\n",
              "\n",
              "          const docLinkHtml = 'Like what you see? Visit the ' +\n",
              "            '<a target=\"_blank\" href=https://colab.research.google.com/notebooks/data_table.ipynb>data table notebook</a>'\n",
              "            + ' to learn more about interactive tables.';\n",
              "          element.innerHTML = '';\n",
              "          dataTable['output_type'] = 'display_data';\n",
              "          await google.colab.output.renderOutput(dataTable, element);\n",
              "          const docLink = document.createElement('div');\n",
              "          docLink.innerHTML = docLinkHtml;\n",
              "          element.appendChild(docLink);\n",
              "        }\n",
              "      </script>\n",
              "    </div>\n",
              "  </div>\n",
              "  "
            ],
            "text/plain": [
              "     poi      salary  ...  from_this_person_to_poi  shared_receipt_with_poi\n",
              "129  0.0  26704229.0  ...                      0.0                      0.0\n",
              "\n",
              "[1 rows x 20 columns]"
            ]
          },
          "metadata": {},
          "execution_count": 113
        }
      ]
    },
    {
      "cell_type": "code",
      "source": [
        "my_data.head()"
      ],
      "metadata": {
        "colab": {
          "base_uri": "https://localhost:8080/",
          "height": 270
        },
        "id": "tdonY8KT4GRF",
        "outputId": "18c6b036-1bbe-4751-c274-a6fa90b05f23"
      },
      "execution_count": 114,
      "outputs": [
        {
          "output_type": "execute_result",
          "data": {
            "text/html": [
              "\n",
              "  <div id=\"df-43831881-75e8-4e97-b881-dd258734dfe0\">\n",
              "    <div class=\"colab-df-container\">\n",
              "      <div>\n",
              "<style scoped>\n",
              "    .dataframe tbody tr th:only-of-type {\n",
              "        vertical-align: middle;\n",
              "    }\n",
              "\n",
              "    .dataframe tbody tr th {\n",
              "        vertical-align: top;\n",
              "    }\n",
              "\n",
              "    .dataframe thead th {\n",
              "        text-align: right;\n",
              "    }\n",
              "</style>\n",
              "<table border=\"1\" class=\"dataframe\">\n",
              "  <thead>\n",
              "    <tr style=\"text-align: right;\">\n",
              "      <th></th>\n",
              "      <th>poi</th>\n",
              "      <th>salary</th>\n",
              "      <th>deferral_payments</th>\n",
              "      <th>total_payments</th>\n",
              "      <th>loan_advances</th>\n",
              "      <th>bonus</th>\n",
              "      <th>restricted_stock_deferred</th>\n",
              "      <th>deferred_income</th>\n",
              "      <th>total_stock_value</th>\n",
              "      <th>expenses</th>\n",
              "      <th>exercised_stock_options</th>\n",
              "      <th>other</th>\n",
              "      <th>long_term_incentive</th>\n",
              "      <th>restricted_stock</th>\n",
              "      <th>director_fees</th>\n",
              "      <th>to_messages</th>\n",
              "      <th>from_poi_to_this_person</th>\n",
              "      <th>from_messages</th>\n",
              "      <th>from_this_person_to_poi</th>\n",
              "      <th>shared_receipt_with_poi</th>\n",
              "    </tr>\n",
              "  </thead>\n",
              "  <tbody>\n",
              "    <tr>\n",
              "      <th>0</th>\n",
              "      <td>0.0</td>\n",
              "      <td>201955.0</td>\n",
              "      <td>2869717.0</td>\n",
              "      <td>4484442.0</td>\n",
              "      <td>0.0</td>\n",
              "      <td>4175000.0</td>\n",
              "      <td>-126027.0</td>\n",
              "      <td>-3081055.0</td>\n",
              "      <td>1729541.0</td>\n",
              "      <td>13868.0</td>\n",
              "      <td>1729541.0</td>\n",
              "      <td>152.0</td>\n",
              "      <td>304805.0</td>\n",
              "      <td>126027.0</td>\n",
              "      <td>0.0</td>\n",
              "      <td>2902.0</td>\n",
              "      <td>47.0</td>\n",
              "      <td>2195.0</td>\n",
              "      <td>65.0</td>\n",
              "      <td>1407.0</td>\n",
              "    </tr>\n",
              "    <tr>\n",
              "      <th>1</th>\n",
              "      <td>0.0</td>\n",
              "      <td>0.0</td>\n",
              "      <td>178980.0</td>\n",
              "      <td>182466.0</td>\n",
              "      <td>0.0</td>\n",
              "      <td>0.0</td>\n",
              "      <td>0.0</td>\n",
              "      <td>0.0</td>\n",
              "      <td>257817.0</td>\n",
              "      <td>3486.0</td>\n",
              "      <td>257817.0</td>\n",
              "      <td>0.0</td>\n",
              "      <td>0.0</td>\n",
              "      <td>0.0</td>\n",
              "      <td>0.0</td>\n",
              "      <td>0.0</td>\n",
              "      <td>0.0</td>\n",
              "      <td>0.0</td>\n",
              "      <td>0.0</td>\n",
              "      <td>0.0</td>\n",
              "    </tr>\n",
              "    <tr>\n",
              "      <th>2</th>\n",
              "      <td>0.0</td>\n",
              "      <td>477.0</td>\n",
              "      <td>0.0</td>\n",
              "      <td>916197.0</td>\n",
              "      <td>0.0</td>\n",
              "      <td>0.0</td>\n",
              "      <td>-560222.0</td>\n",
              "      <td>-5104.0</td>\n",
              "      <td>5243487.0</td>\n",
              "      <td>56301.0</td>\n",
              "      <td>4046157.0</td>\n",
              "      <td>864523.0</td>\n",
              "      <td>0.0</td>\n",
              "      <td>1757552.0</td>\n",
              "      <td>0.0</td>\n",
              "      <td>566.0</td>\n",
              "      <td>39.0</td>\n",
              "      <td>29.0</td>\n",
              "      <td>0.0</td>\n",
              "      <td>465.0</td>\n",
              "    </tr>\n",
              "    <tr>\n",
              "      <th>3</th>\n",
              "      <td>0.0</td>\n",
              "      <td>267102.0</td>\n",
              "      <td>1295738.0</td>\n",
              "      <td>5634343.0</td>\n",
              "      <td>0.0</td>\n",
              "      <td>1200000.0</td>\n",
              "      <td>0.0</td>\n",
              "      <td>-1386055.0</td>\n",
              "      <td>10623258.0</td>\n",
              "      <td>11200.0</td>\n",
              "      <td>6680544.0</td>\n",
              "      <td>2660303.0</td>\n",
              "      <td>1586055.0</td>\n",
              "      <td>3942714.0</td>\n",
              "      <td>0.0</td>\n",
              "      <td>0.0</td>\n",
              "      <td>0.0</td>\n",
              "      <td>0.0</td>\n",
              "      <td>0.0</td>\n",
              "      <td>0.0</td>\n",
              "    </tr>\n",
              "    <tr>\n",
              "      <th>4</th>\n",
              "      <td>0.0</td>\n",
              "      <td>239671.0</td>\n",
              "      <td>260455.0</td>\n",
              "      <td>827696.0</td>\n",
              "      <td>0.0</td>\n",
              "      <td>400000.0</td>\n",
              "      <td>-82782.0</td>\n",
              "      <td>-201641.0</td>\n",
              "      <td>63014.0</td>\n",
              "      <td>129142.0</td>\n",
              "      <td>0.0</td>\n",
              "      <td>69.0</td>\n",
              "      <td>0.0</td>\n",
              "      <td>145796.0</td>\n",
              "      <td>0.0</td>\n",
              "      <td>0.0</td>\n",
              "      <td>0.0</td>\n",
              "      <td>0.0</td>\n",
              "      <td>0.0</td>\n",
              "      <td>0.0</td>\n",
              "    </tr>\n",
              "  </tbody>\n",
              "</table>\n",
              "</div>\n",
              "      <button class=\"colab-df-convert\" onclick=\"convertToInteractive('df-43831881-75e8-4e97-b881-dd258734dfe0')\"\n",
              "              title=\"Convert this dataframe to an interactive table.\"\n",
              "              style=\"display:none;\">\n",
              "        \n",
              "  <svg xmlns=\"http://www.w3.org/2000/svg\" height=\"24px\"viewBox=\"0 0 24 24\"\n",
              "       width=\"24px\">\n",
              "    <path d=\"M0 0h24v24H0V0z\" fill=\"none\"/>\n",
              "    <path d=\"M18.56 5.44l.94 2.06.94-2.06 2.06-.94-2.06-.94-.94-2.06-.94 2.06-2.06.94zm-11 1L8.5 8.5l.94-2.06 2.06-.94-2.06-.94L8.5 2.5l-.94 2.06-2.06.94zm10 10l.94 2.06.94-2.06 2.06-.94-2.06-.94-.94-2.06-.94 2.06-2.06.94z\"/><path d=\"M17.41 7.96l-1.37-1.37c-.4-.4-.92-.59-1.43-.59-.52 0-1.04.2-1.43.59L10.3 9.45l-7.72 7.72c-.78.78-.78 2.05 0 2.83L4 21.41c.39.39.9.59 1.41.59.51 0 1.02-.2 1.41-.59l7.78-7.78 2.81-2.81c.8-.78.8-2.07 0-2.86zM5.41 20L4 18.59l7.72-7.72 1.47 1.35L5.41 20z\"/>\n",
              "  </svg>\n",
              "      </button>\n",
              "      \n",
              "  <style>\n",
              "    .colab-df-container {\n",
              "      display:flex;\n",
              "      flex-wrap:wrap;\n",
              "      gap: 12px;\n",
              "    }\n",
              "\n",
              "    .colab-df-convert {\n",
              "      background-color: #E8F0FE;\n",
              "      border: none;\n",
              "      border-radius: 50%;\n",
              "      cursor: pointer;\n",
              "      display: none;\n",
              "      fill: #1967D2;\n",
              "      height: 32px;\n",
              "      padding: 0 0 0 0;\n",
              "      width: 32px;\n",
              "    }\n",
              "\n",
              "    .colab-df-convert:hover {\n",
              "      background-color: #E2EBFA;\n",
              "      box-shadow: 0px 1px 2px rgba(60, 64, 67, 0.3), 0px 1px 3px 1px rgba(60, 64, 67, 0.15);\n",
              "      fill: #174EA6;\n",
              "    }\n",
              "\n",
              "    [theme=dark] .colab-df-convert {\n",
              "      background-color: #3B4455;\n",
              "      fill: #D2E3FC;\n",
              "    }\n",
              "\n",
              "    [theme=dark] .colab-df-convert:hover {\n",
              "      background-color: #434B5C;\n",
              "      box-shadow: 0px 1px 3px 1px rgba(0, 0, 0, 0.15);\n",
              "      filter: drop-shadow(0px 1px 2px rgba(0, 0, 0, 0.3));\n",
              "      fill: #FFFFFF;\n",
              "    }\n",
              "  </style>\n",
              "\n",
              "      <script>\n",
              "        const buttonEl =\n",
              "          document.querySelector('#df-43831881-75e8-4e97-b881-dd258734dfe0 button.colab-df-convert');\n",
              "        buttonEl.style.display =\n",
              "          google.colab.kernel.accessAllowed ? 'block' : 'none';\n",
              "\n",
              "        async function convertToInteractive(key) {\n",
              "          const element = document.querySelector('#df-43831881-75e8-4e97-b881-dd258734dfe0');\n",
              "          const dataTable =\n",
              "            await google.colab.kernel.invokeFunction('convertToInteractive',\n",
              "                                                     [key], {});\n",
              "          if (!dataTable) return;\n",
              "\n",
              "          const docLinkHtml = 'Like what you see? Visit the ' +\n",
              "            '<a target=\"_blank\" href=https://colab.research.google.com/notebooks/data_table.ipynb>data table notebook</a>'\n",
              "            + ' to learn more about interactive tables.';\n",
              "          element.innerHTML = '';\n",
              "          dataTable['output_type'] = 'display_data';\n",
              "          await google.colab.output.renderOutput(dataTable, element);\n",
              "          const docLink = document.createElement('div');\n",
              "          docLink.innerHTML = docLinkHtml;\n",
              "          element.appendChild(docLink);\n",
              "        }\n",
              "      </script>\n",
              "    </div>\n",
              "  </div>\n",
              "  "
            ],
            "text/plain": [
              "   poi    salary  ...  from_this_person_to_poi  shared_receipt_with_poi\n",
              "0  0.0  201955.0  ...                     65.0                   1407.0\n",
              "1  0.0       0.0  ...                      0.0                      0.0\n",
              "2  0.0     477.0  ...                      0.0                    465.0\n",
              "3  0.0  267102.0  ...                      0.0                      0.0\n",
              "4  0.0  239671.0  ...                      0.0                      0.0\n",
              "\n",
              "[5 rows x 20 columns]"
            ]
          },
          "metadata": {},
          "execution_count": 114
        }
      ]
    },
    {
      "cell_type": "code",
      "source": [
        "outlier_index = my_data[my_data.salary == max(my_data.salary)].index"
      ],
      "metadata": {
        "id": "dnq_0__O4hts"
      },
      "execution_count": 115,
      "outputs": []
    },
    {
      "cell_type": "code",
      "source": [
        "outlier_index"
      ],
      "metadata": {
        "colab": {
          "base_uri": "https://localhost:8080/"
        },
        "id": "5f2e26gK4pi3",
        "outputId": "a74bc46c-40fd-438a-8021-9241df652b17"
      },
      "execution_count": 116,
      "outputs": [
        {
          "output_type": "execute_result",
          "data": {
            "text/plain": [
              "Int64Index([129], dtype='int64')"
            ]
          },
          "metadata": {},
          "execution_count": 116
        }
      ]
    },
    {
      "cell_type": "code",
      "source": [
        "my_data_selected = my_data.drop(index=outlier_index, axis=1).reset_index(drop=True)"
      ],
      "metadata": {
        "id": "X0LUHSPw4X_N"
      },
      "execution_count": 117,
      "outputs": []
    },
    {
      "cell_type": "code",
      "source": [
        "len(my_data_selected)"
      ],
      "metadata": {
        "colab": {
          "base_uri": "https://localhost:8080/"
        },
        "id": "BE0_Ui7E41Dq",
        "outputId": "0a924d3a-2360-4ad2-c14f-750b49502163"
      },
      "execution_count": 118,
      "outputs": [
        {
          "output_type": "execute_result",
          "data": {
            "text/plain": [
              "144"
            ]
          },
          "metadata": {},
          "execution_count": 118
        }
      ]
    },
    {
      "cell_type": "markdown",
      "source": [
        "**Using IQR**"
      ],
      "metadata": {
        "id": "B-2JGDqQAGqq"
      }
    },
    {
      "cell_type": "code",
      "source": [
        "# q1 = my_data.quantile(0.25)\n",
        "# q3 = my_data.quantile(0.75)\n",
        "# iqr = q3 - q1"
      ],
      "metadata": {
        "id": "AqRF184RAIyy"
      },
      "execution_count": 119,
      "outputs": []
    },
    {
      "cell_type": "code",
      "source": [
        "# iqr"
      ],
      "metadata": {
        "id": "wOr2N8qsAouH"
      },
      "execution_count": 120,
      "outputs": []
    },
    {
      "cell_type": "code",
      "source": [
        "# (my_data < (q1 - 1.5 * iqr)) | (my_data > (q3 + 1.5 * iqr))"
      ],
      "metadata": {
        "id": "l-muDF4nAvXX"
      },
      "execution_count": 121,
      "outputs": []
    },
    {
      "cell_type": "markdown",
      "source": [
        "`True` in the data frame above represents the presence of outliers."
      ],
      "metadata": {
        "id": "B23M_4AvBRyz"
      }
    },
    {
      "cell_type": "code",
      "source": [
        "\n",
        "# ((my_data > (q3 + 1.5 * iqr)) | (my_data < (q1 - 1.5 * iqr))).any(axis=1)"
      ],
      "metadata": {
        "id": "7DIALrKiGrYx"
      },
      "execution_count": 122,
      "outputs": []
    },
    {
      "cell_type": "code",
      "source": [
        "# ### removal of oultliers based on iqr\n",
        "# my_data_outliers_rm = my_data[((my_data > (q3 + 1.5 * iqr)) | (my_data < (q1 - 1.5 * iqr))).any(axis=1)]"
      ],
      "metadata": {
        "id": "Pzvr-1ghBRcS"
      },
      "execution_count": 123,
      "outputs": []
    },
    {
      "cell_type": "code",
      "source": [
        "# my_data_outliers_rm.reset_index(inplace=True, drop=True)"
      ],
      "metadata": {
        "id": "EUEoy-vYDDOx"
      },
      "execution_count": 124,
      "outputs": []
    },
    {
      "cell_type": "code",
      "source": [
        "# my_data_outliers_rm"
      ],
      "metadata": {
        "id": "eHq6VCmHGFAv"
      },
      "execution_count": 125,
      "outputs": []
    },
    {
      "cell_type": "code",
      "source": [
        ""
      ],
      "metadata": {
        "id": "yS38tZiK3MRr"
      },
      "execution_count": null,
      "outputs": []
    },
    {
      "cell_type": "code",
      "source": [
        "### Task 3: Create new feature(s)\n",
        "my_data_selected['pct_amount_paid_from_bonus'] = my_data_selected['bonus'] / my_data_selected['total_payments']\n",
        "my_data_selected.fillna(0, inplace=True)"
      ],
      "metadata": {
        "id": "GnUFUWgThfqM"
      },
      "execution_count": 126,
      "outputs": []
    },
    {
      "cell_type": "markdown",
      "source": [
        "#### 3. Finding and selecting more correlated features"
      ],
      "metadata": {
        "id": "qMR-UUPxT3b_"
      }
    },
    {
      "cell_type": "code",
      "source": [
        "### selecting only highly correlated featues\n",
        "highly_corr_feats = []\n",
        "for label, value in my_data_selected.corr().iloc[0, 1:].items():\n",
        "  if abs(value) >= 0.1:\n",
        "    print(label, value)\n",
        "    highly_corr_feats.append(label)\n",
        "\n",
        "highly_corr_feats.insert(0, 'poi')\n",
        "highly_corr_feats"
      ],
      "metadata": {
        "id": "0M0Kbo0ZS0ru",
        "colab": {
          "base_uri": "https://localhost:8080/"
        },
        "outputId": "aa282756-8be0-42d7-8d68-f8c3c24b7ff4"
      },
      "execution_count": 127,
      "outputs": [
        {
          "output_type": "stream",
          "name": "stdout",
          "text": [
            "salary 0.3401204273600937\n",
            "total_payments 0.2424291329992063\n",
            "loan_advances 0.22029496275696084\n",
            "bonus 0.3593813036616703\n",
            "deferred_income -0.27476177874242563\n",
            "total_stock_value 0.3833815739478593\n",
            "expenses 0.2050766415219615\n",
            "exercised_stock_options 0.3875525159574383\n",
            "other 0.1695900725225276\n",
            "long_term_incentive 0.25736078932862705\n",
            "restricted_stock 0.2485093257165224\n",
            "director_fees -0.12093620374669996\n",
            "to_messages 0.10872956009833376\n",
            "from_poi_to_this_person 0.19046003670616699\n",
            "from_this_person_to_poi 0.12961862780404693\n",
            "shared_receipt_with_poi 0.24087581278511083\n",
            "pct_amount_paid_from_bonus 0.35885139548214406\n"
          ]
        },
        {
          "output_type": "execute_result",
          "data": {
            "text/plain": [
              "['poi',\n",
              " 'salary',\n",
              " 'total_payments',\n",
              " 'loan_advances',\n",
              " 'bonus',\n",
              " 'deferred_income',\n",
              " 'total_stock_value',\n",
              " 'expenses',\n",
              " 'exercised_stock_options',\n",
              " 'other',\n",
              " 'long_term_incentive',\n",
              " 'restricted_stock',\n",
              " 'director_fees',\n",
              " 'to_messages',\n",
              " 'from_poi_to_this_person',\n",
              " 'from_this_person_to_poi',\n",
              " 'shared_receipt_with_poi',\n",
              " 'pct_amount_paid_from_bonus']"
            ]
          },
          "metadata": {},
          "execution_count": 127
        }
      ]
    },
    {
      "cell_type": "code",
      "source": [
        "my_data_selected = my_data_selected[highly_corr_feats]\n",
        "my_data_selected"
      ],
      "metadata": {
        "colab": {
          "base_uri": "https://localhost:8080/",
          "height": 488
        },
        "id": "swENWkuKUCmt",
        "outputId": "6e7eea5c-cc32-4897-b498-dfb16d21ab59"
      },
      "execution_count": 128,
      "outputs": [
        {
          "output_type": "execute_result",
          "data": {
            "text/html": [
              "\n",
              "  <div id=\"df-4742b2ec-7418-46ac-b157-e5ac4b80fdca\">\n",
              "    <div class=\"colab-df-container\">\n",
              "      <div>\n",
              "<style scoped>\n",
              "    .dataframe tbody tr th:only-of-type {\n",
              "        vertical-align: middle;\n",
              "    }\n",
              "\n",
              "    .dataframe tbody tr th {\n",
              "        vertical-align: top;\n",
              "    }\n",
              "\n",
              "    .dataframe thead th {\n",
              "        text-align: right;\n",
              "    }\n",
              "</style>\n",
              "<table border=\"1\" class=\"dataframe\">\n",
              "  <thead>\n",
              "    <tr style=\"text-align: right;\">\n",
              "      <th></th>\n",
              "      <th>poi</th>\n",
              "      <th>salary</th>\n",
              "      <th>total_payments</th>\n",
              "      <th>loan_advances</th>\n",
              "      <th>bonus</th>\n",
              "      <th>deferred_income</th>\n",
              "      <th>total_stock_value</th>\n",
              "      <th>expenses</th>\n",
              "      <th>exercised_stock_options</th>\n",
              "      <th>other</th>\n",
              "      <th>long_term_incentive</th>\n",
              "      <th>restricted_stock</th>\n",
              "      <th>director_fees</th>\n",
              "      <th>to_messages</th>\n",
              "      <th>from_poi_to_this_person</th>\n",
              "      <th>from_this_person_to_poi</th>\n",
              "      <th>shared_receipt_with_poi</th>\n",
              "      <th>pct_amount_paid_from_bonus</th>\n",
              "    </tr>\n",
              "  </thead>\n",
              "  <tbody>\n",
              "    <tr>\n",
              "      <th>0</th>\n",
              "      <td>0.0</td>\n",
              "      <td>201955.0</td>\n",
              "      <td>4484442.0</td>\n",
              "      <td>0.0</td>\n",
              "      <td>4175000.0</td>\n",
              "      <td>-3081055.0</td>\n",
              "      <td>1729541.0</td>\n",
              "      <td>13868.0</td>\n",
              "      <td>1729541.0</td>\n",
              "      <td>152.0</td>\n",
              "      <td>304805.0</td>\n",
              "      <td>126027.0</td>\n",
              "      <td>0.0</td>\n",
              "      <td>2902.0</td>\n",
              "      <td>47.0</td>\n",
              "      <td>65.0</td>\n",
              "      <td>1407.0</td>\n",
              "      <td>0.930997</td>\n",
              "    </tr>\n",
              "    <tr>\n",
              "      <th>1</th>\n",
              "      <td>0.0</td>\n",
              "      <td>0.0</td>\n",
              "      <td>182466.0</td>\n",
              "      <td>0.0</td>\n",
              "      <td>0.0</td>\n",
              "      <td>0.0</td>\n",
              "      <td>257817.0</td>\n",
              "      <td>3486.0</td>\n",
              "      <td>257817.0</td>\n",
              "      <td>0.0</td>\n",
              "      <td>0.0</td>\n",
              "      <td>0.0</td>\n",
              "      <td>0.0</td>\n",
              "      <td>0.0</td>\n",
              "      <td>0.0</td>\n",
              "      <td>0.0</td>\n",
              "      <td>0.0</td>\n",
              "      <td>0.000000</td>\n",
              "    </tr>\n",
              "    <tr>\n",
              "      <th>2</th>\n",
              "      <td>0.0</td>\n",
              "      <td>477.0</td>\n",
              "      <td>916197.0</td>\n",
              "      <td>0.0</td>\n",
              "      <td>0.0</td>\n",
              "      <td>-5104.0</td>\n",
              "      <td>5243487.0</td>\n",
              "      <td>56301.0</td>\n",
              "      <td>4046157.0</td>\n",
              "      <td>864523.0</td>\n",
              "      <td>0.0</td>\n",
              "      <td>1757552.0</td>\n",
              "      <td>0.0</td>\n",
              "      <td>566.0</td>\n",
              "      <td>39.0</td>\n",
              "      <td>0.0</td>\n",
              "      <td>465.0</td>\n",
              "      <td>0.000000</td>\n",
              "    </tr>\n",
              "    <tr>\n",
              "      <th>3</th>\n",
              "      <td>0.0</td>\n",
              "      <td>267102.0</td>\n",
              "      <td>5634343.0</td>\n",
              "      <td>0.0</td>\n",
              "      <td>1200000.0</td>\n",
              "      <td>-1386055.0</td>\n",
              "      <td>10623258.0</td>\n",
              "      <td>11200.0</td>\n",
              "      <td>6680544.0</td>\n",
              "      <td>2660303.0</td>\n",
              "      <td>1586055.0</td>\n",
              "      <td>3942714.0</td>\n",
              "      <td>0.0</td>\n",
              "      <td>0.0</td>\n",
              "      <td>0.0</td>\n",
              "      <td>0.0</td>\n",
              "      <td>0.0</td>\n",
              "      <td>0.212980</td>\n",
              "    </tr>\n",
              "    <tr>\n",
              "      <th>4</th>\n",
              "      <td>0.0</td>\n",
              "      <td>239671.0</td>\n",
              "      <td>827696.0</td>\n",
              "      <td>0.0</td>\n",
              "      <td>400000.0</td>\n",
              "      <td>-201641.0</td>\n",
              "      <td>63014.0</td>\n",
              "      <td>129142.0</td>\n",
              "      <td>0.0</td>\n",
              "      <td>69.0</td>\n",
              "      <td>0.0</td>\n",
              "      <td>145796.0</td>\n",
              "      <td>0.0</td>\n",
              "      <td>0.0</td>\n",
              "      <td>0.0</td>\n",
              "      <td>0.0</td>\n",
              "      <td>0.0</td>\n",
              "      <td>0.483269</td>\n",
              "    </tr>\n",
              "    <tr>\n",
              "      <th>...</th>\n",
              "      <td>...</td>\n",
              "      <td>...</td>\n",
              "      <td>...</td>\n",
              "      <td>...</td>\n",
              "      <td>...</td>\n",
              "      <td>...</td>\n",
              "      <td>...</td>\n",
              "      <td>...</td>\n",
              "      <td>...</td>\n",
              "      <td>...</td>\n",
              "      <td>...</td>\n",
              "      <td>...</td>\n",
              "      <td>...</td>\n",
              "      <td>...</td>\n",
              "      <td>...</td>\n",
              "      <td>...</td>\n",
              "      <td>...</td>\n",
              "      <td>...</td>\n",
              "    </tr>\n",
              "    <tr>\n",
              "      <th>139</th>\n",
              "      <td>0.0</td>\n",
              "      <td>0.0</td>\n",
              "      <td>84992.0</td>\n",
              "      <td>0.0</td>\n",
              "      <td>0.0</td>\n",
              "      <td>-25000.0</td>\n",
              "      <td>0.0</td>\n",
              "      <td>1413.0</td>\n",
              "      <td>0.0</td>\n",
              "      <td>0.0</td>\n",
              "      <td>0.0</td>\n",
              "      <td>0.0</td>\n",
              "      <td>108579.0</td>\n",
              "      <td>0.0</td>\n",
              "      <td>0.0</td>\n",
              "      <td>0.0</td>\n",
              "      <td>0.0</td>\n",
              "      <td>0.000000</td>\n",
              "    </tr>\n",
              "    <tr>\n",
              "      <th>140</th>\n",
              "      <td>0.0</td>\n",
              "      <td>0.0</td>\n",
              "      <td>189583.0</td>\n",
              "      <td>0.0</td>\n",
              "      <td>0.0</td>\n",
              "      <td>0.0</td>\n",
              "      <td>0.0</td>\n",
              "      <td>0.0</td>\n",
              "      <td>0.0</td>\n",
              "      <td>189583.0</td>\n",
              "      <td>0.0</td>\n",
              "      <td>0.0</td>\n",
              "      <td>0.0</td>\n",
              "      <td>0.0</td>\n",
              "      <td>0.0</td>\n",
              "      <td>0.0</td>\n",
              "      <td>0.0</td>\n",
              "      <td>0.000000</td>\n",
              "    </tr>\n",
              "    <tr>\n",
              "      <th>141</th>\n",
              "      <td>0.0</td>\n",
              "      <td>0.0</td>\n",
              "      <td>0.0</td>\n",
              "      <td>0.0</td>\n",
              "      <td>0.0</td>\n",
              "      <td>0.0</td>\n",
              "      <td>139130.0</td>\n",
              "      <td>0.0</td>\n",
              "      <td>139130.0</td>\n",
              "      <td>0.0</td>\n",
              "      <td>0.0</td>\n",
              "      <td>0.0</td>\n",
              "      <td>0.0</td>\n",
              "      <td>0.0</td>\n",
              "      <td>0.0</td>\n",
              "      <td>0.0</td>\n",
              "      <td>0.0</td>\n",
              "      <td>0.000000</td>\n",
              "    </tr>\n",
              "    <tr>\n",
              "      <th>142</th>\n",
              "      <td>1.0</td>\n",
              "      <td>158403.0</td>\n",
              "      <td>360300.0</td>\n",
              "      <td>0.0</td>\n",
              "      <td>0.0</td>\n",
              "      <td>0.0</td>\n",
              "      <td>11884758.0</td>\n",
              "      <td>53947.0</td>\n",
              "      <td>8308552.0</td>\n",
              "      <td>147950.0</td>\n",
              "      <td>0.0</td>\n",
              "      <td>3576206.0</td>\n",
              "      <td>0.0</td>\n",
              "      <td>0.0</td>\n",
              "      <td>0.0</td>\n",
              "      <td>0.0</td>\n",
              "      <td>0.0</td>\n",
              "      <td>0.000000</td>\n",
              "    </tr>\n",
              "    <tr>\n",
              "      <th>143</th>\n",
              "      <td>0.0</td>\n",
              "      <td>0.0</td>\n",
              "      <td>55097.0</td>\n",
              "      <td>0.0</td>\n",
              "      <td>0.0</td>\n",
              "      <td>0.0</td>\n",
              "      <td>192758.0</td>\n",
              "      <td>55097.0</td>\n",
              "      <td>192758.0</td>\n",
              "      <td>0.0</td>\n",
              "      <td>0.0</td>\n",
              "      <td>0.0</td>\n",
              "      <td>0.0</td>\n",
              "      <td>0.0</td>\n",
              "      <td>0.0</td>\n",
              "      <td>0.0</td>\n",
              "      <td>0.0</td>\n",
              "      <td>0.000000</td>\n",
              "    </tr>\n",
              "  </tbody>\n",
              "</table>\n",
              "<p>144 rows × 18 columns</p>\n",
              "</div>\n",
              "      <button class=\"colab-df-convert\" onclick=\"convertToInteractive('df-4742b2ec-7418-46ac-b157-e5ac4b80fdca')\"\n",
              "              title=\"Convert this dataframe to an interactive table.\"\n",
              "              style=\"display:none;\">\n",
              "        \n",
              "  <svg xmlns=\"http://www.w3.org/2000/svg\" height=\"24px\"viewBox=\"0 0 24 24\"\n",
              "       width=\"24px\">\n",
              "    <path d=\"M0 0h24v24H0V0z\" fill=\"none\"/>\n",
              "    <path d=\"M18.56 5.44l.94 2.06.94-2.06 2.06-.94-2.06-.94-.94-2.06-.94 2.06-2.06.94zm-11 1L8.5 8.5l.94-2.06 2.06-.94-2.06-.94L8.5 2.5l-.94 2.06-2.06.94zm10 10l.94 2.06.94-2.06 2.06-.94-2.06-.94-.94-2.06-.94 2.06-2.06.94z\"/><path d=\"M17.41 7.96l-1.37-1.37c-.4-.4-.92-.59-1.43-.59-.52 0-1.04.2-1.43.59L10.3 9.45l-7.72 7.72c-.78.78-.78 2.05 0 2.83L4 21.41c.39.39.9.59 1.41.59.51 0 1.02-.2 1.41-.59l7.78-7.78 2.81-2.81c.8-.78.8-2.07 0-2.86zM5.41 20L4 18.59l7.72-7.72 1.47 1.35L5.41 20z\"/>\n",
              "  </svg>\n",
              "      </button>\n",
              "      \n",
              "  <style>\n",
              "    .colab-df-container {\n",
              "      display:flex;\n",
              "      flex-wrap:wrap;\n",
              "      gap: 12px;\n",
              "    }\n",
              "\n",
              "    .colab-df-convert {\n",
              "      background-color: #E8F0FE;\n",
              "      border: none;\n",
              "      border-radius: 50%;\n",
              "      cursor: pointer;\n",
              "      display: none;\n",
              "      fill: #1967D2;\n",
              "      height: 32px;\n",
              "      padding: 0 0 0 0;\n",
              "      width: 32px;\n",
              "    }\n",
              "\n",
              "    .colab-df-convert:hover {\n",
              "      background-color: #E2EBFA;\n",
              "      box-shadow: 0px 1px 2px rgba(60, 64, 67, 0.3), 0px 1px 3px 1px rgba(60, 64, 67, 0.15);\n",
              "      fill: #174EA6;\n",
              "    }\n",
              "\n",
              "    [theme=dark] .colab-df-convert {\n",
              "      background-color: #3B4455;\n",
              "      fill: #D2E3FC;\n",
              "    }\n",
              "\n",
              "    [theme=dark] .colab-df-convert:hover {\n",
              "      background-color: #434B5C;\n",
              "      box-shadow: 0px 1px 3px 1px rgba(0, 0, 0, 0.15);\n",
              "      filter: drop-shadow(0px 1px 2px rgba(0, 0, 0, 0.3));\n",
              "      fill: #FFFFFF;\n",
              "    }\n",
              "  </style>\n",
              "\n",
              "      <script>\n",
              "        const buttonEl =\n",
              "          document.querySelector('#df-4742b2ec-7418-46ac-b157-e5ac4b80fdca button.colab-df-convert');\n",
              "        buttonEl.style.display =\n",
              "          google.colab.kernel.accessAllowed ? 'block' : 'none';\n",
              "\n",
              "        async function convertToInteractive(key) {\n",
              "          const element = document.querySelector('#df-4742b2ec-7418-46ac-b157-e5ac4b80fdca');\n",
              "          const dataTable =\n",
              "            await google.colab.kernel.invokeFunction('convertToInteractive',\n",
              "                                                     [key], {});\n",
              "          if (!dataTable) return;\n",
              "\n",
              "          const docLinkHtml = 'Like what you see? Visit the ' +\n",
              "            '<a target=\"_blank\" href=https://colab.research.google.com/notebooks/data_table.ipynb>data table notebook</a>'\n",
              "            + ' to learn more about interactive tables.';\n",
              "          element.innerHTML = '';\n",
              "          dataTable['output_type'] = 'display_data';\n",
              "          await google.colab.output.renderOutput(dataTable, element);\n",
              "          const docLink = document.createElement('div');\n",
              "          docLink.innerHTML = docLinkHtml;\n",
              "          element.appendChild(docLink);\n",
              "        }\n",
              "      </script>\n",
              "    </div>\n",
              "  </div>\n",
              "  "
            ],
            "text/plain": [
              "     poi    salary  ...  shared_receipt_with_poi  pct_amount_paid_from_bonus\n",
              "0    0.0  201955.0  ...                   1407.0                    0.930997\n",
              "1    0.0       0.0  ...                      0.0                    0.000000\n",
              "2    0.0     477.0  ...                    465.0                    0.000000\n",
              "3    0.0  267102.0  ...                      0.0                    0.212980\n",
              "4    0.0  239671.0  ...                      0.0                    0.483269\n",
              "..   ...       ...  ...                      ...                         ...\n",
              "139  0.0       0.0  ...                      0.0                    0.000000\n",
              "140  0.0       0.0  ...                      0.0                    0.000000\n",
              "141  0.0       0.0  ...                      0.0                    0.000000\n",
              "142  1.0  158403.0  ...                      0.0                    0.000000\n",
              "143  0.0       0.0  ...                      0.0                    0.000000\n",
              "\n",
              "[144 rows x 18 columns]"
            ]
          },
          "metadata": {},
          "execution_count": 128
        }
      ]
    },
    {
      "cell_type": "code",
      "source": [
        "## corelation in filtered features\n",
        "plt.figure(figsize=(10, 10))\n",
        "sns.heatmap(my_data_selected.corr());"
      ],
      "metadata": {
        "colab": {
          "base_uri": "https://localhost:8080/",
          "height": 720
        },
        "id": "NuKmtlX8Qmam",
        "outputId": "cf70e080-270a-4cd2-f714-78889200fbb1"
      },
      "execution_count": 129,
      "outputs": [
        {
          "output_type": "display_data",
          "data": {
            "image/png": "[encoded data removed]",
            "text/plain": [
              "<Figure size 720x720 with 2 Axes>"
            ]
          },
          "metadata": {}
        }
      ]
    },
    {
      "cell_type": "markdown",
      "source": [
        "# Modeling experiments\n",
        "1. Take the selected features from data as and find the best/highly accurate model."
      ],
      "metadata": {
        "id": "ItFrBZ9OfXmp"
      }
    },
    {
      "cell_type": "code",
      "source": [
        "my_data_selected"
      ],
      "metadata": {
        "colab": {
          "base_uri": "https://localhost:8080/",
          "height": 488
        },
        "id": "epA6uOJZDVmv",
        "outputId": "1d80337a-8454-4def-d52a-d1e306e796f1"
      },
      "execution_count": 95,
      "outputs": [
        {
          "output_type": "execute_result",
          "data": {
            "text/html": [
              "\n",
              "  <div id=\"df-2e199700-2cc9-4943-b44f-ab060bd4a163\">\n",
              "    <div class=\"colab-df-container\">\n",
              "      <div>\n",
              "<style scoped>\n",
              "    .dataframe tbody tr th:only-of-type {\n",
              "        vertical-align: middle;\n",
              "    }\n",
              "\n",
              "    .dataframe tbody tr th {\n",
              "        vertical-align: top;\n",
              "    }\n",
              "\n",
              "    .dataframe thead th {\n",
              "        text-align: right;\n",
              "    }\n",
              "</style>\n",
              "<table border=\"1\" class=\"dataframe\">\n",
              "  <thead>\n",
              "    <tr style=\"text-align: right;\">\n",
              "      <th></th>\n",
              "      <th>poi</th>\n",
              "      <th>salary</th>\n",
              "      <th>total_payments</th>\n",
              "      <th>loan_advances</th>\n",
              "      <th>bonus</th>\n",
              "      <th>deferred_income</th>\n",
              "      <th>total_stock_value</th>\n",
              "      <th>expenses</th>\n",
              "      <th>exercised_stock_options</th>\n",
              "      <th>other</th>\n",
              "      <th>long_term_incentive</th>\n",
              "      <th>restricted_stock</th>\n",
              "      <th>director_fees</th>\n",
              "      <th>to_messages</th>\n",
              "      <th>from_poi_to_this_person</th>\n",
              "      <th>from_this_person_to_poi</th>\n",
              "      <th>shared_receipt_with_poi</th>\n",
              "      <th>pct_amount_paid_from_bonus</th>\n",
              "    </tr>\n",
              "  </thead>\n",
              "  <tbody>\n",
              "    <tr>\n",
              "      <th>0</th>\n",
              "      <td>0.0</td>\n",
              "      <td>201955.0</td>\n",
              "      <td>4484442.0</td>\n",
              "      <td>0.0</td>\n",
              "      <td>4175000.0</td>\n",
              "      <td>-3081055.0</td>\n",
              "      <td>1729541.0</td>\n",
              "      <td>13868.0</td>\n",
              "      <td>1729541.0</td>\n",
              "      <td>152.0</td>\n",
              "      <td>304805.0</td>\n",
              "      <td>126027.0</td>\n",
              "      <td>0.0</td>\n",
              "      <td>2902.0</td>\n",
              "      <td>47.0</td>\n",
              "      <td>65.0</td>\n",
              "      <td>1407.0</td>\n",
              "      <td>0.930997</td>\n",
              "    </tr>\n",
              "    <tr>\n",
              "      <th>1</th>\n",
              "      <td>0.0</td>\n",
              "      <td>0.0</td>\n",
              "      <td>182466.0</td>\n",
              "      <td>0.0</td>\n",
              "      <td>0.0</td>\n",
              "      <td>0.0</td>\n",
              "      <td>257817.0</td>\n",
              "      <td>3486.0</td>\n",
              "      <td>257817.0</td>\n",
              "      <td>0.0</td>\n",
              "      <td>0.0</td>\n",
              "      <td>0.0</td>\n",
              "      <td>0.0</td>\n",
              "      <td>0.0</td>\n",
              "      <td>0.0</td>\n",
              "      <td>0.0</td>\n",
              "      <td>0.0</td>\n",
              "      <td>0.000000</td>\n",
              "    </tr>\n",
              "    <tr>\n",
              "      <th>2</th>\n",
              "      <td>0.0</td>\n",
              "      <td>477.0</td>\n",
              "      <td>916197.0</td>\n",
              "      <td>0.0</td>\n",
              "      <td>0.0</td>\n",
              "      <td>-5104.0</td>\n",
              "      <td>5243487.0</td>\n",
              "      <td>56301.0</td>\n",
              "      <td>4046157.0</td>\n",
              "      <td>864523.0</td>\n",
              "      <td>0.0</td>\n",
              "      <td>1757552.0</td>\n",
              "      <td>0.0</td>\n",
              "      <td>566.0</td>\n",
              "      <td>39.0</td>\n",
              "      <td>0.0</td>\n",
              "      <td>465.0</td>\n",
              "      <td>0.000000</td>\n",
              "    </tr>\n",
              "    <tr>\n",
              "      <th>3</th>\n",
              "      <td>0.0</td>\n",
              "      <td>267102.0</td>\n",
              "      <td>5634343.0</td>\n",
              "      <td>0.0</td>\n",
              "      <td>1200000.0</td>\n",
              "      <td>-1386055.0</td>\n",
              "      <td>10623258.0</td>\n",
              "      <td>11200.0</td>\n",
              "      <td>6680544.0</td>\n",
              "      <td>2660303.0</td>\n",
              "      <td>1586055.0</td>\n",
              "      <td>3942714.0</td>\n",
              "      <td>0.0</td>\n",
              "      <td>0.0</td>\n",
              "      <td>0.0</td>\n",
              "      <td>0.0</td>\n",
              "      <td>0.0</td>\n",
              "      <td>0.212980</td>\n",
              "    </tr>\n",
              "    <tr>\n",
              "      <th>4</th>\n",
              "      <td>0.0</td>\n",
              "      <td>239671.0</td>\n",
              "      <td>827696.0</td>\n",
              "      <td>0.0</td>\n",
              "      <td>400000.0</td>\n",
              "      <td>-201641.0</td>\n",
              "      <td>63014.0</td>\n",
              "      <td>129142.0</td>\n",
              "      <td>0.0</td>\n",
              "      <td>69.0</td>\n",
              "      <td>0.0</td>\n",
              "      <td>145796.0</td>\n",
              "      <td>0.0</td>\n",
              "      <td>0.0</td>\n",
              "      <td>0.0</td>\n",
              "      <td>0.0</td>\n",
              "      <td>0.0</td>\n",
              "      <td>0.483269</td>\n",
              "    </tr>\n",
              "    <tr>\n",
              "      <th>...</th>\n",
              "      <td>...</td>\n",
              "      <td>...</td>\n",
              "      <td>...</td>\n",
              "      <td>...</td>\n",
              "      <td>...</td>\n",
              "      <td>...</td>\n",
              "      <td>...</td>\n",
              "      <td>...</td>\n",
              "      <td>...</td>\n",
              "      <td>...</td>\n",
              "      <td>...</td>\n",
              "      <td>...</td>\n",
              "      <td>...</td>\n",
              "      <td>...</td>\n",
              "      <td>...</td>\n",
              "      <td>...</td>\n",
              "      <td>...</td>\n",
              "      <td>...</td>\n",
              "    </tr>\n",
              "    <tr>\n",
              "      <th>139</th>\n",
              "      <td>0.0</td>\n",
              "      <td>0.0</td>\n",
              "      <td>84992.0</td>\n",
              "      <td>0.0</td>\n",
              "      <td>0.0</td>\n",
              "      <td>-25000.0</td>\n",
              "      <td>0.0</td>\n",
              "      <td>1413.0</td>\n",
              "      <td>0.0</td>\n",
              "      <td>0.0</td>\n",
              "      <td>0.0</td>\n",
              "      <td>0.0</td>\n",
              "      <td>108579.0</td>\n",
              "      <td>0.0</td>\n",
              "      <td>0.0</td>\n",
              "      <td>0.0</td>\n",
              "      <td>0.0</td>\n",
              "      <td>0.000000</td>\n",
              "    </tr>\n",
              "    <tr>\n",
              "      <th>140</th>\n",
              "      <td>0.0</td>\n",
              "      <td>0.0</td>\n",
              "      <td>189583.0</td>\n",
              "      <td>0.0</td>\n",
              "      <td>0.0</td>\n",
              "      <td>0.0</td>\n",
              "      <td>0.0</td>\n",
              "      <td>0.0</td>\n",
              "      <td>0.0</td>\n",
              "      <td>189583.0</td>\n",
              "      <td>0.0</td>\n",
              "      <td>0.0</td>\n",
              "      <td>0.0</td>\n",
              "      <td>0.0</td>\n",
              "      <td>0.0</td>\n",
              "      <td>0.0</td>\n",
              "      <td>0.0</td>\n",
              "      <td>0.000000</td>\n",
              "    </tr>\n",
              "    <tr>\n",
              "      <th>141</th>\n",
              "      <td>0.0</td>\n",
              "      <td>0.0</td>\n",
              "      <td>0.0</td>\n",
              "      <td>0.0</td>\n",
              "      <td>0.0</td>\n",
              "      <td>0.0</td>\n",
              "      <td>139130.0</td>\n",
              "      <td>0.0</td>\n",
              "      <td>139130.0</td>\n",
              "      <td>0.0</td>\n",
              "      <td>0.0</td>\n",
              "      <td>0.0</td>\n",
              "      <td>0.0</td>\n",
              "      <td>0.0</td>\n",
              "      <td>0.0</td>\n",
              "      <td>0.0</td>\n",
              "      <td>0.0</td>\n",
              "      <td>0.000000</td>\n",
              "    </tr>\n",
              "    <tr>\n",
              "      <th>142</th>\n",
              "      <td>1.0</td>\n",
              "      <td>158403.0</td>\n",
              "      <td>360300.0</td>\n",
              "      <td>0.0</td>\n",
              "      <td>0.0</td>\n",
              "      <td>0.0</td>\n",
              "      <td>11884758.0</td>\n",
              "      <td>53947.0</td>\n",
              "      <td>8308552.0</td>\n",
              "      <td>147950.0</td>\n",
              "      <td>0.0</td>\n",
              "      <td>3576206.0</td>\n",
              "      <td>0.0</td>\n",
              "      <td>0.0</td>\n",
              "      <td>0.0</td>\n",
              "      <td>0.0</td>\n",
              "      <td>0.0</td>\n",
              "      <td>0.000000</td>\n",
              "    </tr>\n",
              "    <tr>\n",
              "      <th>143</th>\n",
              "      <td>0.0</td>\n",
              "      <td>0.0</td>\n",
              "      <td>55097.0</td>\n",
              "      <td>0.0</td>\n",
              "      <td>0.0</td>\n",
              "      <td>0.0</td>\n",
              "      <td>192758.0</td>\n",
              "      <td>55097.0</td>\n",
              "      <td>192758.0</td>\n",
              "      <td>0.0</td>\n",
              "      <td>0.0</td>\n",
              "      <td>0.0</td>\n",
              "      <td>0.0</td>\n",
              "      <td>0.0</td>\n",
              "      <td>0.0</td>\n",
              "      <td>0.0</td>\n",
              "      <td>0.0</td>\n",
              "      <td>0.000000</td>\n",
              "    </tr>\n",
              "  </tbody>\n",
              "</table>\n",
              "<p>144 rows × 18 columns</p>\n",
              "</div>\n",
              "      <button class=\"colab-df-convert\" onclick=\"convertToInteractive('df-2e199700-2cc9-4943-b44f-ab060bd4a163')\"\n",
              "              title=\"Convert this dataframe to an interactive table.\"\n",
              "              style=\"display:none;\">\n",
              "        \n",
              "  <svg xmlns=\"http://www.w3.org/2000/svg\" height=\"24px\"viewBox=\"0 0 24 24\"\n",
              "       width=\"24px\">\n",
              "    <path d=\"M0 0h24v24H0V0z\" fill=\"none\"/>\n",
              "    <path d=\"M18.56 5.44l.94 2.06.94-2.06 2.06-.94-2.06-.94-.94-2.06-.94 2.06-2.06.94zm-11 1L8.5 8.5l.94-2.06 2.06-.94-2.06-.94L8.5 2.5l-.94 2.06-2.06.94zm10 10l.94 2.06.94-2.06 2.06-.94-2.06-.94-.94-2.06-.94 2.06-2.06.94z\"/><path d=\"M17.41 7.96l-1.37-1.37c-.4-.4-.92-.59-1.43-.59-.52 0-1.04.2-1.43.59L10.3 9.45l-7.72 7.72c-.78.78-.78 2.05 0 2.83L4 21.41c.39.39.9.59 1.41.59.51 0 1.02-.2 1.41-.59l7.78-7.78 2.81-2.81c.8-.78.8-2.07 0-2.86zM5.41 20L4 18.59l7.72-7.72 1.47 1.35L5.41 20z\"/>\n",
              "  </svg>\n",
              "      </button>\n",
              "      \n",
              "  <style>\n",
              "    .colab-df-container {\n",
              "      display:flex;\n",
              "      flex-wrap:wrap;\n",
              "      gap: 12px;\n",
              "    }\n",
              "\n",
              "    .colab-df-convert {\n",
              "      background-color: #E8F0FE;\n",
              "      border: none;\n",
              "      border-radius: 50%;\n",
              "      cursor: pointer;\n",
              "      display: none;\n",
              "      fill: #1967D2;\n",
              "      height: 32px;\n",
              "      padding: 0 0 0 0;\n",
              "      width: 32px;\n",
              "    }\n",
              "\n",
              "    .colab-df-convert:hover {\n",
              "      background-color: #E2EBFA;\n",
              "      box-shadow: 0px 1px 2px rgba(60, 64, 67, 0.3), 0px 1px 3px 1px rgba(60, 64, 67, 0.15);\n",
              "      fill: #174EA6;\n",
              "    }\n",
              "\n",
              "    [theme=dark] .colab-df-convert {\n",
              "      background-color: #3B4455;\n",
              "      fill: #D2E3FC;\n",
              "    }\n",
              "\n",
              "    [theme=dark] .colab-df-convert:hover {\n",
              "      background-color: #434B5C;\n",
              "      box-shadow: 0px 1px 3px 1px rgba(0, 0, 0, 0.15);\n",
              "      filter: drop-shadow(0px 1px 2px rgba(0, 0, 0, 0.3));\n",
              "      fill: #FFFFFF;\n",
              "    }\n",
              "  </style>\n",
              "\n",
              "      <script>\n",
              "        const buttonEl =\n",
              "          document.querySelector('#df-2e199700-2cc9-4943-b44f-ab060bd4a163 button.colab-df-convert');\n",
              "        buttonEl.style.display =\n",
              "          google.colab.kernel.accessAllowed ? 'block' : 'none';\n",
              "\n",
              "        async function convertToInteractive(key) {\n",
              "          const element = document.querySelector('#df-2e199700-2cc9-4943-b44f-ab060bd4a163');\n",
              "          const dataTable =\n",
              "            await google.colab.kernel.invokeFunction('convertToInteractive',\n",
              "                                                     [key], {});\n",
              "          if (!dataTable) return;\n",
              "\n",
              "          const docLinkHtml = 'Like what you see? Visit the ' +\n",
              "            '<a target=\"_blank\" href=https://colab.research.google.com/notebooks/data_table.ipynb>data table notebook</a>'\n",
              "            + ' to learn more about interactive tables.';\n",
              "          element.innerHTML = '';\n",
              "          dataTable['output_type'] = 'display_data';\n",
              "          await google.colab.output.renderOutput(dataTable, element);\n",
              "          const docLink = document.createElement('div');\n",
              "          docLink.innerHTML = docLinkHtml;\n",
              "          element.appendChild(docLink);\n",
              "        }\n",
              "      </script>\n",
              "    </div>\n",
              "  </div>\n",
              "  "
            ],
            "text/plain": [
              "     poi    salary  ...  shared_receipt_with_poi  pct_amount_paid_from_bonus\n",
              "0    0.0  201955.0  ...                   1407.0                    0.930997\n",
              "1    0.0       0.0  ...                      0.0                    0.000000\n",
              "2    0.0     477.0  ...                    465.0                    0.000000\n",
              "3    0.0  267102.0  ...                      0.0                    0.212980\n",
              "4    0.0  239671.0  ...                      0.0                    0.483269\n",
              "..   ...       ...  ...                      ...                         ...\n",
              "139  0.0       0.0  ...                      0.0                    0.000000\n",
              "140  0.0       0.0  ...                      0.0                    0.000000\n",
              "141  0.0       0.0  ...                      0.0                    0.000000\n",
              "142  1.0  158403.0  ...                      0.0                    0.000000\n",
              "143  0.0       0.0  ...                      0.0                    0.000000\n",
              "\n",
              "[144 rows x 18 columns]"
            ]
          },
          "metadata": {},
          "execution_count": 95
        }
      ]
    },
    {
      "cell_type": "code",
      "source": [
        "experiment = setup(my_data_selected, target='poi')  \n",
        "best_model = compare_models(sort='F1')"
      ],
      "metadata": {
        "colab": {
          "base_uri": "https://localhost:8080/",
          "height": 488,
          "referenced_widgets": [
            "58bc91179b2f4b248e2095f878783edd",
            "402402fe2ab148c3ac989a4d4c47c57b",
            "27c8cb23c6cb4e308abb4b0321b5be4a",
            "8dd97b09a2284112a506dc854f8be263",
            "6e4deefff4734a26ba0f02d2c545fbdd",
            "ec802070d131486e964c3f4839092d92",
            "91312535426e498f820d20f825168b1d",
            "d778985f7a4e4dffb0247509150306c2",
            "d17d28c9241e4c8b9f93f6076d47e8c9"
          ]
        },
        "id": "qdCxU076fe54",
        "outputId": "98513f90-8e12-479f-d315-6cb24dcc8ac4"
      },
      "execution_count": 96,
      "outputs": [
        {
          "output_type": "display_data",
          "data": {
            "text/html": [
              "\n",
              "  <div id=\"df-6b32a8ba-b7b9-4bfe-955f-331d650b5076\">\n",
              "    <div class=\"colab-df-container\">\n",
              "      <div>\n",
              "<style scoped>\n",
              "    .dataframe tbody tr th:only-of-type {\n",
              "        vertical-align: middle;\n",
              "    }\n",
              "\n",
              "    .dataframe tbody tr th {\n",
              "        vertical-align: top;\n",
              "    }\n",
              "\n",
              "    .dataframe thead th {\n",
              "        text-align: right;\n",
              "    }\n",
              "</style>\n",
              "<table border=\"1\" class=\"dataframe\">\n",
              "  <thead>\n",
              "    <tr style=\"text-align: right;\">\n",
              "      <th></th>\n",
              "      <th>Model</th>\n",
              "      <th>Accuracy</th>\n",
              "      <th>AUC</th>\n",
              "      <th>Recall</th>\n",
              "      <th>Prec.</th>\n",
              "      <th>F1</th>\n",
              "      <th>Kappa</th>\n",
              "      <th>MCC</th>\n",
              "      <th>TT (Sec)</th>\n",
              "    </tr>\n",
              "  </thead>\n",
              "  <tbody>\n",
              "    <tr>\n",
              "      <th>gbc</th>\n",
              "      <td>Gradient Boosting Classifier</td>\n",
              "      <td>0.87</td>\n",
              "      <td>0.7500</td>\n",
              "      <td>0.35</td>\n",
              "      <td>0.3000</td>\n",
              "      <td>0.3167</td>\n",
              "      <td>0.2837</td>\n",
              "      <td>0.2875</td>\n",
              "      <td>0.080</td>\n",
              "    </tr>\n",
              "    <tr>\n",
              "      <th>lightgbm</th>\n",
              "      <td>Light Gradient Boosting Machine</td>\n",
              "      <td>0.85</td>\n",
              "      <td>0.7090</td>\n",
              "      <td>0.40</td>\n",
              "      <td>0.3167</td>\n",
              "      <td>0.3167</td>\n",
              "      <td>0.2592</td>\n",
              "      <td>0.2838</td>\n",
              "      <td>0.027</td>\n",
              "    </tr>\n",
              "    <tr>\n",
              "      <th>nb</th>\n",
              "      <td>Naive Bayes</td>\n",
              "      <td>0.78</td>\n",
              "      <td>0.7722</td>\n",
              "      <td>0.30</td>\n",
              "      <td>0.3000</td>\n",
              "      <td>0.2833</td>\n",
              "      <td>0.2125</td>\n",
              "      <td>0.1764</td>\n",
              "      <td>0.019</td>\n",
              "    </tr>\n",
              "    <tr>\n",
              "      <th>rf</th>\n",
              "      <td>Random Forest Classifier</td>\n",
              "      <td>0.87</td>\n",
              "      <td>0.8476</td>\n",
              "      <td>0.25</td>\n",
              "      <td>0.3000</td>\n",
              "      <td>0.2667</td>\n",
              "      <td>0.2350</td>\n",
              "      <td>0.2389</td>\n",
              "      <td>0.593</td>\n",
              "    </tr>\n",
              "    <tr>\n",
              "      <th>et</th>\n",
              "      <td>Extra Trees Classifier</td>\n",
              "      <td>0.88</td>\n",
              "      <td>0.8514</td>\n",
              "      <td>0.25</td>\n",
              "      <td>0.3000</td>\n",
              "      <td>0.2667</td>\n",
              "      <td>0.2393</td>\n",
              "      <td>0.2444</td>\n",
              "      <td>0.434</td>\n",
              "    </tr>\n",
              "    <tr>\n",
              "      <th>ada</th>\n",
              "      <td>Ada Boost Classifier</td>\n",
              "      <td>0.80</td>\n",
              "      <td>0.7201</td>\n",
              "      <td>0.35</td>\n",
              "      <td>0.2167</td>\n",
              "      <td>0.2567</td>\n",
              "      <td>0.1885</td>\n",
              "      <td>0.1958</td>\n",
              "      <td>0.105</td>\n",
              "    </tr>\n",
              "    <tr>\n",
              "      <th>dt</th>\n",
              "      <td>Decision Tree Classifier</td>\n",
              "      <td>0.77</td>\n",
              "      <td>0.5938</td>\n",
              "      <td>0.35</td>\n",
              "      <td>0.1833</td>\n",
              "      <td>0.2233</td>\n",
              "      <td>0.1231</td>\n",
              "      <td>0.1436</td>\n",
              "      <td>0.024</td>\n",
              "    </tr>\n",
              "    <tr>\n",
              "      <th>lr</th>\n",
              "      <td>Logistic Regression</td>\n",
              "      <td>0.78</td>\n",
              "      <td>0.4562</td>\n",
              "      <td>0.20</td>\n",
              "      <td>0.2000</td>\n",
              "      <td>0.2000</td>\n",
              "      <td>0.0918</td>\n",
              "      <td>0.0811</td>\n",
              "      <td>0.200</td>\n",
              "    </tr>\n",
              "    <tr>\n",
              "      <th>qda</th>\n",
              "      <td>Quadratic Discriminant Analysis</td>\n",
              "      <td>0.82</td>\n",
              "      <td>0.5521</td>\n",
              "      <td>0.20</td>\n",
              "      <td>0.1500</td>\n",
              "      <td>0.1667</td>\n",
              "      <td>0.1262</td>\n",
              "      <td>0.1167</td>\n",
              "      <td>0.034</td>\n",
              "    </tr>\n",
              "    <tr>\n",
              "      <th>svm</th>\n",
              "      <td>SVM - Linear Kernel</td>\n",
              "      <td>0.74</td>\n",
              "      <td>0.0000</td>\n",
              "      <td>0.25</td>\n",
              "      <td>0.0893</td>\n",
              "      <td>0.1250</td>\n",
              "      <td>0.0105</td>\n",
              "      <td>0.0271</td>\n",
              "      <td>0.026</td>\n",
              "    </tr>\n",
              "    <tr>\n",
              "      <th>knn</th>\n",
              "      <td>K Neighbors Classifier</td>\n",
              "      <td>0.88</td>\n",
              "      <td>0.7590</td>\n",
              "      <td>0.10</td>\n",
              "      <td>0.1000</td>\n",
              "      <td>0.1000</td>\n",
              "      <td>0.1000</td>\n",
              "      <td>0.1000</td>\n",
              "      <td>0.136</td>\n",
              "    </tr>\n",
              "    <tr>\n",
              "      <th>ridge</th>\n",
              "      <td>Ridge Classifier</td>\n",
              "      <td>0.84</td>\n",
              "      <td>0.0000</td>\n",
              "      <td>0.10</td>\n",
              "      <td>0.1000</td>\n",
              "      <td>0.1000</td>\n",
              "      <td>0.0624</td>\n",
              "      <td>0.0611</td>\n",
              "      <td>0.025</td>\n",
              "    </tr>\n",
              "    <tr>\n",
              "      <th>lda</th>\n",
              "      <td>Linear Discriminant Analysis</td>\n",
              "      <td>0.81</td>\n",
              "      <td>0.5076</td>\n",
              "      <td>0.10</td>\n",
              "      <td>0.1000</td>\n",
              "      <td>0.1000</td>\n",
              "      <td>0.0220</td>\n",
              "      <td>0.0194</td>\n",
              "      <td>0.015</td>\n",
              "    </tr>\n",
              "    <tr>\n",
              "      <th>dummy</th>\n",
              "      <td>Dummy Classifier</td>\n",
              "      <td>0.87</td>\n",
              "      <td>0.5000</td>\n",
              "      <td>0.00</td>\n",
              "      <td>0.0000</td>\n",
              "      <td>0.0000</td>\n",
              "      <td>0.0000</td>\n",
              "      <td>0.0000</td>\n",
              "      <td>0.013</td>\n",
              "    </tr>\n",
              "  </tbody>\n",
              "</table>\n",
              "</div>\n",
              "      <button class=\"colab-df-convert\" onclick=\"convertToInteractive('df-6b32a8ba-b7b9-4bfe-955f-331d650b5076')\"\n",
              "              title=\"Convert this dataframe to an interactive table.\"\n",
              "              style=\"display:none;\">\n",
              "        \n",
              "  <svg xmlns=\"http://www.w3.org/2000/svg\" height=\"24px\"viewBox=\"0 0 24 24\"\n",
              "       width=\"24px\">\n",
              "    <path d=\"M0 0h24v24H0V0z\" fill=\"none\"/>\n",
              "    <path d=\"M18.56 5.44l.94 2.06.94-2.06 2.06-.94-2.06-.94-.94-2.06-.94 2.06-2.06.94zm-11 1L8.5 8.5l.94-2.06 2.06-.94-2.06-.94L8.5 2.5l-.94 2.06-2.06.94zm10 10l.94 2.06.94-2.06 2.06-.94-2.06-.94-.94-2.06-.94 2.06-2.06.94z\"/><path d=\"M17.41 7.96l-1.37-1.37c-.4-.4-.92-.59-1.43-.59-.52 0-1.04.2-1.43.59L10.3 9.45l-7.72 7.72c-.78.78-.78 2.05 0 2.83L4 21.41c.39.39.9.59 1.41.59.51 0 1.02-.2 1.41-.59l7.78-7.78 2.81-2.81c.8-.78.8-2.07 0-2.86zM5.41 20L4 18.59l7.72-7.72 1.47 1.35L5.41 20z\"/>\n",
              "  </svg>\n",
              "      </button>\n",
              "      \n",
              "  <style>\n",
              "    .colab-df-container {\n",
              "      display:flex;\n",
              "      flex-wrap:wrap;\n",
              "      gap: 12px;\n",
              "    }\n",
              "\n",
              "    .colab-df-convert {\n",
              "      background-color: #E8F0FE;\n",
              "      border: none;\n",
              "      border-radius: 50%;\n",
              "      cursor: pointer;\n",
              "      display: none;\n",
              "      fill: #1967D2;\n",
              "      height: 32px;\n",
              "      padding: 0 0 0 0;\n",
              "      width: 32px;\n",
              "    }\n",
              "\n",
              "    .colab-df-convert:hover {\n",
              "      background-color: #E2EBFA;\n",
              "      box-shadow: 0px 1px 2px rgba(60, 64, 67, 0.3), 0px 1px 3px 1px rgba(60, 64, 67, 0.15);\n",
              "      fill: #174EA6;\n",
              "    }\n",
              "\n",
              "    [theme=dark] .colab-df-convert {\n",
              "      background-color: #3B4455;\n",
              "      fill: #D2E3FC;\n",
              "    }\n",
              "\n",
              "    [theme=dark] .colab-df-convert:hover {\n",
              "      background-color: #434B5C;\n",
              "      box-shadow: 0px 1px 3px 1px rgba(0, 0, 0, 0.15);\n",
              "      filter: drop-shadow(0px 1px 2px rgba(0, 0, 0, 0.3));\n",
              "      fill: #FFFFFF;\n",
              "    }\n",
              "  </style>\n",
              "\n",
              "      <script>\n",
              "        const buttonEl =\n",
              "          document.querySelector('#df-6b32a8ba-b7b9-4bfe-955f-331d650b5076 button.colab-df-convert');\n",
              "        buttonEl.style.display =\n",
              "          google.colab.kernel.accessAllowed ? 'block' : 'none';\n",
              "\n",
              "        async function convertToInteractive(key) {\n",
              "          const element = document.querySelector('#df-6b32a8ba-b7b9-4bfe-955f-331d650b5076');\n",
              "          const dataTable =\n",
              "            await google.colab.kernel.invokeFunction('convertToInteractive',\n",
              "                                                     [key], {});\n",
              "          if (!dataTable) return;\n",
              "\n",
              "          const docLinkHtml = 'Like what you see? Visit the ' +\n",
              "            '<a target=\"_blank\" href=https://colab.research.google.com/notebooks/data_table.ipynb>data table notebook</a>'\n",
              "            + ' to learn more about interactive tables.';\n",
              "          element.innerHTML = '';\n",
              "          dataTable['output_type'] = 'display_data';\n",
              "          await google.colab.output.renderOutput(dataTable, element);\n",
              "          const docLink = document.createElement('div');\n",
              "          docLink.innerHTML = docLinkHtml;\n",
              "          element.appendChild(docLink);\n",
              "        }\n",
              "      </script>\n",
              "    </div>\n",
              "  </div>\n",
              "  "
            ],
            "text/plain": [
              "                                    Model  Accuracy     AUC  Recall   Prec.  \\\n",
              "gbc          Gradient Boosting Classifier      0.87  0.7500    0.35  0.3000   \n",
              "lightgbm  Light Gradient Boosting Machine      0.85  0.7090    0.40  0.3167   \n",
              "nb                            Naive Bayes      0.78  0.7722    0.30  0.3000   \n",
              "rf               Random Forest Classifier      0.87  0.8476    0.25  0.3000   \n",
              "et                 Extra Trees Classifier      0.88  0.8514    0.25  0.3000   \n",
              "ada                  Ada Boost Classifier      0.80  0.7201    0.35  0.2167   \n",
              "dt               Decision Tree Classifier      0.77  0.5938    0.35  0.1833   \n",
              "lr                    Logistic Regression      0.78  0.4562    0.20  0.2000   \n",
              "qda       Quadratic Discriminant Analysis      0.82  0.5521    0.20  0.1500   \n",
              "svm                   SVM - Linear Kernel      0.74  0.0000    0.25  0.0893   \n",
              "knn                K Neighbors Classifier      0.88  0.7590    0.10  0.1000   \n",
              "ridge                    Ridge Classifier      0.84  0.0000    0.10  0.1000   \n",
              "lda          Linear Discriminant Analysis      0.81  0.5076    0.10  0.1000   \n",
              "dummy                    Dummy Classifier      0.87  0.5000    0.00  0.0000   \n",
              "\n",
              "              F1   Kappa     MCC  TT (Sec)  \n",
              "gbc       0.3167  0.2837  0.2875     0.080  \n",
              "lightgbm  0.3167  0.2592  0.2838     0.027  \n",
              "nb        0.2833  0.2125  0.1764     0.019  \n",
              "rf        0.2667  0.2350  0.2389     0.593  \n",
              "et        0.2667  0.2393  0.2444     0.434  \n",
              "ada       0.2567  0.1885  0.1958     0.105  \n",
              "dt        0.2233  0.1231  0.1436     0.024  \n",
              "lr        0.2000  0.0918  0.0811     0.200  \n",
              "qda       0.1667  0.1262  0.1167     0.034  \n",
              "svm       0.1250  0.0105  0.0271     0.026  \n",
              "knn       0.1000  0.1000  0.1000     0.136  \n",
              "ridge     0.1000  0.0624  0.0611     0.025  \n",
              "lda       0.1000  0.0220  0.0194     0.015  \n",
              "dummy     0.0000  0.0000  0.0000     0.013  "
            ]
          },
          "metadata": {}
        }
      ]
    },
    {
      "cell_type": "code",
      "source": [
        "best_model"
      ],
      "metadata": {
        "colab": {
          "base_uri": "https://localhost:8080/"
        },
        "id": "FKWktKQGgYLa",
        "outputId": "802fff16-41bb-4017-fe93-861ef30d1baf"
      },
      "execution_count": 97,
      "outputs": [
        {
          "output_type": "execute_result",
          "data": {
            "text/plain": [
              "GradientBoostingClassifier(ccp_alpha=0.0, criterion='friedman_mse', init=None,\n",
              "                           learning_rate=0.1, loss='deviance', max_depth=3,\n",
              "                           max_features=None, max_leaf_nodes=None,\n",
              "                           min_impurity_decrease=0.0, min_impurity_split=None,\n",
              "                           min_samples_leaf=1, min_samples_split=2,\n",
              "                           min_weight_fraction_leaf=0.0, n_estimators=100,\n",
              "                           n_iter_no_change=None, presort='deprecated',\n",
              "                           random_state=5362, subsample=1.0, tol=0.0001,\n",
              "                           validation_fraction=0.1, verbose=0,\n",
              "                           warm_start=False)"
            ]
          },
          "metadata": {},
          "execution_count": 97
        }
      ]
    },
    {
      "cell_type": "markdown",
      "source": [
        "#### best model found in first experiment\n",
        "AdaBoostClassifier(algorithm='SAMME.R', base_estimator=None, learning_rate=1.0,\n",
        "                   n_estimators=50, random_state=8895)"
      ],
      "metadata": {
        "id": "pzG1CiQlgxkV"
      }
    },
    {
      "cell_type": "code",
      "source": [
        "from sklearn.ensemble import AdaBoostClassifier\n",
        "from sklearn.preprocessing import MinMaxScaler\n",
        "from sklearn.model_selection import train_test_split\n",
        "from sklearn.metrics import precision_score, recall_score"
      ],
      "metadata": {
        "id": "s_TSYdQDjsJI"
      },
      "execution_count": 130,
      "outputs": []
    },
    {
      "cell_type": "code",
      "source": [
        "scaller = MinMaxScaler()\n",
        "\n",
        "best_model = AdaBoostClassifier(random_state = 8895)"
      ],
      "metadata": {
        "id": "dpl_a5kTjpqt"
      },
      "execution_count": 131,
      "outputs": []
    },
    {
      "cell_type": "markdown",
      "source": [
        "#### Model training and evaluation"
      ],
      "metadata": {
        "id": "gyzSwRm_V2vT"
      }
    },
    {
      "cell_type": "code",
      "source": [
        "### testing the best model with tester code\n",
        "### splitting the selected data into X(features-independent vars) and y (labels-dependent vars)\n",
        "labels, features = targetFeatureSplit(my_data.values)\n",
        "\n",
        "### ### scalling the data\n",
        "features_scalled  = scaller.fit_transform(features)\n",
        "\n",
        "\n",
        "### split the data in train and test\n",
        "X_train, X_test, y_train, y_test = train_test_split(features_scalled, labels, test_size=0.2, random_state=42)"
      ],
      "metadata": {
        "id": "_ix5qMhzVx5h"
      },
      "execution_count": 132,
      "outputs": []
    },
    {
      "cell_type": "code",
      "source": [
        "### train the model \n",
        "best_model.fit(X_train, y_train)"
      ],
      "metadata": {
        "id": "lS41a4kkehOr",
        "colab": {
          "base_uri": "https://localhost:8080/"
        },
        "outputId": "fd3d8477-ed21-4aef-e3f4-e418dab74965"
      },
      "execution_count": 133,
      "outputs": [
        {
          "output_type": "execute_result",
          "data": {
            "text/plain": [
              "AdaBoostClassifier(algorithm='SAMME.R', base_estimator=None, learning_rate=1.0,\n",
              "                   n_estimators=50, random_state=8895)"
            ]
          },
          "metadata": {},
          "execution_count": 133
        }
      ]
    },
    {
      "cell_type": "code",
      "source": [
        "### evaluate the model on testing data\n",
        "### accuracy\n",
        "preds = best_model.predict(X_test)\n",
        "\n",
        "acc = best_model.score(X_test, y_test)\n",
        "print('Accuracy=', acc)\n",
        "\n",
        "prec = precision_score(y_test, preds)\n",
        "print('Precision=', prec)\n",
        "\n",
        "recall = recall_score(y_test, preds)\n",
        "print('Recall=', recall)\n"
      ],
      "metadata": {
        "colab": {
          "base_uri": "https://localhost:8080/"
        },
        "id": "pBQRV5RpXL7k",
        "outputId": "51b07db4-81ff-4f8b-a851-ffe135bdb99a"
      },
      "execution_count": 134,
      "outputs": [
        {
          "output_type": "stream",
          "name": "stdout",
          "text": [
            "Accuracy= 0.8275862068965517\n",
            "Precision= 0.4\n",
            "Recall= 0.5\n"
          ]
        }
      ]
    },
    {
      "cell_type": "code",
      "source": [
        "my_data_selected.columns"
      ],
      "metadata": {
        "colab": {
          "base_uri": "https://localhost:8080/"
        },
        "id": "yBW50s4LIfEm",
        "outputId": "06077fc8-f3ca-4c8a-c0e4-7b30815e2d4d"
      },
      "execution_count": 135,
      "outputs": [
        {
          "output_type": "execute_result",
          "data": {
            "text/plain": [
              "Index(['poi', 'salary', 'total_payments', 'loan_advances', 'bonus',\n",
              "       'deferred_income', 'total_stock_value', 'expenses',\n",
              "       'exercised_stock_options', 'other', 'long_term_incentive',\n",
              "       'restricted_stock', 'director_fees', 'to_messages',\n",
              "       'from_poi_to_this_person', 'from_this_person_to_poi',\n",
              "       'shared_receipt_with_poi', 'pct_amount_paid_from_bonus'],\n",
              "      dtype='object')"
            ]
          },
          "metadata": {},
          "execution_count": 135
        }
      ]
    },
    {
      "cell_type": "code",
      "source": [
        "### Task 5: Tune your classifier to achieve better than .3 precision and recall \n",
        "### using our testing script. Check the tester.py script in the final project\n",
        "### folder for details on the evaluation method, especially the test_classifier\n",
        "### function. Because of the small size of the dataset, the script uses\n",
        "### stratified shuffle split cross validation. For more info: \n",
        "### http://scikit-learn.org/stable/modules/generated/sklearn.cross_validation.StratifiedShuffleSplit.html\n",
        "\n",
        "\n",
        "precision, recall, accuracy = test_classifier(best_model, my_data, folds=500)\n",
        "print(f'Precision: {precision}')\n",
        "print(f'Recall: {recall}')\n",
        "print(f'Accuracy: {accuracy}')\n",
        "print()"
      ],
      "metadata": {
        "colab": {
          "base_uri": "https://localhost:8080/"
        },
        "id": "R4RQwzc0hIeS",
        "outputId": "80b1be3e-66a5-4df5-b1ec-331086f403d9"
      },
      "execution_count": 153,
      "outputs": [
        {
          "output_type": "stream",
          "name": "stdout",
          "text": [
            "Precision: 0.3498542274052478\n",
            "Recall: 0.24\n",
            "Accuracy: 0.8392\n",
            "\n"
          ]
        }
      ]
    },
    {
      "cell_type": "markdown",
      "source": [
        "### Tuning using the gridsearch cv"
      ],
      "metadata": {
        "id": "7U_R84xXwlDj"
      }
    },
    {
      "cell_type": "code",
      "source": [
        "from sklearn.model_selection import GridSearchCV"
      ],
      "metadata": {
        "id": "Yg82fMyFxcXD"
      },
      "execution_count": 154,
      "outputs": []
    },
    {
      "cell_type": "code",
      "source": [
        "best_model = AdaBoostClassifier(random_state=8895)"
      ],
      "metadata": {
        "id": "35inEU0owvb_"
      },
      "execution_count": 155,
      "outputs": []
    },
    {
      "cell_type": "code",
      "source": [
        "params = {\n",
        "    'base_estimator': [None], \n",
        "    'learning_rate' : [0.1, 1.0, 0.01],\n",
        "    'n_estimators': [20, 50, 100, 150],\n",
        "    'algorithm': ['SAMME', 'SAMME.R']\n",
        "    \n",
        "}"
      ],
      "metadata": {
        "id": "iqZeBg6-wkdy"
      },
      "execution_count": 156,
      "outputs": []
    },
    {
      "cell_type": "code",
      "source": [
        "grid_cv = GridSearchCV(best_model, params, scoring='f1', verbose=1)"
      ],
      "metadata": {
        "id": "BKAP-jW-xTgA"
      },
      "execution_count": 157,
      "outputs": []
    },
    {
      "cell_type": "code",
      "source": [
        "grid_cv.fit(features_scalled, labels)"
      ],
      "metadata": {
        "colab": {
          "base_uri": "https://localhost:8080/"
        },
        "id": "29iV5AewxvJ9",
        "outputId": "533638f9-98b3-42ed-8e72-420bb58c8bd9"
      },
      "execution_count": 158,
      "outputs": [
        {
          "output_type": "stream",
          "name": "stdout",
          "text": [
            "Fitting 5 folds for each of 24 candidates, totalling 120 fits\n"
          ]
        },
        {
          "output_type": "stream",
          "name": "stderr",
          "text": [
            "[Parallel(n_jobs=1)]: Using backend SequentialBackend with 1 concurrent workers.\n",
            "[Parallel(n_jobs=1)]: Done 120 out of 120 | elapsed:   19.1s finished\n"
          ]
        },
        {
          "output_type": "execute_result",
          "data": {
            "text/plain": [
              "GridSearchCV(cv=None, error_score=nan,\n",
              "             estimator=AdaBoostClassifier(algorithm='SAMME.R',\n",
              "                                          base_estimator=None,\n",
              "                                          learning_rate=1.0, n_estimators=50,\n",
              "                                          random_state=8895),\n",
              "             iid='deprecated', n_jobs=None,\n",
              "             param_grid={'algorithm': ['SAMME', 'SAMME.R'],\n",
              "                         'base_estimator': [None],\n",
              "                         'learning_rate': [0.1, 1.0, 0.01],\n",
              "                         'n_estimators': [20, 50, 100, 150]},\n",
              "             pre_dispatch='2*n_jobs', refit=True, return_train_score=False,\n",
              "             scoring='f1', verbose=1)"
            ]
          },
          "metadata": {},
          "execution_count": 158
        }
      ]
    },
    {
      "cell_type": "code",
      "source": [
        "grid_cv.best_params_"
      ],
      "metadata": {
        "colab": {
          "base_uri": "https://localhost:8080/"
        },
        "id": "5NzkmbA7yDwh",
        "outputId": "fa8afbd3-3c58-48f7-e595-91e63f2ebb60"
      },
      "execution_count": 159,
      "outputs": [
        {
          "output_type": "execute_result",
          "data": {
            "text/plain": [
              "{'algorithm': 'SAMME',\n",
              " 'base_estimator': None,\n",
              " 'learning_rate': 1.0,\n",
              " 'n_estimators': 50}"
            ]
          },
          "metadata": {},
          "execution_count": 159
        }
      ]
    },
    {
      "cell_type": "code",
      "source": [
        "best_model = AdaBoostClassifier(algorithm='SAMME.R', base_estimator=None, learning_rate=1.0,\n",
        "                   n_estimators=50, random_state=8895)"
      ],
      "metadata": {
        "id": "JUTj11dlyKgH"
      },
      "execution_count": 160,
      "outputs": []
    },
    {
      "cell_type": "code",
      "source": [
        "best_model"
      ],
      "metadata": {
        "colab": {
          "base_uri": "https://localhost:8080/"
        },
        "id": "r1uW7x9jzH7j",
        "outputId": "76c6c089-2fd9-418b-b26e-5f00fb9c2a24"
      },
      "execution_count": 161,
      "outputs": [
        {
          "output_type": "execute_result",
          "data": {
            "text/plain": [
              "AdaBoostClassifier(algorithm='SAMME.R', base_estimator=None, learning_rate=1.0,\n",
              "                   n_estimators=50, random_state=8895)"
            ]
          },
          "metadata": {},
          "execution_count": 161
        }
      ]
    },
    {
      "cell_type": "code",
      "source": [
        "### train the model \n",
        "best_model.fit(X_train, y_train)"
      ],
      "metadata": {
        "colab": {
          "base_uri": "https://localhost:8080/"
        },
        "id": "rabNjc9mzU0W",
        "outputId": "978c1c5f-6315-457d-f3da-b0eadc06d362"
      },
      "execution_count": 162,
      "outputs": [
        {
          "output_type": "execute_result",
          "data": {
            "text/plain": [
              "AdaBoostClassifier(algorithm='SAMME.R', base_estimator=None, learning_rate=1.0,\n",
              "                   n_estimators=50, random_state=8895)"
            ]
          },
          "metadata": {},
          "execution_count": 162
        }
      ]
    },
    {
      "cell_type": "code",
      "source": [
        "X_train.shape"
      ],
      "metadata": {
        "colab": {
          "base_uri": "https://localhost:8080/"
        },
        "id": "nCFEbMiRzcBs",
        "outputId": "63b8161b-4ec9-4ce4-8e37-33c78b2b7800"
      },
      "execution_count": 163,
      "outputs": [
        {
          "output_type": "execute_result",
          "data": {
            "text/plain": [
              "(116, 19)"
            ]
          },
          "metadata": {},
          "execution_count": 163
        }
      ]
    },
    {
      "cell_type": "code",
      "source": [
        "\n",
        "highly_corr_feats"
      ],
      "metadata": {
        "colab": {
          "base_uri": "https://localhost:8080/"
        },
        "id": "cM-bFV1Eztau",
        "outputId": "07f97028-b940-41a3-cdf9-0427673a910b"
      },
      "execution_count": 164,
      "outputs": [
        {
          "output_type": "execute_result",
          "data": {
            "text/plain": [
              "['poi',\n",
              " 'salary',\n",
              " 'total_payments',\n",
              " 'loan_advances',\n",
              " 'bonus',\n",
              " 'deferred_income',\n",
              " 'total_stock_value',\n",
              " 'expenses',\n",
              " 'exercised_stock_options',\n",
              " 'other',\n",
              " 'long_term_incentive',\n",
              " 'restricted_stock',\n",
              " 'director_fees',\n",
              " 'to_messages',\n",
              " 'from_poi_to_this_person',\n",
              " 'from_this_person_to_poi',\n",
              " 'shared_receipt_with_poi',\n",
              " 'pct_amount_paid_from_bonus']"
            ]
          },
          "metadata": {},
          "execution_count": 164
        }
      ]
    },
    {
      "cell_type": "code",
      "source": [
        "### find feature importance from model\n",
        "best_model.feature_importances_"
      ],
      "metadata": {
        "colab": {
          "base_uri": "https://localhost:8080/"
        },
        "id": "hajeLdYczVme",
        "outputId": "fe01528d-7e66-4236-c3d8-5ae3ccff2a1d"
      },
      "execution_count": 165,
      "outputs": [
        {
          "output_type": "execute_result",
          "data": {
            "text/plain": [
              "array([0.08, 0.  , 0.12, 0.  , 0.06, 0.  , 0.  , 0.02, 0.18, 0.04, 0.1 ,\n",
              "       0.  , 0.14, 0.  , 0.  , 0.02, 0.02, 0.14, 0.08])"
            ]
          },
          "metadata": {},
          "execution_count": 165
        }
      ]
    },
    {
      "cell_type": "code",
      "source": [
        "feature_scores = pd.DataFrame((my_data.columns[1:], best_model.feature_importances_))"
      ],
      "metadata": {
        "id": "B08O1dzN0IZ_"
      },
      "execution_count": 167,
      "outputs": []
    },
    {
      "cell_type": "code",
      "source": [
        "feature_scores.transpose()"
      ],
      "metadata": {
        "colab": {
          "base_uri": "https://localhost:8080/",
          "height": 645
        },
        "id": "m0fqa8Yb0PwP",
        "outputId": "8cb8c7f9-a0c1-41de-d23e-5fdd9f8064c8"
      },
      "execution_count": 168,
      "outputs": [
        {
          "output_type": "execute_result",
          "data": {
            "text/html": [
              "\n",
              "  <div id=\"df-73e0e582-3992-4b26-8a61-1e80f65165f0\">\n",
              "    <div class=\"colab-df-container\">\n",
              "      <div>\n",
              "<style scoped>\n",
              "    .dataframe tbody tr th:only-of-type {\n",
              "        vertical-align: middle;\n",
              "    }\n",
              "\n",
              "    .dataframe tbody tr th {\n",
              "        vertical-align: top;\n",
              "    }\n",
              "\n",
              "    .dataframe thead th {\n",
              "        text-align: right;\n",
              "    }\n",
              "</style>\n",
              "<table border=\"1\" class=\"dataframe\">\n",
              "  <thead>\n",
              "    <tr style=\"text-align: right;\">\n",
              "      <th></th>\n",
              "      <th>0</th>\n",
              "      <th>1</th>\n",
              "    </tr>\n",
              "  </thead>\n",
              "  <tbody>\n",
              "    <tr>\n",
              "      <th>0</th>\n",
              "      <td>salary</td>\n",
              "      <td>0.08</td>\n",
              "    </tr>\n",
              "    <tr>\n",
              "      <th>1</th>\n",
              "      <td>deferral_payments</td>\n",
              "      <td>0.0</td>\n",
              "    </tr>\n",
              "    <tr>\n",
              "      <th>2</th>\n",
              "      <td>total_payments</td>\n",
              "      <td>0.12</td>\n",
              "    </tr>\n",
              "    <tr>\n",
              "      <th>3</th>\n",
              "      <td>loan_advances</td>\n",
              "      <td>0.0</td>\n",
              "    </tr>\n",
              "    <tr>\n",
              "      <th>4</th>\n",
              "      <td>bonus</td>\n",
              "      <td>0.06</td>\n",
              "    </tr>\n",
              "    <tr>\n",
              "      <th>5</th>\n",
              "      <td>restricted_stock_deferred</td>\n",
              "      <td>0.0</td>\n",
              "    </tr>\n",
              "    <tr>\n",
              "      <th>6</th>\n",
              "      <td>deferred_income</td>\n",
              "      <td>0.0</td>\n",
              "    </tr>\n",
              "    <tr>\n",
              "      <th>7</th>\n",
              "      <td>total_stock_value</td>\n",
              "      <td>0.02</td>\n",
              "    </tr>\n",
              "    <tr>\n",
              "      <th>8</th>\n",
              "      <td>expenses</td>\n",
              "      <td>0.18</td>\n",
              "    </tr>\n",
              "    <tr>\n",
              "      <th>9</th>\n",
              "      <td>exercised_stock_options</td>\n",
              "      <td>0.04</td>\n",
              "    </tr>\n",
              "    <tr>\n",
              "      <th>10</th>\n",
              "      <td>other</td>\n",
              "      <td>0.1</td>\n",
              "    </tr>\n",
              "    <tr>\n",
              "      <th>11</th>\n",
              "      <td>long_term_incentive</td>\n",
              "      <td>0.0</td>\n",
              "    </tr>\n",
              "    <tr>\n",
              "      <th>12</th>\n",
              "      <td>restricted_stock</td>\n",
              "      <td>0.14</td>\n",
              "    </tr>\n",
              "    <tr>\n",
              "      <th>13</th>\n",
              "      <td>director_fees</td>\n",
              "      <td>0.0</td>\n",
              "    </tr>\n",
              "    <tr>\n",
              "      <th>14</th>\n",
              "      <td>to_messages</td>\n",
              "      <td>0.0</td>\n",
              "    </tr>\n",
              "    <tr>\n",
              "      <th>15</th>\n",
              "      <td>from_poi_to_this_person</td>\n",
              "      <td>0.02</td>\n",
              "    </tr>\n",
              "    <tr>\n",
              "      <th>16</th>\n",
              "      <td>from_messages</td>\n",
              "      <td>0.02</td>\n",
              "    </tr>\n",
              "    <tr>\n",
              "      <th>17</th>\n",
              "      <td>from_this_person_to_poi</td>\n",
              "      <td>0.14</td>\n",
              "    </tr>\n",
              "    <tr>\n",
              "      <th>18</th>\n",
              "      <td>shared_receipt_with_poi</td>\n",
              "      <td>0.08</td>\n",
              "    </tr>\n",
              "  </tbody>\n",
              "</table>\n",
              "</div>\n",
              "      <button class=\"colab-df-convert\" onclick=\"convertToInteractive('df-73e0e582-3992-4b26-8a61-1e80f65165f0')\"\n",
              "              title=\"Convert this dataframe to an interactive table.\"\n",
              "              style=\"display:none;\">\n",
              "        \n",
              "  <svg xmlns=\"http://www.w3.org/2000/svg\" height=\"24px\"viewBox=\"0 0 24 24\"\n",
              "       width=\"24px\">\n",
              "    <path d=\"M0 0h24v24H0V0z\" fill=\"none\"/>\n",
              "    <path d=\"M18.56 5.44l.94 2.06.94-2.06 2.06-.94-2.06-.94-.94-2.06-.94 2.06-2.06.94zm-11 1L8.5 8.5l.94-2.06 2.06-.94-2.06-.94L8.5 2.5l-.94 2.06-2.06.94zm10 10l.94 2.06.94-2.06 2.06-.94-2.06-.94-.94-2.06-.94 2.06-2.06.94z\"/><path d=\"M17.41 7.96l-1.37-1.37c-.4-.4-.92-.59-1.43-.59-.52 0-1.04.2-1.43.59L10.3 9.45l-7.72 7.72c-.78.78-.78 2.05 0 2.83L4 21.41c.39.39.9.59 1.41.59.51 0 1.02-.2 1.41-.59l7.78-7.78 2.81-2.81c.8-.78.8-2.07 0-2.86zM5.41 20L4 18.59l7.72-7.72 1.47 1.35L5.41 20z\"/>\n",
              "  </svg>\n",
              "      </button>\n",
              "      \n",
              "  <style>\n",
              "    .colab-df-container {\n",
              "      display:flex;\n",
              "      flex-wrap:wrap;\n",
              "      gap: 12px;\n",
              "    }\n",
              "\n",
              "    .colab-df-convert {\n",
              "      background-color: #E8F0FE;\n",
              "      border: none;\n",
              "      border-radius: 50%;\n",
              "      cursor: pointer;\n",
              "      display: none;\n",
              "      fill: #1967D2;\n",
              "      height: 32px;\n",
              "      padding: 0 0 0 0;\n",
              "      width: 32px;\n",
              "    }\n",
              "\n",
              "    .colab-df-convert:hover {\n",
              "      background-color: #E2EBFA;\n",
              "      box-shadow: 0px 1px 2px rgba(60, 64, 67, 0.3), 0px 1px 3px 1px rgba(60, 64, 67, 0.15);\n",
              "      fill: #174EA6;\n",
              "    }\n",
              "\n",
              "    [theme=dark] .colab-df-convert {\n",
              "      background-color: #3B4455;\n",
              "      fill: #D2E3FC;\n",
              "    }\n",
              "\n",
              "    [theme=dark] .colab-df-convert:hover {\n",
              "      background-color: #434B5C;\n",
              "      box-shadow: 0px 1px 3px 1px rgba(0, 0, 0, 0.15);\n",
              "      filter: drop-shadow(0px 1px 2px rgba(0, 0, 0, 0.3));\n",
              "      fill: #FFFFFF;\n",
              "    }\n",
              "  </style>\n",
              "\n",
              "      <script>\n",
              "        const buttonEl =\n",
              "          document.querySelector('#df-73e0e582-3992-4b26-8a61-1e80f65165f0 button.colab-df-convert');\n",
              "        buttonEl.style.display =\n",
              "          google.colab.kernel.accessAllowed ? 'block' : 'none';\n",
              "\n",
              "        async function convertToInteractive(key) {\n",
              "          const element = document.querySelector('#df-73e0e582-3992-4b26-8a61-1e80f65165f0');\n",
              "          const dataTable =\n",
              "            await google.colab.kernel.invokeFunction('convertToInteractive',\n",
              "                                                     [key], {});\n",
              "          if (!dataTable) return;\n",
              "\n",
              "          const docLinkHtml = 'Like what you see? Visit the ' +\n",
              "            '<a target=\"_blank\" href=https://colab.research.google.com/notebooks/data_table.ipynb>data table notebook</a>'\n",
              "            + ' to learn more about interactive tables.';\n",
              "          element.innerHTML = '';\n",
              "          dataTable['output_type'] = 'display_data';\n",
              "          await google.colab.output.renderOutput(dataTable, element);\n",
              "          const docLink = document.createElement('div');\n",
              "          docLink.innerHTML = docLinkHtml;\n",
              "          element.appendChild(docLink);\n",
              "        }\n",
              "      </script>\n",
              "    </div>\n",
              "  </div>\n",
              "  "
            ],
            "text/plain": [
              "                            0     1\n",
              "0                      salary  0.08\n",
              "1           deferral_payments   0.0\n",
              "2              total_payments  0.12\n",
              "3               loan_advances   0.0\n",
              "4                       bonus  0.06\n",
              "5   restricted_stock_deferred   0.0\n",
              "6             deferred_income   0.0\n",
              "7           total_stock_value  0.02\n",
              "8                    expenses  0.18\n",
              "9     exercised_stock_options  0.04\n",
              "10                      other   0.1\n",
              "11        long_term_incentive   0.0\n",
              "12           restricted_stock  0.14\n",
              "13              director_fees   0.0\n",
              "14                to_messages   0.0\n",
              "15    from_poi_to_this_person  0.02\n",
              "16              from_messages  0.02\n",
              "17    from_this_person_to_poi  0.14\n",
              "18    shared_receipt_with_poi  0.08"
            ]
          },
          "metadata": {},
          "execution_count": 168
        }
      ]
    },
    {
      "cell_type": "code",
      "source": [
        "## evaluating tuned model with tester script\n",
        "precision, recall, accuracy = test_classifier(best_model, my_data, folds=500)\n",
        "print(f'Precision: {precision}')\n",
        "print(f'Recall: {recall}')\n",
        "print(f'Accuracy: {accuracy}')\n",
        "print()"
      ],
      "metadata": {
        "colab": {
          "base_uri": "https://localhost:8080/"
        },
        "id": "_0qpuPiwz5H7",
        "outputId": "dae61102-8aec-4e1d-c8a0-d9e30c2a2a03"
      },
      "execution_count": 169,
      "outputs": [
        {
          "output_type": "stream",
          "name": "stdout",
          "text": [
            "Precision: 0.396078431372549\n",
            "Recall: 0.303\n",
            "Accuracy: 0.8454666666666667\n",
            "\n"
          ]
        }
      ]
    },
    {
      "cell_type": "code",
      "source": [
        "#### saving the classifier\n",
        "dump_classifier_and_data(best_model, my_dataset, features_list)"
      ],
      "metadata": {
        "id": "a0Xvly1dJnd_"
      },
      "execution_count": 172,
      "outputs": []
    },
    {
      "cell_type": "code",
      "source": [
        "### loading the saved model\n",
        "loaded_model = pickle.load(open('my_classifier.pkl', 'rb'))"
      ],
      "metadata": {
        "id": "vivpn1VqMo2I"
      },
      "execution_count": 173,
      "outputs": []
    },
    {
      "cell_type": "code",
      "source": [
        "## evaluating loaded model with tester script\n",
        "precision, recall, accuracy = test_classifier(loaded_model, my_data, folds=500)\n",
        "print(f'Precision: {precision}')\n",
        "print(f'Recall: {recall}')\n",
        "print(f'Accuracy: {accuracy}')\n",
        "print()"
      ],
      "metadata": {
        "colab": {
          "base_uri": "https://localhost:8080/"
        },
        "id": "jJFRf3pm1ONr",
        "outputId": "c1831f6d-420c-46d1-de91-426dca654a5e"
      },
      "execution_count": 175,
      "outputs": [
        {
          "output_type": "stream",
          "name": "stdout",
          "text": [
            "Precision: 0.396078431372549\n",
            "Recall: 0.303\n",
            "Accuracy: 0.8454666666666667\n",
            "\n"
          ]
        }
      ]
    },
    {
      "cell_type": "code",
      "source": [
        ""
      ],
      "metadata": {
        "id": "iqLYxA101Tar"
      },
      "execution_count": null,
      "outputs": []
    }
  ]
}