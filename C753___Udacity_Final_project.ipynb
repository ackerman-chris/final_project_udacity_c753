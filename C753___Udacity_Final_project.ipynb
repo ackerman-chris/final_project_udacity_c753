{
 "cells": [
  {
   "cell_type": "code",
   "execution_count": 1,
   "metadata": {
    "id": "JSbclPXiuiXd"
   },
   "outputs": [],
   "source": [
    "import pandas as pd\n",
    "import sys\n",
    "import numpy as np\n",
    "import pickle\n",
    "from pycaret.classification import * \n",
    "import seaborn as sns\n",
    "import matplotlib.pyplot as plt\n",
    "\n",
    "#sys.path.append(\"../tools/\")\n",
    "from final_project.tester import dump_classifier_and_data\n",
    "from tools.feature_format import featureFormat, targetFeatureSplit\n",
    "\n",
    "\n",
    "# Provided to give you a starting point. Try a variety of classifiers.\n",
    "from sklearn.naive_bayes import GaussianNB\n",
    "from sklearn.svm import SVC\n",
    "from sklearn.linear_model import LogisticRegression\n",
    "from sklearn.ensemble import RandomForestClassifier\n",
    "from final_project.tester import test_classifier\n",
    "from sklearn.ensemble import GradientBoostingClassifier\n",
    "from sklearn.tree import DecisionTreeClassifier\n",
    "\n",
    "### Task 1: Select what features you'll use.\n",
    "### features_list is a list of strings, each of which is a feature name.\n",
    "### The first feature must be \"poi\".\n",
    "features_list = ['poi', 'salary', 'deferral_payments', 'total_payments', 'loan_advances',\n",
    "                 'bonus', 'restricted_stock_deferred', 'deferred_income',\n",
    "                 'total_stock_value', 'expenses', 'exercised_stock_options',\n",
    "                 'other', 'long_term_incentive', 'restricted_stock', 'director_fees',\n",
    "                 'to_messages', 'from_poi_to_this_person', 'from_messages',\n",
    "                 'from_this_person_to_poi', 'shared_receipt_with_poi'] \n",
    "\n",
    "### Load the dictionary containing the dataset\n",
    "with open(\"final_project/final_project_dataset.pkl\", \"rb\") as data_file:\n",
    "    data_dict = pickle.load(data_file)\n",
    "\n"
   ]
  },
  {
   "cell_type": "code",
   "execution_count": 2,
   "metadata": {
    "id": "jMT6rxQ-usfH"
   },
   "outputs": [],
   "source": [
    "### Store to my_dataset for easy export below.\n",
    "my_dataset = data_dict\n",
    "\n",
    "### Extract features and labels from dataset for local testing\n",
    "data = featureFormat(my_dataset, features_list, sort_keys = True)"
   ]
  },
  {
   "cell_type": "code",
   "execution_count": 3,
   "metadata": {
    "colab": {
     "base_uri": "https://localhost:8080/",
     "height": 270
    },
    "id": "tBkYCMcPaYFm",
    "outputId": "e45f3144-a34b-4dbd-bb0f-4df75fd0337e"
   },
   "outputs": [
    {
     "data": {
      "text/html": [
       "<div>\n",
       "<style scoped>\n",
       "    .dataframe tbody tr th:only-of-type {\n",
       "        vertical-align: middle;\n",
       "    }\n",
       "\n",
       "    .dataframe tbody tr th {\n",
       "        vertical-align: top;\n",
       "    }\n",
       "\n",
       "    .dataframe thead th {\n",
       "        text-align: right;\n",
       "    }\n",
       "</style>\n",
       "<table border=\"1\" class=\"dataframe\">\n",
       "  <thead>\n",
       "    <tr style=\"text-align: right;\">\n",
       "      <th></th>\n",
       "      <th>poi</th>\n",
       "      <th>salary</th>\n",
       "      <th>deferral_payments</th>\n",
       "      <th>total_payments</th>\n",
       "      <th>loan_advances</th>\n",
       "      <th>bonus</th>\n",
       "      <th>restricted_stock_deferred</th>\n",
       "      <th>deferred_income</th>\n",
       "      <th>total_stock_value</th>\n",
       "      <th>expenses</th>\n",
       "      <th>exercised_stock_options</th>\n",
       "      <th>other</th>\n",
       "      <th>long_term_incentive</th>\n",
       "      <th>restricted_stock</th>\n",
       "      <th>director_fees</th>\n",
       "      <th>to_messages</th>\n",
       "      <th>from_poi_to_this_person</th>\n",
       "      <th>from_messages</th>\n",
       "      <th>from_this_person_to_poi</th>\n",
       "      <th>shared_receipt_with_poi</th>\n",
       "    </tr>\n",
       "  </thead>\n",
       "  <tbody>\n",
       "    <tr>\n",
       "      <th>0</th>\n",
       "      <td>0.0</td>\n",
       "      <td>201955.0</td>\n",
       "      <td>2869717.0</td>\n",
       "      <td>4484442.0</td>\n",
       "      <td>0.0</td>\n",
       "      <td>4175000.0</td>\n",
       "      <td>-126027.0</td>\n",
       "      <td>-3081055.0</td>\n",
       "      <td>1729541.0</td>\n",
       "      <td>13868.0</td>\n",
       "      <td>1729541.0</td>\n",
       "      <td>152.0</td>\n",
       "      <td>304805.0</td>\n",
       "      <td>126027.0</td>\n",
       "      <td>0.0</td>\n",
       "      <td>2902.0</td>\n",
       "      <td>47.0</td>\n",
       "      <td>2195.0</td>\n",
       "      <td>65.0</td>\n",
       "      <td>1407.0</td>\n",
       "    </tr>\n",
       "    <tr>\n",
       "      <th>1</th>\n",
       "      <td>0.0</td>\n",
       "      <td>0.0</td>\n",
       "      <td>178980.0</td>\n",
       "      <td>182466.0</td>\n",
       "      <td>0.0</td>\n",
       "      <td>0.0</td>\n",
       "      <td>0.0</td>\n",
       "      <td>0.0</td>\n",
       "      <td>257817.0</td>\n",
       "      <td>3486.0</td>\n",
       "      <td>257817.0</td>\n",
       "      <td>0.0</td>\n",
       "      <td>0.0</td>\n",
       "      <td>0.0</td>\n",
       "      <td>0.0</td>\n",
       "      <td>0.0</td>\n",
       "      <td>0.0</td>\n",
       "      <td>0.0</td>\n",
       "      <td>0.0</td>\n",
       "      <td>0.0</td>\n",
       "    </tr>\n",
       "    <tr>\n",
       "      <th>2</th>\n",
       "      <td>0.0</td>\n",
       "      <td>477.0</td>\n",
       "      <td>0.0</td>\n",
       "      <td>916197.0</td>\n",
       "      <td>0.0</td>\n",
       "      <td>0.0</td>\n",
       "      <td>-560222.0</td>\n",
       "      <td>-5104.0</td>\n",
       "      <td>5243487.0</td>\n",
       "      <td>56301.0</td>\n",
       "      <td>4046157.0</td>\n",
       "      <td>864523.0</td>\n",
       "      <td>0.0</td>\n",
       "      <td>1757552.0</td>\n",
       "      <td>0.0</td>\n",
       "      <td>566.0</td>\n",
       "      <td>39.0</td>\n",
       "      <td>29.0</td>\n",
       "      <td>0.0</td>\n",
       "      <td>465.0</td>\n",
       "    </tr>\n",
       "    <tr>\n",
       "      <th>3</th>\n",
       "      <td>0.0</td>\n",
       "      <td>267102.0</td>\n",
       "      <td>1295738.0</td>\n",
       "      <td>5634343.0</td>\n",
       "      <td>0.0</td>\n",
       "      <td>1200000.0</td>\n",
       "      <td>0.0</td>\n",
       "      <td>-1386055.0</td>\n",
       "      <td>10623258.0</td>\n",
       "      <td>11200.0</td>\n",
       "      <td>6680544.0</td>\n",
       "      <td>2660303.0</td>\n",
       "      <td>1586055.0</td>\n",
       "      <td>3942714.0</td>\n",
       "      <td>0.0</td>\n",
       "      <td>0.0</td>\n",
       "      <td>0.0</td>\n",
       "      <td>0.0</td>\n",
       "      <td>0.0</td>\n",
       "      <td>0.0</td>\n",
       "    </tr>\n",
       "    <tr>\n",
       "      <th>4</th>\n",
       "      <td>0.0</td>\n",
       "      <td>239671.0</td>\n",
       "      <td>260455.0</td>\n",
       "      <td>827696.0</td>\n",
       "      <td>0.0</td>\n",
       "      <td>400000.0</td>\n",
       "      <td>-82782.0</td>\n",
       "      <td>-201641.0</td>\n",
       "      <td>63014.0</td>\n",
       "      <td>129142.0</td>\n",
       "      <td>0.0</td>\n",
       "      <td>69.0</td>\n",
       "      <td>0.0</td>\n",
       "      <td>145796.0</td>\n",
       "      <td>0.0</td>\n",
       "      <td>0.0</td>\n",
       "      <td>0.0</td>\n",
       "      <td>0.0</td>\n",
       "      <td>0.0</td>\n",
       "      <td>0.0</td>\n",
       "    </tr>\n",
       "  </tbody>\n",
       "</table>\n",
       "</div>"
      ],
      "text/plain": [
       "   poi    salary  deferral_payments  total_payments  loan_advances      bonus  \\\n",
       "0  0.0  201955.0          2869717.0       4484442.0            0.0  4175000.0   \n",
       "1  0.0       0.0           178980.0        182466.0            0.0        0.0   \n",
       "2  0.0     477.0                0.0        916197.0            0.0        0.0   \n",
       "3  0.0  267102.0          1295738.0       5634343.0            0.0  1200000.0   \n",
       "4  0.0  239671.0           260455.0        827696.0            0.0   400000.0   \n",
       "\n",
       "   restricted_stock_deferred  deferred_income  total_stock_value  expenses  \\\n",
       "0                  -126027.0       -3081055.0          1729541.0   13868.0   \n",
       "1                        0.0              0.0           257817.0    3486.0   \n",
       "2                  -560222.0          -5104.0          5243487.0   56301.0   \n",
       "3                        0.0       -1386055.0         10623258.0   11200.0   \n",
       "4                   -82782.0        -201641.0            63014.0  129142.0   \n",
       "\n",
       "   exercised_stock_options      other  long_term_incentive  restricted_stock  \\\n",
       "0                1729541.0      152.0             304805.0          126027.0   \n",
       "1                 257817.0        0.0                  0.0               0.0   \n",
       "2                4046157.0   864523.0                  0.0         1757552.0   \n",
       "3                6680544.0  2660303.0            1586055.0         3942714.0   \n",
       "4                      0.0       69.0                  0.0          145796.0   \n",
       "\n",
       "   director_fees  to_messages  from_poi_to_this_person  from_messages  \\\n",
       "0            0.0       2902.0                     47.0         2195.0   \n",
       "1            0.0          0.0                      0.0            0.0   \n",
       "2            0.0        566.0                     39.0           29.0   \n",
       "3            0.0          0.0                      0.0            0.0   \n",
       "4            0.0          0.0                      0.0            0.0   \n",
       "\n",
       "   from_this_person_to_poi  shared_receipt_with_poi  \n",
       "0                     65.0                   1407.0  \n",
       "1                      0.0                      0.0  \n",
       "2                      0.0                    465.0  \n",
       "3                      0.0                      0.0  \n",
       "4                      0.0                      0.0  "
      ]
     },
     "execution_count": 3,
     "metadata": {},
     "output_type": "execute_result"
    }
   ],
   "source": [
    "### converting the data to df for some analysis and exploration\n",
    "my_data = pd.DataFrame(data, columns=features_list)\n",
    "my_data.head()"
   ]
  },
  {
   "cell_type": "code",
   "execution_count": 4,
   "metadata": {
    "colab": {
     "base_uri": "https://localhost:8080/"
    },
    "id": "A8lxj8DjaxxT",
    "outputId": "dcba4944-daf4-49bf-a2fa-4710eb038dd4"
   },
   "outputs": [
    {
     "name": "stdout",
     "output_type": "stream",
     "text": [
      "<class 'pandas.core.frame.DataFrame'>\n",
      "RangeIndex: 145 entries, 0 to 144\n",
      "Data columns (total 20 columns):\n",
      " #   Column                     Non-Null Count  Dtype  \n",
      "---  ------                     --------------  -----  \n",
      " 0   poi                        145 non-null    float64\n",
      " 1   salary                     145 non-null    float64\n",
      " 2   deferral_payments          145 non-null    float64\n",
      " 3   total_payments             145 non-null    float64\n",
      " 4   loan_advances              145 non-null    float64\n",
      " 5   bonus                      145 non-null    float64\n",
      " 6   restricted_stock_deferred  145 non-null    float64\n",
      " 7   deferred_income            145 non-null    float64\n",
      " 8   total_stock_value          145 non-null    float64\n",
      " 9   expenses                   145 non-null    float64\n",
      " 10  exercised_stock_options    145 non-null    float64\n",
      " 11  other                      145 non-null    float64\n",
      " 12  long_term_incentive        145 non-null    float64\n",
      " 13  restricted_stock           145 non-null    float64\n",
      " 14  director_fees              145 non-null    float64\n",
      " 15  to_messages                145 non-null    float64\n",
      " 16  from_poi_to_this_person    145 non-null    float64\n",
      " 17  from_messages              145 non-null    float64\n",
      " 18  from_this_person_to_poi    145 non-null    float64\n",
      " 19  shared_receipt_with_poi    145 non-null    float64\n",
      "dtypes: float64(20)\n",
      "memory usage: 22.8 KB\n"
     ]
    }
   ],
   "source": [
    "# inspect info\n",
    "my_data.info()"
   ]
  },
  {
   "cell_type": "code",
   "execution_count": 5,
   "metadata": {
    "colab": {
     "base_uri": "https://localhost:8080/"
    },
    "id": "l7TDK06maryU",
    "outputId": "567d9aed-4d77-4762-e1e8-873497785f7c"
   },
   "outputs": [
    {
     "name": "stdout",
     "output_type": "stream",
     "text": [
      "salary = 0.34%\n",
      "deferral_payments = 0.73%\n",
      "total_payments = 0.14%\n",
      "loan_advances = 0.97%\n",
      "bonus = 0.43%\n",
      "restricted_stock_deferred = 0.88%\n",
      "deferred_income = 0.66%\n",
      "total_stock_value = 0.13%\n",
      "expenses = 0.34%\n",
      "exercised_stock_options = 0.30%\n",
      "other = 0.36%\n",
      "long_term_incentive = 0.54%\n",
      "restricted_stock = 0.24%\n",
      "director_fees = 0.88%\n",
      "to_messages = 0.41%\n",
      "from_poi_to_this_person = 0.49%\n",
      "from_messages = 0.41%\n",
      "from_this_person_to_poi = 0.54%\n",
      "shared_receipt_with_poi = 0.41%\n"
     ]
    }
   ],
   "source": [
    "### find how many values are missing in each column\n",
    "selected_features_missing = []\n",
    "for col in features_list[1:]:\n",
    "  missing_vals = len(my_data[col][np.where(my_data[col]==0)[0]])\n",
    "  total_vals = len(my_data[col])\n",
    "  ptc_missing = missing_vals / total_vals\n",
    "  if ptc_missing < 0.25:\n",
    "    selected_features_missing.append(col)\n",
    "  print(f'{col} = {ptc_missing:.2f}%')"
   ]
  },
  {
   "cell_type": "code",
   "execution_count": 6,
   "metadata": {
    "colab": {
     "base_uri": "https://localhost:8080/"
    },
    "id": "lt9HHxy_cpIz",
    "outputId": "e5f9f7c2-fa7e-40bc-ee00-742d01c84416"
   },
   "outputs": [
    {
     "data": {
      "text/plain": [
       "['total_payments', 'total_stock_value', 'restricted_stock']"
      ]
     },
     "execution_count": 6,
     "metadata": {},
     "output_type": "execute_result"
    }
   ],
   "source": [
    "selected_features_missing"
   ]
  },
  {
   "cell_type": "code",
   "execution_count": 7,
   "metadata": {
    "colab": {
     "base_uri": "https://localhost:8080/",
     "height": 699
    },
    "id": "7UaSPd3RcxoO",
    "outputId": "e437492e-ecdf-469f-f8a1-d6ecba88efdf"
   },
   "outputs": [
    {
     "data": {
      "image/png": "[encoded data removed]",
      "text/plain": [
       "<Figure size 720x720 with 2 Axes>"
      ]
     },
     "metadata": {},
     "output_type": "display_data"
    }
   ],
   "source": [
    "### find the correlation in features\n",
    "plt.figure(figsize=(10, 10))\n",
    "sns.heatmap(my_data.corr());"
   ]
  },
  {
   "cell_type": "code",
   "execution_count": 8,
   "metadata": {
    "colab": {
     "base_uri": "https://localhost:8080/",
     "height": 298
    },
    "id": "4zQAsy1rcxhd",
    "outputId": "9839591e-bc06-4ba1-8654-e294245d030c"
   },
   "outputs": [
    {
     "data": {
      "image/png": "[encoded data removed]",
      "text/plain": [
       "<Figure size 576x396 with 1 Axes>"
      ]
     },
     "metadata": {},
     "output_type": "display_data"
    }
   ],
   "source": [
    "### is data really balanced?\n",
    "plt.title('Is Data Balanced?')\n",
    "plt.xlabel('Class/Label')\n",
    "plt.ylabel('Count')\n",
    "my_data['poi'].value_counts().plot.bar();"
   ]
  },
  {
   "cell_type": "code",
   "execution_count": 9,
   "metadata": {
    "colab": {
     "base_uri": "https://localhost:8080/"
    },
    "id": "nWvQf2sAeCu8",
    "outputId": "0f12a5e7-d15e-4782-ce64-5d7b507e9b09"
   },
   "outputs": [
    {
     "data": {
      "text/plain": [
       "False    128\n",
       "True      18\n",
       "Name: poi, dtype: int64"
      ]
     },
     "execution_count": 9,
     "metadata": {},
     "output_type": "execute_result"
    }
   ],
   "source": [
    "pd.DataFrame(data_dict).T['poi'].value_counts()"
   ]
  },
  {
   "cell_type": "markdown",
   "metadata": {
    "id": "e2flSEAweiap"
   },
   "source": [
    "Data is very much imbalanced and more biased to class 0."
   ]
  },
  {
   "cell_type": "code",
   "execution_count": 10,
   "metadata": {
    "id": "GnUFUWgThfqM"
   },
   "outputs": [],
   "source": [
    "### Task 2: Remove outliers\n",
    "### Task 3: Create new feature(s)"
   ]
  },
  {
   "cell_type": "markdown",
   "metadata": {
    "id": "ItFrBZ9OfXmp"
   },
   "source": [
    "### modeling experiments\n",
    "1. Take all the data as it is and find the baseline model."
   ]
  },
  {
   "cell_type": "code",
   "execution_count": 11,
   "metadata": {
    "id": "j1Hq5H9FhXEC"
   },
   "outputs": [],
   "source": [
    "### Task 4: Try a varity of classifiers\n",
    "### Please name your classifier clf for easy export below.\n",
    "### Note that if you want to do PCA or other multi-stage operations,\n",
    "### you'll need to use Pipelines. For more info:\n",
    "### http://scikit-learn.org/stable/modules/pipeline.html"
   ]
  },
  {
   "cell_type": "code",
   "execution_count": 20,
   "metadata": {
    "colab": {
     "base_uri": "https://localhost:8080/",
     "height": 488,
     "referenced_widgets": [
      "5f66ec30dafc4dd6ae789f78379f14dd",
      "29819c3ef1df41f4b61cad75f3399f12",
      "4121e8c0b2f0451fa45af69c4913e6b7",
      "74e38437d46449aca2cf8af3a20ac624",
      "5bbc3f52607345d6a927a3e6743d24bf",
      "bb4b357a14bb4f93a62dcb3d2e97afeb",
      "41c936b54dae40fdbe30557b58a556b1",
      "ad906769f82442658320caedc30a4f2a",
      "18f902890cf64cd0989436518e80b032"
     ]
    },
    "id": "qdCxU076fe54",
    "outputId": "148df75a-b555-4364-94c3-33dd71d24dde"
   },
   "outputs": [
    {
     "data": {
      "text/html": [
       "<style type=\"text/css\">\n",
       "#T_fdb09_ th {\n",
       "  text-align: left;\n",
       "}\n",
       "#T_fdb09_row0_col0, #T_fdb09_row0_col1, #T_fdb09_row0_col3, #T_fdb09_row1_col0, #T_fdb09_row1_col1, #T_fdb09_row1_col2, #T_fdb09_row1_col4, #T_fdb09_row1_col5, #T_fdb09_row1_col6, #T_fdb09_row1_col7, #T_fdb09_row2_col0, #T_fdb09_row2_col1, #T_fdb09_row2_col2, #T_fdb09_row2_col3, #T_fdb09_row2_col4, #T_fdb09_row2_col5, #T_fdb09_row2_col6, #T_fdb09_row2_col7, #T_fdb09_row3_col0, #T_fdb09_row3_col1, #T_fdb09_row3_col2, #T_fdb09_row3_col3, #T_fdb09_row3_col4, #T_fdb09_row3_col5, #T_fdb09_row3_col6, #T_fdb09_row3_col7, #T_fdb09_row4_col0, #T_fdb09_row4_col1, #T_fdb09_row4_col2, #T_fdb09_row4_col3, #T_fdb09_row4_col4, #T_fdb09_row4_col5, #T_fdb09_row4_col6, #T_fdb09_row4_col7, #T_fdb09_row5_col0, #T_fdb09_row5_col1, #T_fdb09_row5_col2, #T_fdb09_row5_col3, #T_fdb09_row5_col4, #T_fdb09_row5_col5, #T_fdb09_row5_col6, #T_fdb09_row5_col7, #T_fdb09_row6_col0, #T_fdb09_row6_col1, #T_fdb09_row6_col2, #T_fdb09_row6_col3, #T_fdb09_row6_col4, #T_fdb09_row6_col5, #T_fdb09_row6_col6, #T_fdb09_row6_col7, #T_fdb09_row7_col0, #T_fdb09_row7_col1, #T_fdb09_row7_col2, #T_fdb09_row7_col3, #T_fdb09_row7_col4, #T_fdb09_row7_col5, #T_fdb09_row7_col6, #T_fdb09_row7_col7, #T_fdb09_row8_col0, #T_fdb09_row8_col1, #T_fdb09_row8_col2, #T_fdb09_row8_col3, #T_fdb09_row8_col4, #T_fdb09_row8_col5, #T_fdb09_row8_col6, #T_fdb09_row8_col7, #T_fdb09_row9_col0, #T_fdb09_row9_col2, #T_fdb09_row9_col3, #T_fdb09_row9_col4, #T_fdb09_row9_col5, #T_fdb09_row9_col6, #T_fdb09_row9_col7, #T_fdb09_row10_col0, #T_fdb09_row10_col1, #T_fdb09_row10_col2, #T_fdb09_row10_col3, #T_fdb09_row10_col4, #T_fdb09_row10_col5, #T_fdb09_row10_col6, #T_fdb09_row10_col7, #T_fdb09_row11_col0, #T_fdb09_row11_col1, #T_fdb09_row11_col2, #T_fdb09_row11_col3, #T_fdb09_row11_col4, #T_fdb09_row11_col5, #T_fdb09_row11_col6, #T_fdb09_row11_col7, #T_fdb09_row12_col0, #T_fdb09_row12_col2, #T_fdb09_row12_col3, #T_fdb09_row12_col4, #T_fdb09_row12_col5, #T_fdb09_row12_col6, #T_fdb09_row12_col7, #T_fdb09_row13_col0, #T_fdb09_row13_col2, #T_fdb09_row13_col3, #T_fdb09_row13_col4, #T_fdb09_row13_col5, #T_fdb09_row13_col6, #T_fdb09_row13_col7 {\n",
       "  text-align: left;\n",
       "}\n",
       "#T_fdb09_row0_col2, #T_fdb09_row0_col4, #T_fdb09_row0_col5, #T_fdb09_row0_col6, #T_fdb09_row0_col7, #T_fdb09_row1_col3, #T_fdb09_row9_col1, #T_fdb09_row12_col1, #T_fdb09_row13_col1 {\n",
       "  text-align: left;\n",
       "  background-color: yellow;\n",
       "}\n",
       "#T_fdb09_row0_col8, #T_fdb09_row1_col8, #T_fdb09_row2_col8, #T_fdb09_row4_col8, #T_fdb09_row5_col8, #T_fdb09_row6_col8, #T_fdb09_row7_col8, #T_fdb09_row8_col8, #T_fdb09_row9_col8, #T_fdb09_row10_col8, #T_fdb09_row11_col8, #T_fdb09_row12_col8 {\n",
       "  text-align: left;\n",
       "  background-color: lightgrey;\n",
       "}\n",
       "#T_fdb09_row3_col8, #T_fdb09_row13_col8 {\n",
       "  text-align: left;\n",
       "  background-color: yellow;\n",
       "  background-color: lightgrey;\n",
       "}\n",
       "</style>\n",
       "<table id=\"T_fdb09_\">\n",
       "  <thead>\n",
       "    <tr>\n",
       "      <th class=\"blank level0\" >&nbsp;</th>\n",
       "      <th class=\"col_heading level0 col0\" >Model</th>\n",
       "      <th class=\"col_heading level0 col1\" >Accuracy</th>\n",
       "      <th class=\"col_heading level0 col2\" >AUC</th>\n",
       "      <th class=\"col_heading level0 col3\" >Recall</th>\n",
       "      <th class=\"col_heading level0 col4\" >Prec.</th>\n",
       "      <th class=\"col_heading level0 col5\" >F1</th>\n",
       "      <th class=\"col_heading level0 col6\" >Kappa</th>\n",
       "      <th class=\"col_heading level0 col7\" >MCC</th>\n",
       "      <th class=\"col_heading level0 col8\" >TT (Sec)</th>\n",
       "    </tr>\n",
       "  </thead>\n",
       "  <tbody>\n",
       "    <tr>\n",
       "      <th id=\"T_fdb09_level0_row0\" class=\"row_heading level0 row0\" >ada</th>\n",
       "      <td id=\"T_fdb09_row0_col0\" class=\"data row0 col0\" >Ada Boost Classifier</td>\n",
       "      <td id=\"T_fdb09_row0_col1\" class=\"data row0 col1\" >0.8536</td>\n",
       "      <td id=\"T_fdb09_row0_col2\" class=\"data row0 col2\" >0.6986</td>\n",
       "      <td id=\"T_fdb09_row0_col3\" class=\"data row0 col3\" >0.3500</td>\n",
       "      <td id=\"T_fdb09_row0_col4\" class=\"data row0 col4\" >0.3000</td>\n",
       "      <td id=\"T_fdb09_row0_col5\" class=\"data row0 col5\" >0.3000</td>\n",
       "      <td id=\"T_fdb09_row0_col6\" class=\"data row0 col6\" >0.2291</td>\n",
       "      <td id=\"T_fdb09_row0_col7\" class=\"data row0 col7\" >0.2444</td>\n",
       "      <td id=\"T_fdb09_row0_col8\" class=\"data row0 col8\" >0.0100</td>\n",
       "    </tr>\n",
       "    <tr>\n",
       "      <th id=\"T_fdb09_level0_row1\" class=\"row_heading level0 row1\" >nb</th>\n",
       "      <td id=\"T_fdb09_row1_col0\" class=\"data row1 col0\" >Naive Bayes</td>\n",
       "      <td id=\"T_fdb09_row1_col1\" class=\"data row1 col1\" >0.4055</td>\n",
       "      <td id=\"T_fdb09_row1_col2\" class=\"data row1 col2\" >0.5799</td>\n",
       "      <td id=\"T_fdb09_row1_col3\" class=\"data row1 col3\" >0.9000</td>\n",
       "      <td id=\"T_fdb09_row1_col4\" class=\"data row1 col4\" >0.1563</td>\n",
       "      <td id=\"T_fdb09_row1_col5\" class=\"data row1 col5\" >0.2616</td>\n",
       "      <td id=\"T_fdb09_row1_col6\" class=\"data row1 col6\" >0.0830</td>\n",
       "      <td id=\"T_fdb09_row1_col7\" class=\"data row1 col7\" >0.1789</td>\n",
       "      <td id=\"T_fdb09_row1_col8\" class=\"data row1 col8\" >0.0030</td>\n",
       "    </tr>\n",
       "    <tr>\n",
       "      <th id=\"T_fdb09_level0_row2\" class=\"row_heading level0 row2\" >gbc</th>\n",
       "      <td id=\"T_fdb09_row2_col0\" class=\"data row2 col0\" >Gradient Boosting Classifier</td>\n",
       "      <td id=\"T_fdb09_row2_col1\" class=\"data row2 col1\" >0.8518</td>\n",
       "      <td id=\"T_fdb09_row2_col2\" class=\"data row2 col2\" >0.6417</td>\n",
       "      <td id=\"T_fdb09_row2_col3\" class=\"data row2 col3\" >0.2500</td>\n",
       "      <td id=\"T_fdb09_row2_col4\" class=\"data row2 col4\" >0.1750</td>\n",
       "      <td id=\"T_fdb09_row2_col5\" class=\"data row2 col5\" >0.1733</td>\n",
       "      <td id=\"T_fdb09_row2_col6\" class=\"data row2 col6\" >0.1294</td>\n",
       "      <td id=\"T_fdb09_row2_col7\" class=\"data row2 col7\" >0.1519</td>\n",
       "      <td id=\"T_fdb09_row2_col8\" class=\"data row2 col8\" >0.0080</td>\n",
       "    </tr>\n",
       "    <tr>\n",
       "      <th id=\"T_fdb09_level0_row3\" class=\"row_heading level0 row3\" >ridge</th>\n",
       "      <td id=\"T_fdb09_row3_col0\" class=\"data row3 col0\" >Ridge Classifier</td>\n",
       "      <td id=\"T_fdb09_row3_col1\" class=\"data row3 col1\" >0.8718</td>\n",
       "      <td id=\"T_fdb09_row3_col2\" class=\"data row3 col2\" >0.0000</td>\n",
       "      <td id=\"T_fdb09_row3_col3\" class=\"data row3 col3\" >0.1500</td>\n",
       "      <td id=\"T_fdb09_row3_col4\" class=\"data row3 col4\" >0.2000</td>\n",
       "      <td id=\"T_fdb09_row3_col5\" class=\"data row3 col5\" >0.1667</td>\n",
       "      <td id=\"T_fdb09_row3_col6\" class=\"data row3 col6\" >0.1282</td>\n",
       "      <td id=\"T_fdb09_row3_col7\" class=\"data row3 col7\" >0.1333</td>\n",
       "      <td id=\"T_fdb09_row3_col8\" class=\"data row3 col8\" >0.0020</td>\n",
       "    </tr>\n",
       "    <tr>\n",
       "      <th id=\"T_fdb09_level0_row4\" class=\"row_heading level0 row4\" >lda</th>\n",
       "      <td id=\"T_fdb09_row4_col0\" class=\"data row4 col0\" >Linear Discriminant Analysis</td>\n",
       "      <td id=\"T_fdb09_row4_col1\" class=\"data row4 col1\" >0.8518</td>\n",
       "      <td id=\"T_fdb09_row4_col2\" class=\"data row4 col2\" >0.5410</td>\n",
       "      <td id=\"T_fdb09_row4_col3\" class=\"data row4 col3\" >0.1500</td>\n",
       "      <td id=\"T_fdb09_row4_col4\" class=\"data row4 col4\" >0.2000</td>\n",
       "      <td id=\"T_fdb09_row4_col5\" class=\"data row4 col5\" >0.1667</td>\n",
       "      <td id=\"T_fdb09_row4_col6\" class=\"data row4 col6\" >0.1197</td>\n",
       "      <td id=\"T_fdb09_row4_col7\" class=\"data row4 col7\" >0.1222</td>\n",
       "      <td id=\"T_fdb09_row4_col8\" class=\"data row4 col8\" >0.0030</td>\n",
       "    </tr>\n",
       "    <tr>\n",
       "      <th id=\"T_fdb09_level0_row5\" class=\"row_heading level0 row5\" >dt</th>\n",
       "      <td id=\"T_fdb09_row5_col0\" class=\"data row5 col0\" >Decision Tree Classifier</td>\n",
       "      <td id=\"T_fdb09_row5_col1\" class=\"data row5 col1\" >0.7918</td>\n",
       "      <td id=\"T_fdb09_row5_col2\" class=\"data row5 col2\" >0.5326</td>\n",
       "      <td id=\"T_fdb09_row5_col3\" class=\"data row5 col3\" >0.2000</td>\n",
       "      <td id=\"T_fdb09_row5_col4\" class=\"data row5 col4\" >0.1250</td>\n",
       "      <td id=\"T_fdb09_row5_col5\" class=\"data row5 col5\" >0.1400</td>\n",
       "      <td id=\"T_fdb09_row5_col6\" class=\"data row5 col6\" >0.0429</td>\n",
       "      <td id=\"T_fdb09_row5_col7\" class=\"data row5 col7\" >0.0509</td>\n",
       "      <td id=\"T_fdb09_row5_col8\" class=\"data row5 col8\" >0.0030</td>\n",
       "    </tr>\n",
       "    <tr>\n",
       "      <th id=\"T_fdb09_level0_row6\" class=\"row_heading level0 row6\" >lightgbm</th>\n",
       "      <td id=\"T_fdb09_row6_col0\" class=\"data row6 col0\" >Light Gradient Boosting Machine</td>\n",
       "      <td id=\"T_fdb09_row6_col1\" class=\"data row6 col1\" >0.8518</td>\n",
       "      <td id=\"T_fdb09_row6_col2\" class=\"data row6 col2\" >0.5667</td>\n",
       "      <td id=\"T_fdb09_row6_col3\" class=\"data row6 col3\" >0.2000</td>\n",
       "      <td id=\"T_fdb09_row6_col4\" class=\"data row6 col4\" >0.1000</td>\n",
       "      <td id=\"T_fdb09_row6_col5\" class=\"data row6 col5\" >0.1333</td>\n",
       "      <td id=\"T_fdb09_row6_col6\" class=\"data row6 col6\" >0.0828</td>\n",
       "      <td id=\"T_fdb09_row6_col7\" class=\"data row6 col7\" >0.0946</td>\n",
       "      <td id=\"T_fdb09_row6_col8\" class=\"data row6 col8\" >0.0050</td>\n",
       "    </tr>\n",
       "    <tr>\n",
       "      <th id=\"T_fdb09_level0_row7\" class=\"row_heading level0 row7\" >et</th>\n",
       "      <td id=\"T_fdb09_row7_col0\" class=\"data row7 col0\" >Extra Trees Classifier</td>\n",
       "      <td id=\"T_fdb09_row7_col1\" class=\"data row7 col1\" >0.8618</td>\n",
       "      <td id=\"T_fdb09_row7_col2\" class=\"data row7 col2\" >0.6892</td>\n",
       "      <td id=\"T_fdb09_row7_col3\" class=\"data row7 col3\" >0.1000</td>\n",
       "      <td id=\"T_fdb09_row7_col4\" class=\"data row7 col4\" >0.1000</td>\n",
       "      <td id=\"T_fdb09_row7_col5\" class=\"data row7 col5\" >0.1000</td>\n",
       "      <td id=\"T_fdb09_row7_col6\" class=\"data row7 col6\" >0.0667</td>\n",
       "      <td id=\"T_fdb09_row7_col7\" class=\"data row7 col7\" >0.0667</td>\n",
       "      <td id=\"T_fdb09_row7_col8\" class=\"data row7 col8\" >0.0840</td>\n",
       "    </tr>\n",
       "    <tr>\n",
       "      <th id=\"T_fdb09_level0_row8\" class=\"row_heading level0 row8\" >lr</th>\n",
       "      <td id=\"T_fdb09_row8_col0\" class=\"data row8 col0\" >Logistic Regression</td>\n",
       "      <td id=\"T_fdb09_row8_col1\" class=\"data row8 col1\" >0.7918</td>\n",
       "      <td id=\"T_fdb09_row8_col2\" class=\"data row8 col2\" >0.5924</td>\n",
       "      <td id=\"T_fdb09_row8_col3\" class=\"data row8 col3\" >0.1500</td>\n",
       "      <td id=\"T_fdb09_row8_col4\" class=\"data row8 col4\" >0.0750</td>\n",
       "      <td id=\"T_fdb09_row8_col5\" class=\"data row8 col5\" >0.0900</td>\n",
       "      <td id=\"T_fdb09_row8_col6\" class=\"data row8 col6\" >0.0137</td>\n",
       "      <td id=\"T_fdb09_row8_col7\" class=\"data row8 col7\" >0.0178</td>\n",
       "      <td id=\"T_fdb09_row8_col8\" class=\"data row8 col8\" >0.0160</td>\n",
       "    </tr>\n",
       "    <tr>\n",
       "      <th id=\"T_fdb09_level0_row9\" class=\"row_heading level0 row9\" >knn</th>\n",
       "      <td id=\"T_fdb09_row9_col0\" class=\"data row9 col0\" >K Neighbors Classifier</td>\n",
       "      <td id=\"T_fdb09_row9_col1\" class=\"data row9 col1\" >0.8818</td>\n",
       "      <td id=\"T_fdb09_row9_col2\" class=\"data row9 col2\" >0.6642</td>\n",
       "      <td id=\"T_fdb09_row9_col3\" class=\"data row9 col3\" >0.0000</td>\n",
       "      <td id=\"T_fdb09_row9_col4\" class=\"data row9 col4\" >0.0000</td>\n",
       "      <td id=\"T_fdb09_row9_col5\" class=\"data row9 col5\" >0.0000</td>\n",
       "      <td id=\"T_fdb09_row9_col6\" class=\"data row9 col6\" >0.0000</td>\n",
       "      <td id=\"T_fdb09_row9_col7\" class=\"data row9 col7\" >0.0000</td>\n",
       "      <td id=\"T_fdb09_row9_col8\" class=\"data row9 col8\" >0.0250</td>\n",
       "    </tr>\n",
       "    <tr>\n",
       "      <th id=\"T_fdb09_level0_row10\" class=\"row_heading level0 row10\" >svm</th>\n",
       "      <td id=\"T_fdb09_row10_col0\" class=\"data row10 col0\" >SVM - Linear Kernel</td>\n",
       "      <td id=\"T_fdb09_row10_col1\" class=\"data row10 col1\" >0.8418</td>\n",
       "      <td id=\"T_fdb09_row10_col2\" class=\"data row10 col2\" >0.0000</td>\n",
       "      <td id=\"T_fdb09_row10_col3\" class=\"data row10 col3\" >0.0000</td>\n",
       "      <td id=\"T_fdb09_row10_col4\" class=\"data row10 col4\" >0.0000</td>\n",
       "      <td id=\"T_fdb09_row10_col5\" class=\"data row10 col5\" >0.0000</td>\n",
       "      <td id=\"T_fdb09_row10_col6\" class=\"data row10 col6\" >-0.0487</td>\n",
       "      <td id=\"T_fdb09_row10_col7\" class=\"data row10 col7\" >-0.0500</td>\n",
       "      <td id=\"T_fdb09_row10_col8\" class=\"data row10 col8\" >0.0030</td>\n",
       "    </tr>\n",
       "    <tr>\n",
       "      <th id=\"T_fdb09_level0_row11\" class=\"row_heading level0 row11\" >rf</th>\n",
       "      <td id=\"T_fdb09_row11_col0\" class=\"data row11 col0\" >Random Forest Classifier</td>\n",
       "      <td id=\"T_fdb09_row11_col1\" class=\"data row11 col1\" >0.8718</td>\n",
       "      <td id=\"T_fdb09_row11_col2\" class=\"data row11 col2\" >0.6556</td>\n",
       "      <td id=\"T_fdb09_row11_col3\" class=\"data row11 col3\" >0.0000</td>\n",
       "      <td id=\"T_fdb09_row11_col4\" class=\"data row11 col4\" >0.0000</td>\n",
       "      <td id=\"T_fdb09_row11_col5\" class=\"data row11 col5\" >0.0000</td>\n",
       "      <td id=\"T_fdb09_row11_col6\" class=\"data row11 col6\" >-0.0111</td>\n",
       "      <td id=\"T_fdb09_row11_col7\" class=\"data row11 col7\" >-0.0111</td>\n",
       "      <td id=\"T_fdb09_row11_col8\" class=\"data row11 col8\" >0.0930</td>\n",
       "    </tr>\n",
       "    <tr>\n",
       "      <th id=\"T_fdb09_level0_row12\" class=\"row_heading level0 row12\" >qda</th>\n",
       "      <td id=\"T_fdb09_row12_col0\" class=\"data row12 col0\" >Quadratic Discriminant Analysis</td>\n",
       "      <td id=\"T_fdb09_row12_col1\" class=\"data row12 col1\" >0.8818</td>\n",
       "      <td id=\"T_fdb09_row12_col2\" class=\"data row12 col2\" >0.5000</td>\n",
       "      <td id=\"T_fdb09_row12_col3\" class=\"data row12 col3\" >0.0000</td>\n",
       "      <td id=\"T_fdb09_row12_col4\" class=\"data row12 col4\" >0.0000</td>\n",
       "      <td id=\"T_fdb09_row12_col5\" class=\"data row12 col5\" >0.0000</td>\n",
       "      <td id=\"T_fdb09_row12_col6\" class=\"data row12 col6\" >0.0000</td>\n",
       "      <td id=\"T_fdb09_row12_col7\" class=\"data row12 col7\" >0.0000</td>\n",
       "      <td id=\"T_fdb09_row12_col8\" class=\"data row12 col8\" >0.0030</td>\n",
       "    </tr>\n",
       "    <tr>\n",
       "      <th id=\"T_fdb09_level0_row13\" class=\"row_heading level0 row13\" >dummy</th>\n",
       "      <td id=\"T_fdb09_row13_col0\" class=\"data row13 col0\" >Dummy Classifier</td>\n",
       "      <td id=\"T_fdb09_row13_col1\" class=\"data row13 col1\" >0.8818</td>\n",
       "      <td id=\"T_fdb09_row13_col2\" class=\"data row13 col2\" >0.5000</td>\n",
       "      <td id=\"T_fdb09_row13_col3\" class=\"data row13 col3\" >0.0000</td>\n",
       "      <td id=\"T_fdb09_row13_col4\" class=\"data row13 col4\" >0.0000</td>\n",
       "      <td id=\"T_fdb09_row13_col5\" class=\"data row13 col5\" >0.0000</td>\n",
       "      <td id=\"T_fdb09_row13_col6\" class=\"data row13 col6\" >0.0000</td>\n",
       "      <td id=\"T_fdb09_row13_col7\" class=\"data row13 col7\" >0.0000</td>\n",
       "      <td id=\"T_fdb09_row13_col8\" class=\"data row13 col8\" >0.0020</td>\n",
       "    </tr>\n",
       "  </tbody>\n",
       "</table>\n"
      ],
      "text/plain": [
       "<pandas.io.formats.style.Styler at 0x263559162c8>"
      ]
     },
     "metadata": {},
     "output_type": "display_data"
    }
   ],
   "source": [
    "experiment = setup(my_data, target='poi')  \n",
    "best_model = compare_models(sort='F1')"
   ]
  },
  {
   "cell_type": "code",
   "execution_count": null,
   "metadata": {
    "colab": {
     "base_uri": "https://localhost:8080/"
    },
    "id": "FKWktKQGgYLa",
    "outputId": "a8094921-21c4-4594-8fd5-b5b81216ced0"
   },
   "outputs": [
    {
     "data": {
      "text/plain": [
       "AdaBoostClassifier(algorithm='SAMME.R', base_estimator=None, learning_rate=1.0,\n",
       "                   n_estimators=50, random_state=8895)"
      ]
     },
     "execution_count": 33,
     "metadata": {},
     "output_type": "execute_result"
    }
   ],
   "source": [
    "best_model"
   ]
  },
  {
   "cell_type": "markdown",
   "metadata": {
    "id": "pzG1CiQlgxkV"
   },
   "source": [
    "#### best model found in first experiment\n",
    "AdaBoostClassifier(algorithm='SAMME.R', base_estimator=None, learning_rate=1.0,\n",
    "                   n_estimators=50, random_state=8895)"
   ]
  },
  {
   "cell_type": "code",
   "execution_count": 12,
   "metadata": {
    "id": "s_TSYdQDjsJI"
   },
   "outputs": [],
   "source": [
    "from sklearn.ensemble import AdaBoostClassifier"
   ]
  },
  {
   "cell_type": "code",
   "execution_count": 13,
   "metadata": {
    "id": "dpl_a5kTjpqt"
   },
   "outputs": [],
   "source": [
    "best_model = AdaBoostClassifier(algorithm='SAMME.R', base_estimator=None, learning_rate=1.0,\n",
    "                   n_estimators=50, random_state=8895)"
   ]
  },
  {
   "cell_type": "code",
   "execution_count": 14,
   "metadata": {
    "id": "lS41a4kkehOr"
   },
   "outputs": [],
   "source": [
    "### testing the best model with tester code\n",
    "### splitting the selected data into X(features-independent vars) and y (labels-dependent vars)\n",
    "labels, features = targetFeatureSplit(my_data.values)\n"
   ]
  },
  {
   "cell_type": "code",
   "execution_count": null,
   "metadata": {
    "id": "H3oCk_1Ph3xY"
   },
   "outputs": [],
   "source": []
  },
  {
   "cell_type": "code",
   "execution_count": 15,
   "metadata": {
    "colab": {
     "base_uri": "https://localhost:8080/"
    },
    "id": "R4RQwzc0hIeS",
    "outputId": "af72eebb-af35-491d-9f08-e765fda10987"
   },
   "outputs": [
    {
     "name": "stdout",
     "output_type": "stream",
     "text": [
      "Precision: 0.3824451410658307\n",
      "Recall: 0.305\n",
      "Accuracy: 0.8416666666666667\n",
      "\n"
     ]
    }
   ],
   "source": [
    "### Task 5: Tune your classifier to achieve better than .3 precision and recall \n",
    "### using our testing script. Check the tester.py script in the final project\n",
    "### folder for details on the evaluation method, especially the test_classifier\n",
    "### function. Because of the small size of the dataset, the script uses\n",
    "### stratified shuffle split cross validation. For more info: \n",
    "### http://scikit-learn.org/stable/modules/generated/sklearn.cross_validation.StratifiedShuffleSplit.html\n",
    "\n",
    "precision, recall, accuracy = test_classifier(best_model, my_dataset, features_list, folds=200)\n",
    "print(f'Precision: {precision}')\n",
    "print(f'Recall: {recall}')\n",
    "print(f'Accuracy: {accuracy}')\n",
    "print()"
   ]
  },
  {
   "cell_type": "markdown",
   "metadata": {},
   "source": [
    "#CELL ABOVE WAS THE FINAL AND LAST CELL -- ALL CELLS BELOW ARE FOR TESTING AN EXPERIMENTATION ONLY"
   ]
  },
  {
   "cell_type": "code",
   "execution_count": null,
   "metadata": {
    "colab": {
     "base_uri": "https://localhost:8080/"
    },
    "id": "njOmQvEnyVDg",
    "outputId": "c983f775-ada2-4591-cbf6-900aa6422c31"
   },
   "outputs": [],
   "source": [
    "clfs = [DecisionTreeClassifier(class_weight=None, criterion='gini', max_depth=None,\n",
    "            max_features=None, max_leaf_nodes=None,\n",
    "            min_impurity_decrease=0.0,\n",
    "            min_samples_leaf=1, min_samples_split=2,\n",
    "            min_weight_fraction_leaf=0.0, random_state=0,\n",
    "            splitter='best'),\n",
    "        LogisticRegression(max_iter=10000), GaussianNB(), SVC(), RandomForestClassifier(), GradientBoostingClassifier()]\n",
    "\n",
    "\n",
    "\n",
    "\n",
    "## classifiers evaluation using the method from tester.py\n",
    "for clf in clfs:\n",
    "  precision, recall, accuracy = test_classifier(clf, my_dataset, features_list, folds=100)\n",
    "  print(f'Precision of {clf}: {precision}')\n",
    "  print(f'Recall of {clf}: {recall}')\n",
    "  print(f'Accuracy of {clf}: {accuracy}')\n",
    "  print()\n",
    "\n",
    "# Example starting point. Try investigating other evaluation techniques!\n",
    "from sklearn.model_selection import train_test_split\n",
    "features_train, features_test, labels_train, labels_test = \\\n",
    "    train_test_split(features, labels, test_size=0.3, random_state=42)\n",
    "\n",
    "\n",
    "\n",
    "### Task 6: Dump your classifier, dataset, and features_list so anyone can\n",
    "### check your results. You do not need to change anything below, but make sure\n",
    "### that the version of poi_id.py that you submit can be run on its own and\n",
    "### generates the necessary .pkl files for validating your results.\n",
    "\n",
    "#dump_classifier_and_data(clf, my_dataset, features_list)"
   ]
  },
  {
   "cell_type": "code",
   "execution_count": null,
   "metadata": {
    "id": "9091vNk0ZH7I"
   },
   "outputs": [],
   "source": [
    "from sklearn.model_selection import RandomizedSearchCV, GridSearchCV"
   ]
  },
  {
   "cell_type": "code",
   "execution_count": null,
   "metadata": {
    "id": "aqbKYV3C0RbA"
   },
   "outputs": [],
   "source": [
    "import numpy as np\n",
    "selected_clf = RandomForestClassifier()\n",
    "random_param_grid = {'max_features': [\"auto\", \"sqrt\"], \n",
    "                     'n_estimators': [5, 50, 100, 200, 300],\n",
    "                     'max_depth': [int(x) for x in np.linspace(10, 120, num=12)],\n",
    "                     'min_samples_split': [2, 6, 8],\n",
    "                     'min_samples_leaf': [1, 3, 6],\n",
    "                     'bootstrap': [True, False]}\n",
    "\n",
    "rfc_random = RandomizedSearchCV(selected_clf, random_param_grid, n_iter=200, \n",
    "                                cv=5, random_state=42, n_jobs=-1, verbose=1, scoring='average_precision')\n",
    "              "
   ]
  },
  {
   "cell_type": "code",
   "execution_count": null,
   "metadata": {
    "colab": {
     "base_uri": "https://localhost:8080/"
    },
    "id": "CsKRep7dFLcS",
    "outputId": "29c211b4-b4ef-488d-bfc0-c5b049907242"
   },
   "outputs": [
    {
     "name": "stdout",
     "output_type": "stream",
     "text": [
      "Fitting 5 folds for each of 200 candidates, totalling 1000 fits\n"
     ]
    },
    {
     "data": {
      "text/plain": [
       "RandomizedSearchCV(cv=5, estimator=RandomForestClassifier(), n_iter=200,\n",
       "                   n_jobs=-1,\n",
       "                   param_distributions={'bootstrap': [True, False],\n",
       "                                        'max_depth': [10, 20, 30, 40, 50, 60,\n",
       "                                                      70, 80, 90, 100, 110,\n",
       "                                                      120],\n",
       "                                        'max_features': ['auto', 'sqrt'],\n",
       "                                        'min_samples_leaf': [1, 3, 6],\n",
       "                                        'min_samples_split': [2, 6, 8],\n",
       "                                        'n_estimators': [5, 50, 100, 200, 300]},\n",
       "                   random_state=42, scoring='average_precision', verbose=1)"
      ]
     },
     "execution_count": 84,
     "metadata": {},
     "output_type": "execute_result"
    }
   ],
   "source": [
    "rfc_random.fit(features, labels)"
   ]
  },
  {
   "cell_type": "code",
   "execution_count": null,
   "metadata": {
    "id": "KHdZ339vIGvQ"
   },
   "outputs": [],
   "source": [
    "rfc_random.best_params_"
   ]
  },
  {
   "cell_type": "code",
   "execution_count": null,
   "metadata": {
    "id": "3kmxrUC3IiMq"
   },
   "outputs": [],
   "source": [
    "final_clf = RandomForestClassifier()\n",
    "final_clf.set_params(**rfc_random.best_params_)"
   ]
  },
  {
   "cell_type": "code",
   "execution_count": null,
   "metadata": {
    "id": "17ZW09tTInPx"
   },
   "outputs": [],
   "source": [
    "precision, recall, accuracy = test_classifier(final_clf, my_dataset, features_list, folds=100)\n",
    "print(f'Precision of {final_clf}: {precision}')\n",
    "print(f'Recall of {final_clf}: {recall}')\n",
    "print(f'Accuracy of {final_clf}: {accuracy}')"
   ]
  },
  {
   "cell_type": "code",
   "execution_count": null,
   "metadata": {
    "id": "Bt_T4aLWKUWu"
   },
   "outputs": [],
   "source": [
    "gbc_tuned = GradientBoostingClassifier(random_state=0)\n",
    "random_param_grid = {\"n_estimators\":[5,50,250,500, 1000, 2000],\n",
    "                    \"max_depth\":[1,3,5,7,9],\n",
    "                     \"learning_rate\":[0.01,0.1,1,10,100]\n",
    "}\n",
    "\n",
    "gbc_random = RandomizedSearchCV(gbc_tuned, random_param_grid, n_iter=300, \n",
    "                                cv=3, random_state=42, n_jobs=-1, verbose=1, scoring='f1')"
   ]
  },
  {
   "cell_type": "code",
   "execution_count": null,
   "metadata": {
    "id": "sz0MTa6EZLIn"
   },
   "outputs": [],
   "source": [
    "from sklearn.preprocessing import MinMaxScaler\n",
    "\n",
    "scaller = MinMaxScaler()\n",
    "features = scaller.fit_transform(features)"
   ]
  },
  {
   "cell_type": "code",
   "execution_count": null,
   "metadata": {
    "colab": {
     "base_uri": "https://localhost:8080/"
    },
    "id": "LWl1_WhkTpJn",
    "outputId": "caa7c8e3-a61f-4625-983c-8098e67ba517"
   },
   "outputs": [
    {
     "name": "stdout",
     "output_type": "stream",
     "text": [
      "Fitting 3 folds for each of 150 candidates, totalling 450 fits\n"
     ]
    },
    {
     "name": "stderr",
     "output_type": "stream",
     "text": [
      "/usr/local/lib/python3.7/dist-packages/sklearn/model_selection/_search.py:296: UserWarning: The total space of parameters 150 is smaller than n_iter=300. Running 150 iterations. For exhaustive searches, use GridSearchCV.\n",
      "  UserWarning,\n"
     ]
    },
    {
     "data": {
      "text/plain": [
       "RandomizedSearchCV(cv=3, estimator=GradientBoostingClassifier(random_state=0),\n",
       "                   n_iter=300, n_jobs=-1,\n",
       "                   param_distributions={'learning_rate': [0.01, 0.1, 1, 10,\n",
       "                                                          100],\n",
       "                                        'max_depth': [1, 3, 5, 7, 9],\n",
       "                                        'n_estimators': [5, 50, 250, 500, 1000,\n",
       "                                                         2000]},\n",
       "                   random_state=42, scoring='f1_weighted', verbose=1)"
      ]
     },
     "execution_count": 68,
     "metadata": {},
     "output_type": "execute_result"
    }
   ],
   "source": [
    "gbc_random.fit(features, labels)"
   ]
  },
  {
   "cell_type": "code",
   "execution_count": null,
   "metadata": {
    "colab": {
     "base_uri": "https://localhost:8080/"
    },
    "id": "4w8n652gVkGk",
    "outputId": "f9a3960d-715e-4406-bfb8-42aaa6de5d92"
   },
   "outputs": [
    {
     "data": {
      "text/plain": [
       "dict_keys(['explained_variance', 'r2', 'max_error', 'neg_median_absolute_error', 'neg_mean_absolute_error', 'neg_mean_absolute_percentage_error', 'neg_mean_squared_error', 'neg_mean_squared_log_error', 'neg_root_mean_squared_error', 'neg_mean_poisson_deviance', 'neg_mean_gamma_deviance', 'accuracy', 'top_k_accuracy', 'roc_auc', 'roc_auc_ovr', 'roc_auc_ovo', 'roc_auc_ovr_weighted', 'roc_auc_ovo_weighted', 'balanced_accuracy', 'average_precision', 'neg_log_loss', 'neg_brier_score', 'adjusted_rand_score', 'rand_score', 'homogeneity_score', 'completeness_score', 'v_measure_score', 'mutual_info_score', 'adjusted_mutual_info_score', 'normalized_mutual_info_score', 'fowlkes_mallows_score', 'precision', 'precision_macro', 'precision_micro', 'precision_samples', 'precision_weighted', 'recall', 'recall_macro', 'recall_micro', 'recall_samples', 'recall_weighted', 'f1', 'f1_macro', 'f1_micro', 'f1_samples', 'f1_weighted', 'jaccard', 'jaccard_macro', 'jaccard_micro', 'jaccard_samples', 'jaccard_weighted'])"
      ]
     },
     "execution_count": 69,
     "metadata": {},
     "output_type": "execute_result"
    }
   ],
   "source": [
    "import sklearn\n",
    "sklearn.metrics.SCORERS.keys()"
   ]
  },
  {
   "cell_type": "code",
   "execution_count": null,
   "metadata": {
    "colab": {
     "base_uri": "https://localhost:8080/"
    },
    "id": "_-0zqpV1TsmV",
    "outputId": "d062e474-d48a-47b5-fe72-5719ae467452"
   },
   "outputs": [
    {
     "data": {
      "text/plain": [
       "{'learning_rate': 0.01, 'max_depth': 1, 'n_estimators': 500}"
      ]
     },
     "execution_count": 51,
     "metadata": {},
     "output_type": "execute_result"
    }
   ],
   "source": [
    "gbc_random.best_params_"
   ]
  },
  {
   "cell_type": "code",
   "execution_count": null,
   "metadata": {
    "id": "OvaDbuwBYAMU"
   },
   "outputs": [],
   "source": []
  },
  {
   "cell_type": "code",
   "execution_count": null,
   "metadata": {
    "colab": {
     "base_uri": "https://localhost:8080/"
    },
    "id": "NMp0jPeuYeeP",
    "outputId": "e6ff9ecc-98e2-4550-c6fa-0710bcd55ee0"
   },
   "outputs": [
    {
     "data": {
      "text/plain": [
       "array([[0.00000000e+00, 7.56265983e-03, 9.23453242e-02, ...,\n",
       "        6.28179902e-03, 2.05415103e-02, 0.00000000e+00],\n",
       "       [0.00000000e+00, 0.00000000e+00, 8.74544552e-03, ...,\n",
       "        0.00000000e+00, 1.95934169e-02, 0.00000000e+00],\n",
       "       [0.00000000e+00, 1.78623393e-05, 3.18462472e-03, ...,\n",
       "        0.00000000e+00, 3.28153718e-02, 0.00000000e+00],\n",
       "       ...,\n",
       "       [0.00000000e+00, 0.00000000e+00, 3.18462472e-03, ...,\n",
       "        0.00000000e+00, 1.95934169e-02, 0.00000000e+00],\n",
       "       [1.00000000e+00, 5.93175710e-03, 3.18462472e-03, ...,\n",
       "        0.00000000e+00, 4.64969932e-02, 0.00000000e+00],\n",
       "       [0.00000000e+00, 0.00000000e+00, 3.18462472e-03, ...,\n",
       "        0.00000000e+00, 1.95934169e-02, 0.00000000e+00]])"
      ]
     },
     "execution_count": 55,
     "metadata": {},
     "output_type": "execute_result"
    }
   ],
   "source": []
  },
  {
   "cell_type": "code",
   "execution_count": null,
   "metadata": {
    "colab": {
     "base_uri": "https://localhost:8080/"
    },
    "id": "czGc7mbNTykP",
    "outputId": "9b58610b-7fd3-49fd-efd7-bd121154199b"
   },
   "outputs": [
    {
     "name": "stdout",
     "output_type": "stream",
     "text": [
      "Precision of GradientBoostingClassifier(learning_rate=0.01, max_depth=1, n_estimators=500,\n",
      "                           random_state=42): 0.3333333333333333\n",
      "Recall of GradientBoostingClassifier(learning_rate=0.01, max_depth=1, n_estimators=500,\n",
      "                           random_state=42): 0.07\n",
      "Accuracy of GradientBoostingClassifier(learning_rate=0.01, max_depth=1, n_estimators=500,\n",
      "                           random_state=42): 0.7622222222222222\n"
     ]
    }
   ],
   "source": [
    "#best so far {'learning_rate': 0.1, 'max_depth': 1, 'n_estimators': 500}\n",
    "gbc_tuned = GradientBoostingClassifier(random_state=42)\n",
    "gbc_tuned.set_params(**gbc_random.best_params_)\n",
    "precision, recall, accuracy = test_classifier(gbc_tuned, my_dataset, features_list, folds=100)\n",
    "print(f'Precision of {gbc_tuned}: {precision}')\n",
    "print(f'Recall of {gbc_tuned}: {recall}')\n",
    "print(f'Accuracy of {gbc_tuned}: {accuracy}')"
   ]
  }
 ],
 "metadata": {
  "colab": {
   "collapsed_sections": [],
   "name": "C753 | Udacity Final project.ipynb",
   "provenance": []
  },
  "kernelspec": {
   "display_name": "Python 3 (ipykernel)",
   "language": "python",
   "name": "python3"
  },
  "language_info": {
   "codemirror_mode": {
    "name": "ipython",
    "version": 3
   },
   "file_extension": ".py",
   "mimetype": "text/x-python",
   "name": "python",
   "nbconvert_exporter": "python",
   "pygments_lexer": "ipython3",
   "version": "3.7.11"
  },
  "widgets": {
   "application/vnd.jupyter.widget-state+json": {
    "18f902890cf64cd0989436518e80b032": {
     "model_module": "@jupyter-widgets/base",
     "model_module_version": "1.2.0",
     "model_name": "LayoutModel",
     "state": {
      "_model_module": "@jupyter-widgets/base",
      "_model_module_version": "1.2.0",
      "_model_name": "LayoutModel",
      "_view_count": null,
      "_view_module": "@jupyter-widgets/base",
      "_view_module_version": "1.2.0",
      "_view_name": "LayoutView",
      "align_content": null,
      "align_items": null,
      "align_self": null,
      "border": null,
      "bottom": null,
      "display": null,
      "flex": null,
      "flex_flow": null,
      "grid_area": null,
      "grid_auto_columns": null,
      "grid_auto_flow": null,
      "grid_auto_rows": null,
      "grid_column": null,
      "grid_gap": null,
      "grid_row": null,
      "grid_template_areas": null,
      "grid_template_columns": null,
      "grid_template_rows": null,
      "height": null,
      "justify_content": null,
      "justify_items": null,
      "left": null,
      "margin": null,
      "max_height": null,
      "max_width": null,
      "min_height": null,
      "min_width": null,
      "object_fit": null,
      "object_position": null,
      "order": null,
      "overflow": null,
      "overflow_x": null,
      "overflow_y": null,
      "padding": null,
      "right": null,
      "top": null,
      "visibility": null,
      "width": null
     }
    },
    "29819c3ef1df41f4b61cad75f3399f12": {
     "model_module": "@jupyter-widgets/controls",
     "model_module_version": "1.5.0",
     "model_name": "ProgressStyleModel",
     "state": {
      "_model_module": "@jupyter-widgets/controls",
      "_model_module_version": "1.5.0",
      "_model_name": "ProgressStyleModel",
      "_view_count": null,
      "_view_module": "@jupyter-widgets/base",
      "_view_module_version": "1.2.0",
      "_view_name": "StyleView",
      "bar_color": null,
      "description_width": ""
     }
    },
    "4121e8c0b2f0451fa45af69c4913e6b7": {
     "model_module": "@jupyter-widgets/base",
     "model_module_version": "1.2.0",
     "model_name": "LayoutModel",
     "state": {
      "_model_module": "@jupyter-widgets/base",
      "_model_module_version": "1.2.0",
      "_model_name": "LayoutModel",
      "_view_count": null,
      "_view_module": "@jupyter-widgets/base",
      "_view_module_version": "1.2.0",
      "_view_name": "LayoutView",
      "align_content": null,
      "align_items": null,
      "align_self": null,
      "border": null,
      "bottom": null,
      "display": null,
      "flex": null,
      "flex_flow": null,
      "grid_area": null,
      "grid_auto_columns": null,
      "grid_auto_flow": null,
      "grid_auto_rows": null,
      "grid_column": null,
      "grid_gap": null,
      "grid_row": null,
      "grid_template_areas": null,
      "grid_template_columns": null,
      "grid_template_rows": null,
      "height": null,
      "justify_content": null,
      "justify_items": null,
      "left": null,
      "margin": null,
      "max_height": null,
      "max_width": null,
      "min_height": null,
      "min_width": null,
      "object_fit": null,
      "object_position": null,
      "order": null,
      "overflow": null,
      "overflow_x": null,
      "overflow_y": null,
      "padding": null,
      "right": null,
      "top": null,
      "visibility": null,
      "width": null
     }
    },
    "41c936b54dae40fdbe30557b58a556b1": {
     "model_module": "@jupyter-widgets/controls",
     "model_module_version": "1.5.0",
     "model_name": "IntProgressModel",
     "state": {
      "_dom_classes": [],
      "_model_module": "@jupyter-widgets/controls",
      "_model_module_version": "1.5.0",
      "_model_name": "IntProgressModel",
      "_view_count": null,
      "_view_module": "@jupyter-widgets/controls",
      "_view_module_version": "1.5.0",
      "_view_name": "ProgressView",
      "bar_style": "",
      "description": "Processing: ",
      "description_tooltip": null,
      "layout": "IPY_MODEL_18f902890cf64cd0989436518e80b032",
      "max": 74,
      "min": 0,
      "orientation": "horizontal",
      "style": "IPY_MODEL_ad906769f82442658320caedc30a4f2a",
      "value": 74
     }
    },
    "5bbc3f52607345d6a927a3e6743d24bf": {
     "model_module": "@jupyter-widgets/controls",
     "model_module_version": "1.5.0",
     "model_name": "DescriptionStyleModel",
     "state": {
      "_model_module": "@jupyter-widgets/controls",
      "_model_module_version": "1.5.0",
      "_model_name": "DescriptionStyleModel",
      "_view_count": null,
      "_view_module": "@jupyter-widgets/base",
      "_view_module_version": "1.2.0",
      "_view_name": "StyleView",
      "description_width": ""
     }
    },
    "5f66ec30dafc4dd6ae789f78379f14dd": {
     "model_module": "@jupyter-widgets/controls",
     "model_module_version": "1.5.0",
     "model_name": "IntProgressModel",
     "state": {
      "_dom_classes": [],
      "_model_module": "@jupyter-widgets/controls",
      "_model_module_version": "1.5.0",
      "_model_name": "IntProgressModel",
      "_view_count": null,
      "_view_module": "@jupyter-widgets/controls",
      "_view_module_version": "1.5.0",
      "_view_name": "ProgressView",
      "bar_style": "",
      "description": "Processing: ",
      "description_tooltip": null,
      "layout": "IPY_MODEL_4121e8c0b2f0451fa45af69c4913e6b7",
      "max": 3,
      "min": 0,
      "orientation": "horizontal",
      "style": "IPY_MODEL_29819c3ef1df41f4b61cad75f3399f12",
      "value": 3
     }
    },
    "74e38437d46449aca2cf8af3a20ac624": {
     "model_module": "@jupyter-widgets/controls",
     "model_module_version": "1.5.0",
     "model_name": "TextModel",
     "state": {
      "_dom_classes": [],
      "_model_module": "@jupyter-widgets/controls",
      "_model_module_version": "1.5.0",
      "_model_name": "TextModel",
      "_view_count": null,
      "_view_module": "@jupyter-widgets/controls",
      "_view_module_version": "1.5.0",
      "_view_name": "TextView",
      "continuous_update": true,
      "description": "",
      "description_tooltip": null,
      "disabled": false,
      "layout": "IPY_MODEL_bb4b357a14bb4f93a62dcb3d2e97afeb",
      "placeholder": "​",
      "style": "IPY_MODEL_5bbc3f52607345d6a927a3e6743d24bf",
      "value": "Following data types have been inferred automatically, if they are correct press enter to continue or type 'quit' otherwise."
     }
    },
    "ad906769f82442658320caedc30a4f2a": {
     "model_module": "@jupyter-widgets/controls",
     "model_module_version": "1.5.0",
     "model_name": "ProgressStyleModel",
     "state": {
      "_model_module": "@jupyter-widgets/controls",
      "_model_module_version": "1.5.0",
      "_model_name": "ProgressStyleModel",
      "_view_count": null,
      "_view_module": "@jupyter-widgets/base",
      "_view_module_version": "1.2.0",
      "_view_name": "StyleView",
      "bar_color": null,
      "description_width": ""
     }
    },
    "bb4b357a14bb4f93a62dcb3d2e97afeb": {
     "model_module": "@jupyter-widgets/base",
     "model_module_version": "1.2.0",
     "model_name": "LayoutModel",
     "state": {
      "_model_module": "@jupyter-widgets/base",
      "_model_module_version": "1.2.0",
      "_model_name": "LayoutModel",
      "_view_count": null,
      "_view_module": "@jupyter-widgets/base",
      "_view_module_version": "1.2.0",
      "_view_name": "LayoutView",
      "align_content": null,
      "align_items": null,
      "align_self": null,
      "border": null,
      "bottom": null,
      "display": null,
      "flex": null,
      "flex_flow": null,
      "grid_area": null,
      "grid_auto_columns": null,
      "grid_auto_flow": null,
      "grid_auto_rows": null,
      "grid_column": null,
      "grid_gap": null,
      "grid_row": null,
      "grid_template_areas": null,
      "grid_template_columns": null,
      "grid_template_rows": null,
      "height": null,
      "justify_content": null,
      "justify_items": null,
      "left": null,
      "margin": null,
      "max_height": null,
      "max_width": null,
      "min_height": null,
      "min_width": null,
      "object_fit": null,
      "object_position": null,
      "order": null,
      "overflow": null,
      "overflow_x": null,
      "overflow_y": null,
      "padding": null,
      "right": null,
      "top": null,
      "visibility": null,
      "width": "100%"
     }
    }
   }
  }
 },
 "nbformat": 4,
 "nbformat_minor": 4
}
