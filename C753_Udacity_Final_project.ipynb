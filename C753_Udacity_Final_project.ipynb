{
    "metadata": {
        "kernelspec": {
            "name": "python3",
            "display_name": "Python 3 (ipykernel)",
            "language": "python"
        },
        "language_info": {
            "name": "python",
            "version": "3.8.10",
            "mimetype": "text/x-python",
            "codemirror_mode": {
                "name": "ipython",
                "version": 3
            },
            "pygments_lexer": "ipython3",
            "nbconvert_exporter": "python",
            "file_extension": ".py"
        },
        "colab": {
            "name": "C753 | Udacity Final project.ipynb",
            "provenance": [],
            "collapsed_sections": []
        },
        "widgets": {
            "application/vnd.jupyter.widget-state+json": {
                "5f66ec30dafc4dd6ae789f78379f14dd": {
                    "model_module": "@jupyter-widgets/controls",
                    "model_name": "IntProgressModel",
                    "model_module_version": "1.5.0",
                    "state": {
                        "_view_name": "ProgressView",
                        "style": "IPY_MODEL_29819c3ef1df41f4b61cad75f3399f12",
                        "_dom_classes": [],
                        "description": "Processing: ",
                        "_model_name": "IntProgressModel",
                        "bar_style": "",
                        "max": 3,
                        "_view_module": "@jupyter-widgets/controls",
                        "_model_module_version": "1.5.0",
                        "value": 3,
                        "_view_count": null,
                        "_view_module_version": "1.5.0",
                        "orientation": "horizontal",
                        "min": 0,
                        "description_tooltip": null,
                        "_model_module": "@jupyter-widgets/controls",
                        "layout": "IPY_MODEL_4121e8c0b2f0451fa45af69c4913e6b7"
                    }
                },
                "29819c3ef1df41f4b61cad75f3399f12": {
                    "model_module": "@jupyter-widgets/controls",
                    "model_name": "ProgressStyleModel",
                    "model_module_version": "1.5.0",
                    "state": {
                        "_view_name": "StyleView",
                        "_model_name": "ProgressStyleModel",
                        "description_width": "",
                        "_view_module": "@jupyter-widgets/base",
                        "_model_module_version": "1.5.0",
                        "_view_count": null,
                        "_view_module_version": "1.2.0",
                        "bar_color": null,
                        "_model_module": "@jupyter-widgets/controls"
                    }
                },
                "4121e8c0b2f0451fa45af69c4913e6b7": {
                    "model_module": "@jupyter-widgets/base",
                    "model_name": "LayoutModel",
                    "model_module_version": "1.2.0",
                    "state": {
                        "_view_name": "LayoutView",
                        "grid_template_rows": null,
                        "right": null,
                        "justify_content": null,
                        "_view_module": "@jupyter-widgets/base",
                        "overflow": null,
                        "_model_module_version": "1.2.0",
                        "_view_count": null,
                        "flex_flow": null,
                        "width": null,
                        "min_width": null,
                        "border": null,
                        "align_items": null,
                        "bottom": null,
                        "_model_module": "@jupyter-widgets/base",
                        "top": null,
                        "grid_column": null,
                        "overflow_y": null,
                        "overflow_x": null,
                        "grid_auto_flow": null,
                        "grid_area": null,
                        "grid_template_columns": null,
                        "flex": null,
                        "_model_name": "LayoutModel",
                        "justify_items": null,
                        "grid_row": null,
                        "max_height": null,
                        "align_content": null,
                        "visibility": null,
                        "align_self": null,
                        "height": null,
                        "min_height": null,
                        "padding": null,
                        "grid_auto_rows": null,
                        "grid_gap": null,
                        "max_width": null,
                        "order": null,
                        "_view_module_version": "1.2.0",
                        "grid_template_areas": null,
                        "object_position": null,
                        "object_fit": null,
                        "grid_auto_columns": null,
                        "margin": null,
                        "display": null,
                        "left": null
                    }
                },
                "74e38437d46449aca2cf8af3a20ac624": {
                    "model_module": "@jupyter-widgets/controls",
                    "model_name": "TextModel",
                    "model_module_version": "1.5.0",
                    "state": {
                        "_view_name": "TextView",
                        "style": "IPY_MODEL_5bbc3f52607345d6a927a3e6743d24bf",
                        "_dom_classes": [],
                        "description": "",
                        "_model_name": "TextModel",
                        "placeholder": "​",
                        "_view_module": "@jupyter-widgets/controls",
                        "_model_module_version": "1.5.0",
                        "value": "Following data types have been inferred automatically, if they are correct press enter to continue or type 'quit' otherwise.",
                        "_view_count": null,
                        "disabled": false,
                        "_view_module_version": "1.5.0",
                        "continuous_update": true,
                        "description_tooltip": null,
                        "_model_module": "@jupyter-widgets/controls",
                        "layout": "IPY_MODEL_bb4b357a14bb4f93a62dcb3d2e97afeb"
                    }
                },
                "5bbc3f52607345d6a927a3e6743d24bf": {
                    "model_module": "@jupyter-widgets/controls",
                    "model_name": "DescriptionStyleModel",
                    "model_module_version": "1.5.0",
                    "state": {
                        "_view_name": "StyleView",
                        "_model_name": "DescriptionStyleModel",
                        "description_width": "",
                        "_view_module": "@jupyter-widgets/base",
                        "_model_module_version": "1.5.0",
                        "_view_count": null,
                        "_view_module_version": "1.2.0",
                        "_model_module": "@jupyter-widgets/controls"
                    }
                },
                "bb4b357a14bb4f93a62dcb3d2e97afeb": {
                    "model_module": "@jupyter-widgets/base",
                    "model_name": "LayoutModel",
                    "model_module_version": "1.2.0",
                    "state": {
                        "_view_name": "LayoutView",
                        "grid_template_rows": null,
                        "right": null,
                        "justify_content": null,
                        "_view_module": "@jupyter-widgets/base",
                        "overflow": null,
                        "_model_module_version": "1.2.0",
                        "_view_count": null,
                        "flex_flow": null,
                        "width": "100%",
                        "min_width": null,
                        "border": null,
                        "align_items": null,
                        "bottom": null,
                        "_model_module": "@jupyter-widgets/base",
                        "top": null,
                        "grid_column": null,
                        "overflow_y": null,
                        "overflow_x": null,
                        "grid_auto_flow": null,
                        "grid_area": null,
                        "grid_template_columns": null,
                        "flex": null,
                        "_model_name": "LayoutModel",
                        "justify_items": null,
                        "grid_row": null,
                        "max_height": null,
                        "align_content": null,
                        "visibility": null,
                        "align_self": null,
                        "height": null,
                        "min_height": null,
                        "padding": null,
                        "grid_auto_rows": null,
                        "grid_gap": null,
                        "max_width": null,
                        "order": null,
                        "_view_module_version": "1.2.0",
                        "grid_template_areas": null,
                        "object_position": null,
                        "object_fit": null,
                        "grid_auto_columns": null,
                        "margin": null,
                        "display": null,
                        "left": null
                    }
                },
                "41c936b54dae40fdbe30557b58a556b1": {
                    "model_module": "@jupyter-widgets/controls",
                    "model_name": "IntProgressModel",
                    "model_module_version": "1.5.0",
                    "state": {
                        "_view_name": "ProgressView",
                        "style": "IPY_MODEL_ad906769f82442658320caedc30a4f2a",
                        "_dom_classes": [],
                        "description": "Processing: ",
                        "_model_name": "IntProgressModel",
                        "bar_style": "",
                        "max": 74,
                        "_view_module": "@jupyter-widgets/controls",
                        "_model_module_version": "1.5.0",
                        "value": 74,
                        "_view_count": null,
                        "_view_module_version": "1.5.0",
                        "orientation": "horizontal",
                        "min": 0,
                        "description_tooltip": null,
                        "_model_module": "@jupyter-widgets/controls",
                        "layout": "IPY_MODEL_18f902890cf64cd0989436518e80b032"
                    }
                },
                "ad906769f82442658320caedc30a4f2a": {
                    "model_module": "@jupyter-widgets/controls",
                    "model_name": "ProgressStyleModel",
                    "model_module_version": "1.5.0",
                    "state": {
                        "_view_name": "StyleView",
                        "_model_name": "ProgressStyleModel",
                        "description_width": "",
                        "_view_module": "@jupyter-widgets/base",
                        "_model_module_version": "1.5.0",
                        "_view_count": null,
                        "_view_module_version": "1.2.0",
                        "bar_color": null,
                        "_model_module": "@jupyter-widgets/controls"
                    }
                },
                "18f902890cf64cd0989436518e80b032": {
                    "model_module": "@jupyter-widgets/base",
                    "model_name": "LayoutModel",
                    "model_module_version": "1.2.0",
                    "state": {
                        "_view_name": "LayoutView",
                        "grid_template_rows": null,
                        "right": null,
                        "justify_content": null,
                        "_view_module": "@jupyter-widgets/base",
                        "overflow": null,
                        "_model_module_version": "1.2.0",
                        "_view_count": null,
                        "flex_flow": null,
                        "width": null,
                        "min_width": null,
                        "border": null,
                        "align_items": null,
                        "bottom": null,
                        "_model_module": "@jupyter-widgets/base",
                        "top": null,
                        "grid_column": null,
                        "overflow_y": null,
                        "overflow_x": null,
                        "grid_auto_flow": null,
                        "grid_area": null,
                        "grid_template_columns": null,
                        "flex": null,
                        "_model_name": "LayoutModel",
                        "justify_items": null,
                        "grid_row": null,
                        "max_height": null,
                        "align_content": null,
                        "visibility": null,
                        "align_self": null,
                        "height": null,
                        "min_height": null,
                        "padding": null,
                        "grid_auto_rows": null,
                        "grid_gap": null,
                        "max_width": null,
                        "order": null,
                        "_view_module_version": "1.2.0",
                        "grid_template_areas": null,
                        "object_position": null,
                        "object_fit": null,
                        "grid_auto_columns": null,
                        "margin": null,
                        "display": null,
                        "left": null
                    }
                }
            }
        }
    },
    "nbformat_minor": 2,
    "nbformat": 4,
    "cells": [
        {
            "cell_type": "code",
            "source": [
                "!unzip /content/final_project_udacity.zip"
            ],
            "metadata": {
                "id": "1Mgvrfc1Rbua",
                "azdata_cell_guid": "53169642-c9e6-4962-a0e2-f318af9b7071"
            },
            "outputs": [],
            "execution_count": null
        },
        {
            "cell_type": "code",
            "source": [
                "!pip install pycaret"
            ],
            "metadata": {
                "colab": {
                    "base_uri": "https://localhost:8080/"
                },
                "id": "yxm_w0sBSKwy",
                "outputId": "86a56ef8-2f2a-4af6-bde7-77fece18bcec",
                "azdata_cell_guid": "3041b48e-2c0c-4afd-ad3d-9b9a253ea2a1"
            },
            "outputs": [
                {
                    "output_type": "stream",
                    "name": "stdout",
                    "text": "\u001b[?25h  Installing build dependencies ... \u001b[?25l\u001b[?25hdone\n  Getting requirements to build wheel ... \u001b[?25l\u001b[?25hdone\n  Installing backend dependencies ... \u001b[?25l\u001b[?25hdone\n    Preparing wheel metadata ... \u001b[?25l\u001b[?25hdone\nCollecting Boruta\n  Downloading Boruta-0.3-py3-none-any.whl (56 kB)\n\u001b[K     |████████████████████████████████| 56 kB 3.7 MB/s \n\u001b[?25hCollecting imbalanced-learn==0.7.0\n  Downloading imbalanced_learn-0.7.0-py3-none-any.whl (167 kB)\n\u001b[K     |████████████████████████████████| 167 kB 49.3 MB/s \n\u001b[?25hRequirement already satisfied: gensim<4.0.0 in /usr/local/lib/python3.7/dist-packages (from pycaret) (3.6.0)\nRequirement already satisfied: matplotlib in /usr/local/lib/python3.7/dist-packages (from pycaret) (3.2.2)\nRequirement already satisfied: ipywidgets in /usr/local/lib/python3.7/dist-packages (from pycaret) (7.6.5)\nRequirement already satisfied: wordcloud in /usr/local/lib/python3.7/dist-packages (from pycaret) (1.5.0)\nRequirement already satisfied: IPython in /usr/local/lib/python3.7/dist-packages (from pycaret) (5.5.0)\nRequirement already satisfied: pyyaml<6.0.0 in /usr/local/lib/python3.7/dist-packages (from pycaret) (3.13)\nRequirement already satisfied: nltk in /usr/local/lib/python3.7/dist-packages (from pycaret) (3.2.5)\nRequirement already satisfied: pandas in /usr/local/lib/python3.7/dist-packages (from pycaret) (1.1.5)\nRequirement already satisfied: seaborn in /usr/local/lib/python3.7/dist-packages (from pycaret) (0.11.2)\nRequirement already satisfied: joblib in /usr/local/lib/python3.7/dist-packages (from pycaret) (1.1.0)\nCollecting pyod\n  Downloading pyod-0.9.7.tar.gz (114 kB)\n\u001b[K     |████████████████████████████████| 114 kB 60.0 MB/s \n\u001b[?25hRequirement already satisfied: spacy<2.4.0 in /usr/local/lib/python3.7/dist-packages (from pycaret) (2.2.4)\nCollecting umap-learn\n  Downloading umap-learn-0.5.2.tar.gz (86 kB)\n\u001b[K     |████████████████████████████████| 86 kB 5.7 MB/s \n\u001b[?25hCollecting kmodes>=0.10.1\n  Downloading kmodes-0.11.1-py2.py3-none-any.whl (19 kB)\nRequirement already satisfied: yellowbrick>=1.0.1 in /usr/local/lib/python3.7/dist-packages (from pycaret) (1.3.post1)\nCollecting lightgbm>=2.3.1\n  Downloading lightgbm-3.3.2-py3-none-manylinux1_x86_64.whl (2.0 MB)\n\u001b[K     |████████████████████████████████| 2.0 MB 46.6 MB/s \n\u001b[?25hCollecting scikit-plot\n  Downloading scikit_plot-0.3.7-py3-none-any.whl (33 kB)\nRequirement already satisfied: textblob in /usr/local/lib/python3.7/dist-packages (from pycaret) (0.15.3)\nCollecting pandas-profiling>=2.8.0\n  Downloading pandas_profiling-3.1.0-py2.py3-none-any.whl (261 kB)\n\u001b[K     |████████████████████████████████| 261 kB 41.7 MB/s \n\u001b[?25hCollecting scikit-learn==0.23.2\n  Downloading scikit_learn-0.23.2-cp37-cp37m-manylinux1_x86_64.whl (6.8 MB)\n\u001b[K     |████████████████████████████████| 6.8 MB 35.2 MB/s \n\u001b[?25hRequirement already satisfied: scipy<=1.5.4 in /usr/local/lib/python3.7/dist-packages (from pycaret) (1.4.1)\nRequirement already satisfied: numpy>=1.13.3 in /usr/local/lib/python3.7/dist-packages (from imbalanced-learn==0.7.0->pycaret) (1.19.5)\nRequirement already satisfied: threadpoolctl>=2.0.0 in /usr/local/lib/python3.7/dist-packages (from scikit-learn==0.23.2->pycaret) (3.0.0)\nRequirement already satisfied: six>=1.9.0 in /usr/local/lib/python3.7/dist-packages (from cufflinks>=0.17.0->pycaret) (1.15.0)\nRequirement already satisfied: colorlover>=0.2.1 in /usr/local/lib/python3.7/dist-packages (from cufflinks>=0.17.0->pycaret) (0.3.0)\nRequirement already satisfied: setuptools>=34.4.1 in /usr/local/lib/python3.7/dist-packages (from cufflinks>=0.17.0->pycaret) (57.4.0)\nRequirement already satisfied: smart-open>=1.2.1 in /usr/local/lib/python3.7/dist-packages (from gensim<4.0.0->pycaret) (5.2.1)\nRequirement already satisfied: decorator in /usr/local/lib/python3.7/dist-packages (from IPython->pycaret) (4.4.2)\nRequirement already satisfied: pickleshare in /usr/local/lib/python3.7/dist-packages (from IPython->pycaret) (0.7.5)\nRequirement already satisfied: pexpect in /usr/local/lib/python3.7/dist-packages (from IPython->pycaret) (4.8.0)\nRequirement already satisfied: traitlets>=4.2 in /usr/local/lib/python3.7/dist-packages (from IPython->pycaret) (5.1.1)\nRequirement already satisfied: simplegeneric>0.8 in /usr/local/lib/python3.7/dist-packages (from IPython->pycaret) (0.8.1)\nRequirement already satisfied: pygments in /usr/local/lib/python3.7/dist-packages (from IPython->pycaret) (2.6.1)\nRequirement already satisfied: prompt-toolkit<2.0.0,>=1.0.4 in /usr/local/lib/python3.7/dist-packages (from IPython->pycaret) (1.0.18)\nRequirement already satisfied: widgetsnbextension~=3.5.0 in /usr/local/lib/python3.7/dist-packages (from ipywidgets->pycaret) (3.5.2)\nRequirement already satisfied: ipykernel>=4.5.1 in /usr/local/lib/python3.7/dist-packages (from ipywidgets->pycaret) (4.10.1)\nRequirement already satisfied: ipython-genutils~=0.2.0 in /usr/local/lib/python3.7/dist-packages (from ipywidgets->pycaret) (0.2.0)\nRequirement already satisfied: nbformat>=4.2.0 in /usr/local/lib/python3.7/dist-packages (from ipywidgets->pycaret) (5.1.3)\nRequirement already satisfied: jupyterlab-widgets>=1.0.0 in /usr/local/lib/python3.7/dist-packages (from ipywidgets->pycaret) (1.0.2)\nRequirement already satisfied: jupyter-client in /usr/local/lib/python3.7/dist-packages (from ipykernel>=4.5.1->ipywidgets->pycaret) (5.3.5)\nRequirement already satisfied: tornado>=4.0 in /usr/local/lib/python3.7/dist-packages (from ipykernel>=4.5.1->ipywidgets->pycaret) (5.1.1)\nRequirement already satisfied: wheel in /usr/local/lib/python3.7/dist-packages (from lightgbm>=2.3.1->pycaret) (0.37.1)\nRequirement already satisfied: python-dateutil>=2.1 in /usr/local/lib/python3.7/dist-packages (from matplotlib->pycaret) (2.8.2)\nRequirement already satisfied: kiwisolver>=1.0.1 in /usr/local/lib/python3.7/dist-packages (from matplotlib->pycaret) (1.3.2)\nRequirement already satisfied: cycler>=0.10 in /usr/local/lib/python3.7/dist-packages (from matplotlib->pycaret) (0.11.0)\nRequirement already satisfied: pyparsing!=2.0.4,!=2.1.2,!=2.1.6,>=2.0.1 in /usr/local/lib/python3.7/dist-packages (from matplotlib->pycaret) (3.0.7)\nRequirement already satisfied: jsonschema!=2.5.0,>=2.4 in /usr/local/lib/python3.7/dist-packages (from nbformat>=4.2.0->ipywidgets->pycaret) (4.3.3)\nRequirement already satisfied: jupyter-core in /usr/local/lib/python3.7/dist-packages (from nbformat>=4.2.0->ipywidgets->pycaret) (4.9.1)\nRequirement already satisfied: typing-extensions in /usr/local/lib/python3.7/dist-packages (from jsonschema!=2.5.0,>=2.4->nbformat>=4.2.0->ipywidgets->pycaret) (3.10.0.2)\nRequirement already satisfied: attrs>=17.4.0 in /usr/local/lib/python3.7/dist-packages (from jsonschema!=2.5.0,>=2.4->nbformat>=4.2.0->ipywidgets->pycaret) (21.4.0)\nRequirement already satisfied: importlib-metadata in /usr/local/lib/python3.7/dist-packages (from jsonschema!=2.5.0,>=2.4->nbformat>=4.2.0->ipywidgets->pycaret) (4.10.1)\nRequirement already satisfied: importlib-resources>=1.4.0 in /usr/local/lib/python3.7/dist-packages (from jsonschema!=2.5.0,>=2.4->nbformat>=4.2.0->ipywidgets->pycaret) (5.4.0)\nRequirement already satisfied: pyrsistent!=0.17.0,!=0.17.1,!=0.17.2,>=0.14.0 in /usr/local/lib/python3.7/dist-packages (from jsonschema!=2.5.0,>=2.4->nbformat>=4.2.0->ipywidgets->pycaret) (0.18.1)\nRequirement already satisfied: zipp>=3.1.0 in /usr/local/lib/python3.7/dist-packages (from importlib-resources>=1.4.0->jsonschema!=2.5.0,>=2.4->nbformat>=4.2.0->ipywidgets->pycaret) (3.7.0)\nRequirement already satisfied: pytz>=2017.2 in /usr/local/lib/python3.7/dist-packages (from pandas->pycaret) (2018.9)\nCollecting visions[type_image_path]==0.7.4\n  Downloading visions-0.7.4-py3-none-any.whl (102 kB)\n\u001b[K     |████████████████████████████████| 102 kB 10.4 MB/s \n\u001b[?25hCollecting requests>=2.24.0\n  Downloading requests-2.27.1-py2.py3-none-any.whl (63 kB)\n\u001b[K     |████████████████████████████████| 63 kB 1.6 MB/s \n\u001b[?25hCollecting phik>=0.11.1\n  Downloading phik-0.12.0-cp37-cp37m-manylinux2010_x86_64.whl (675 kB)\n\u001b[K     |████████████████████████████████| 675 kB 50.6 MB/s \n\u001b[?25hCollecting tangled-up-in-unicode==0.1.0\n  Downloading tangled_up_in_unicode-0.1.0-py3-none-any.whl (3.1 MB)\n\u001b[K     |████████████████████████████████| 3.1 MB 31.8 MB/s \n\u001b[?25hCollecting multimethod>=1.4\n  Downloading multimethod-1.7-py3-none-any.whl (9.5 kB)\nCollecting pydantic>=1.8.1\n  Downloading pydantic-1.9.0-cp37-cp37m-manylinux_2_17_x86_64.manylinux2014_x86_64.whl (10.9 MB)\n\u001b[K     |████████████████████████████████| 10.9 MB 45.3 MB/s \n\u001b[?25hCollecting htmlmin>=0.1.12\n  Downloading htmlmin-0.1.12.tar.gz (19 kB)\nCollecting joblib\n  Downloading joblib-1.0.1-py3-none-any.whl (303 kB)\n\u001b[K     |████████████████████████████████| 303 kB 51.0 MB/s \n\u001b[?25hRequirement already satisfied: jinja2>=2.11.1 in /usr/local/lib/python3.7/dist-packages (from pandas-profiling>=2.8.0->pycaret) (2.11.3)\nCollecting pyyaml<6.0.0\n  Downloading PyYAML-5.4.1-cp37-cp37m-manylinux1_x86_64.whl (636 kB)\n\u001b[K     |████████████████████████████████| 636 kB 59.6 MB/s \n\u001b[?25hRequirement already satisfied: markupsafe~=2.0.1 in /usr/local/lib/python3.7/dist-packages (from pandas-profiling>=2.8.0->pycaret) (2.0.1)\nRequirement already satisfied: tqdm>=4.48.2 in /usr/local/lib/python3.7/dist-packages (from pandas-profiling>=2.8.0->pycaret) (4.62.3)\nRequirement already satisfied: missingno>=0.4.2 in /usr/local/lib/python3.7/dist-packages (from pandas-profiling>=2.8.0->pycaret) (0.5.0)\nRequirement already satisfied: networkx>=2.4 in /usr/local/lib/python3.7/dist-packages (from visions[type_image_path]==0.7.4->pandas-profiling>=2.8.0->pycaret) (2.6.3)\nCollecting imagehash\n  Downloading ImageHash-4.2.1.tar.gz (812 kB)\n\u001b[K     |████████████████████████████████| 812 kB 37.2 MB/s \n\u001b[?25hRequirement already satisfied: Pillow in /usr/local/lib/python3.7/dist-packages (from visions[type_image_path]==0.7.4->pandas-profiling>=2.8.0->pycaret) (7.1.2)\nCollecting scipy<=1.5.4\n  Downloading scipy-1.5.4-cp37-cp37m-manylinux1_x86_64.whl (25.9 MB)\n\u001b[K     |████████████████████████████████| 25.9 MB 1.2 MB/s \n\u001b[?25hRequirement already satisfied: tenacity>=6.2.0 in /usr/local/lib/python3.7/dist-packages (from plotly>=4.4.1->pycaret) (8.0.1)\nRequirement already satisfied: wcwidth in /usr/local/lib/python3.7/dist-packages (from prompt-toolkit<2.0.0,>=1.0.4->IPython->pycaret) (0.2.5)\nRequirement already satisfied: urllib3<1.27,>=1.21.1 in /usr/local/lib/python3.7/dist-packages (from requests>=2.24.0->pandas-profiling>=2.8.0->pycaret) (1.24.3)\nRequirement already satisfied: charset-normalizer~=2.0.0 in /usr/local/lib/python3.7/dist-packages (from requests>=2.24.0->pandas-profiling>=2.8.0->pycaret) (2.0.10)\nRequirement already satisfied: certifi>=2017.4.17 in /usr/local/lib/python3.7/dist-packages (from requests>=2.24.0->pandas-profiling>=2.8.0->pycaret) (2021.10.8)\nRequirement already satisfied: idna<4,>=2.5 in /usr/local/lib/python3.7/dist-packages (from requests>=2.24.0->pandas-profiling>=2.8.0->pycaret) (2.10)\nRequirement already satisfied: plac<1.2.0,>=0.9.6 in /usr/local/lib/python3.7/dist-packages (from spacy<2.4.0->pycaret) (1.1.3)\nRequirement already satisfied: srsly<1.1.0,>=1.0.2 in /usr/local/lib/python3.7/dist-packages (from spacy<2.4.0->pycaret) (1.0.5)\nRequirement already satisfied: thinc==7.4.0 in /usr/local/lib/python3.7/dist-packages (from spacy<2.4.0->pycaret) (7.4.0)\nRequirement already satisfied: cymem<2.1.0,>=2.0.2 in /usr/local/lib/python3.7/dist-packages (from spacy<2.4.0->pycaret) (2.0.6)\nRequirement already satisfied: blis<0.5.0,>=0.4.0 in /usr/local/lib/python3.7/dist-packages (from spacy<2.4.0->pycaret) (0.4.1)\nRequirement already satisfied: catalogue<1.1.0,>=0.0.7 in /usr/local/lib/python3.7/dist-packages (from spacy<2.4.0->pycaret) (1.0.0)\nRequirement already satisfied: murmurhash<1.1.0,>=0.28.0 in /usr/local/lib/python3.7/dist-packages (from spacy<2.4.0->pycaret) (1.0.6)\nRequirement already satisfied: preshed<3.1.0,>=3.0.2 in /usr/local/lib/python3.7/dist-packages (from spacy<2.4.0->pycaret) (3.0.6)\nRequirement already satisfied: wasabi<1.1.0,>=0.4.0 in /usr/local/lib/python3.7/dist-packages (from spacy<2.4.0->pycaret) (0.9.0)\nRequirement already satisfied: notebook>=4.4.1 in /usr/local/lib/python3.7/dist-packages (from widgetsnbextension~=3.5.0->ipywidgets->pycaret) (5.3.1)\nRequirement already satisfied: Send2Trash in /usr/local/lib/python3.7/dist-packages (from notebook>=4.4.1->widgetsnbextension~=3.5.0->ipywidgets->pycaret) (1.8.0)\nRequirement already satisfied: terminado>=0.8.1 in /usr/local/lib/python3.7/dist-packages (from notebook>=4.4.1->widgetsnbextension~=3.5.0->ipywidgets->pycaret) (0.12.1)\nRequirement already satisfied: nbconvert in /usr/local/lib/python3.7/dist-packages (from notebook>=4.4.1->widgetsnbextension~=3.5.0->ipywidgets->pycaret) (5.6.1)\nRequirement already satisfied: pyzmq>=13 in /usr/local/lib/python3.7/dist-packages (from jupyter-client->ipykernel>=4.5.1->ipywidgets->pycaret) (22.3.0)\nRequirement already satisfied: ptyprocess in /usr/local/lib/python3.7/dist-packages (from terminado>=0.8.1->notebook>=4.4.1->widgetsnbextension~=3.5.0->ipywidgets->pycaret) (0.7.0)\nRequirement already satisfied: PyWavelets in /usr/local/lib/python3.7/dist-packages (from imagehash->visions[type_image_path]==0.7.4->pandas-profiling>=2.8.0->pycaret) (1.2.0)\nRequirement already satisfied: click>=7.0 in /usr/local/lib/python3.7/dist-packages (from mlflow->pycaret) (7.1.2)\nCollecting prometheus-flask-exporter\n  Downloading prometheus_flask_exporter-0.18.7-py3-none-any.whl (17 kB)\nRequirement already satisfied: entrypoints in /usr/local/lib/python3.7/dist-packages (from mlflow->pycaret) (0.3)\nRequirement already satisfied: packaging in /usr/local/lib/python3.7/dist-packages (from mlflow->pycaret) (21.3)\nCollecting docker>=4.0.0\n  Downloading docker-5.0.3-py2.py3-none-any.whl (146 kB)\n\u001b[K     |████████████████████████████████| 146 kB 59.2 MB/s \n\u001b[?25hCollecting alembic\n  Downloading alembic-1.7.6-py3-none-any.whl (210 kB)\n\u001b[K     |████████████████████████████████| 210 kB 52.0 MB/s \n\u001b[?25hCollecting gitpython>=2.1.0\n  Downloading GitPython-3.1.26-py3-none-any.whl (180 kB)\n\u001b[K     |████████████████████████████████| 180 kB 54.2 MB/s \n\u001b[?25hRequirement already satisfied: Flask in /usr/local/lib/python3.7/dist-packages (from mlflow->pycaret) (1.1.4)\nCollecting gunicorn\n  Downloading gunicorn-20.1.0-py3-none-any.whl (79 kB)\n\u001b[K     |████████████████████████████████| 79 kB 7.1 MB/s \n\u001b[?25hCollecting databricks-cli>=0.8.7\n  Downloading databricks-cli-0.16.2.tar.gz (58 kB)\n\u001b[K     |████████████████████████████████| 58 kB 4.8 MB/s \n\u001b[?25hCollecting querystring-parser\n  Downloading querystring_parser-1.2.4-py2.py3-none-any.whl (7.9 kB)\nRequirement already satisfied: sqlparse>=0.3.1 in /usr/local/lib/python3.7/dist-packages (from mlflow->pycaret) (0.4.2)\nRequirement already satisfied: protobuf>=3.7.0 in /usr/local/lib/python3.7/dist-packages (from mlflow->pycaret) (3.17.3)\nRequirement already satisfied: sqlalchemy in /usr/local/lib/python3.7/dist-packages (from mlflow->pycaret) (1.4.31)\nRequirement already satisfied: cloudpickle in /usr/local/lib/python3.7/dist-packages (from mlflow->pycaret) (1.3.0)\nRequirement already satisfied: tabulate>=0.7.7 in /usr/local/lib/python3.7/dist-packages (from databricks-cli>=0.8.7->mlflow->pycaret) (0.8.9)\nCollecting websocket-client>=0.32.0\n  Downloading websocket_client-1.2.3-py3-none-any.whl (53 kB)\n\u001b[K     |████████████████████████████████| 53 kB 1.9 MB/s \n\u001b[?25hCollecting gitdb<5,>=4.0.1\n  Downloading gitdb-4.0.9-py3-none-any.whl (63 kB)\n\u001b[K     |████████████████████████████████| 63 kB 980 kB/s \n\u001b[?25hCollecting smmap<6,>=3.0.1\n  Downloading smmap-5.0.0-py3-none-any.whl (24 kB)\nCollecting Mako\n  Downloading Mako-1.1.6-py2.py3-none-any.whl (75 kB)\n\u001b[K     |████████████████████████████████| 75 kB 3.8 MB/s \n\u001b[?25hRequirement already satisfied: greenlet!=0.4.17 in /usr/local/lib/python3.7/dist-packages (from sqlalchemy->mlflow->pycaret) (1.1.2)\nRequirement already satisfied: Werkzeug<2.0,>=0.15 in /usr/local/lib/python3.7/dist-packages (from Flask->mlflow->pycaret) (1.0.1)\nRequirement already satisfied: itsdangerous<2.0,>=0.24 in /usr/local/lib/python3.7/dist-packages (from Flask->mlflow->pycaret) (1.1.0)\nRequirement already satisfied: testpath in /usr/local/lib/python3.7/dist-packages (from nbconvert->notebook>=4.4.1->widgetsnbextension~=3.5.0->ipywidgets->pycaret) (0.5.0)\nRequirement already satisfied: defusedxml in /usr/local/lib/python3.7/dist-packages (from nbconvert->notebook>=4.4.1->widgetsnbextension~=3.5.0->ipywidgets->pycaret) (0.7.1)\nRequirement already satisfied: bleach in /usr/local/lib/python3.7/dist-packages (from nbconvert->notebook>=4.4.1->widgetsnbextension~=3.5.0->ipywidgets->pycaret) (4.1.0)\nRequirement already satisfied: pandocfilters>=1.4.1 in /usr/local/lib/python3.7/dist-packages (from nbconvert->notebook>=4.4.1->widgetsnbextension~=3.5.0->ipywidgets->pycaret) (1.5.0)\nRequirement already satisfied: mistune<2,>=0.8.1 in /usr/local/lib/python3.7/dist-packages (from nbconvert->notebook>=4.4.1->widgetsnbextension~=3.5.0->ipywidgets->pycaret) (0.8.4)\nRequirement already satisfied: webencodings in /usr/local/lib/python3.7/dist-packages (from bleach->nbconvert->notebook>=4.4.1->widgetsnbextension~=3.5.0->ipywidgets->pycaret) (0.5.1)\nRequirement already satisfied: prometheus-client in /usr/local/lib/python3.7/dist-packages (from prometheus-flask-exporter->mlflow->pycaret) (0.13.0)\nCollecting pyLDAvis\n  Downloading pyLDAvis-3.3.0.tar.gz (1.7 MB)\n\u001b[K     |████████████████████████████████| 1.7 MB 49.7 MB/s \n\u001b[?25h  Installing build dependencies ... \u001b[?25l\u001b[?25hdone\n  Getting requirements to build wheel ... \u001b[?25l\u001b[?25hdone\n  Installing backend dependencies ... \u001b[?25l\u001b[?25hdone\n    Preparing wheel metadata ... \u001b[?25l\u001b[?25hdone\n  Downloading pyLDAvis-3.2.2.tar.gz (1.7 MB)\n\u001b[K     |████████████████████████████████| 1.7 MB 35.0 MB/s \n\u001b[?25hRequirement already satisfied: numexpr in /usr/local/lib/python3.7/dist-packages (from pyLDAvis->pycaret) (2.8.1)\nRequirement already satisfied: future in /usr/local/lib/python3.7/dist-packages (from pyLDAvis->pycaret) (0.16.0)\nCollecting funcy\n  Downloading funcy-1.17-py2.py3-none-any.whl (33 kB)\nRequirement already satisfied: numba>=0.35 in /usr/local/lib/python3.7/dist-packages (from pyod->pycaret) (0.51.2)\nRequirement already satisfied: statsmodels in /usr/local/lib/python3.7/dist-packages (from pyod->pycaret) (0.10.2)\nRequirement already satisfied: llvmlite<0.35,>=0.34.0.dev0 in /usr/local/lib/python3.7/dist-packages (from numba>=0.35->pyod->pycaret) (0.34.0)\nRequirement already satisfied: patsy>=0.4.0 in /usr/local/lib/python3.7/dist-packages (from statsmodels->pyod->pycaret) (0.5.2)\nCollecting pynndescent>=0.5\n  Downloading pynndescent-0.5.6.tar.gz (1.1 MB)\n\u001b[K     |████████████████████████████████| 1.1 MB 51.4 MB/s \n\u001b[?25hBuilding wheels for collected packages: htmlmin, imagehash, databricks-cli, pyLDAvis, pyod, umap-learn, pynndescent\n  Building wheel for htmlmin (setup.py) ... \u001b[?25l\u001b[?25hdone\n  Created wheel for htmlmin: filename=htmlmin-0.1.12-py3-none-any.whl size=27098 sha256=8e3dbf3b5a99f861ac2df2daa6e0ce928a2d3fc20dff2126d3366f2d1ea8b72e\n  Stored in directory: /root/.cache/pip/wheels/70/e1/52/5b14d250ba868768823940c3229e9950d201a26d0bd3ee8655\n  Building wheel for imagehash (setup.py) ... \u001b[?25l\u001b[?25hdone\n  Created wheel for imagehash: filename=ImageHash-4.2.1-py2.py3-none-any.whl size=295206 sha256=154554d53cc760efe253a2230c9842aaa71619e43db3d49f0c6d34130c76db29\n  Stored in directory: /root/.cache/pip/wheels/4c/d5/59/5e3e297533ddb09407769762985d134135064c6831e29a914e\n  Building wheel for databricks-cli (setup.py) ... \u001b[?25l\u001b[?25hdone\n  Created wheel for databricks-cli: filename=databricks_cli-0.16.2-py3-none-any.whl size=106811 sha256=b4cc2119ae27b4b1fd9f96d4f7b72ed7b77592d4d7dcc717f5eca4ad2e47672a\n  Stored in directory: /root/.cache/pip/wheels/f4/5c/ed/e1ce20a53095f63b27b4964abbad03e59cf3472822addf7d29\n  Building wheel for pyLDAvis (setup.py) ... \u001b[?25l\u001b[?25hdone\n  Created wheel for pyLDAvis: filename=pyLDAvis-3.2.2-py2.py3-none-any.whl size=135617 sha256=815a478b97fdc57d45c513aaf0d2c3e7007b42c88ff881f6b7dd4e1047db23a5\n  Stored in directory: /root/.cache/pip/wheels/f8/b1/9b/560ac1931796b7303f7b517b949d2d31a4fbc512aad3b9f284\n  Building wheel for pyod (setup.py) ... \u001b[?25l\u001b[?25hdone\n  Created wheel for pyod: filename=pyod-0.9.7-py3-none-any.whl size=136279 sha256=2b039aae8223bb9443a6fd298fb4b325e16a3000e278ee028f55b2d8bd066f53\n  Stored in directory: /root/.cache/pip/wheels/ce/14/ae/60cbb36511e59bc12f8f0883805f586db3b315972b54865d33\n  Building wheel for umap-learn (setup.py) ... \u001b[?25l\u001b[?25hdone\n  Created wheel for umap-learn: filename=umap_learn-0.5.2-py3-none-any.whl size=82708 sha256=d6013bd9d9245eaab2c5c57b2ee5752ca24160ab39adfa504b671082567e369e\n  Stored in directory: /root/.cache/pip/wheels/84/1b/c6/aaf68a748122632967cef4dffef68224eb16798b6793257d82\n  Building wheel for pynndescent (setup.py) ... \u001b[?25l\u001b[?25hdone\n  Created wheel for pynndescent: filename=pynndescent-0.5.6-py3-none-any.whl size=53943 sha256=a8d09dc8e1ebc3e1386c4a5b525a40bc4d2aa8ab88c49d9ca21e5a56a2cce0ee\n  Stored in directory: /root/.cache/pip/wheels/03/f1/56/f80d72741e400345b5a5b50ec3d929aca581bf45e0225d5c50\nSuccessfully built htmlmin imagehash databricks-cli pyLDAvis pyod umap-learn pynndescent\nInstalling collected packages: tangled-up-in-unicode, smmap, scipy, multimethod, joblib, websocket-client, visions, scikit-learn, requests, Mako, imagehash, gitdb, querystring-parser, pyyaml, pynndescent, pydantic, prometheus-flask-exporter, phik, htmlmin, gunicorn, gitpython, funcy, docker, databricks-cli, alembic, umap-learn, scikit-plot, pyod, pyLDAvis, pandas-profiling, mlxtend, mlflow, lightgbm, kmodes, imbalanced-learn, Boruta, pycaret\n  Attempting uninstall: scipy\n    Found existing installation: scipy 1.4.1\n    Uninstalling scipy-1.4.1:\n      Successfully uninstalled scipy-1.4.1\n  Attempting uninstall: joblib\n    Found existing installation: joblib 1.1.0\n    Uninstalling joblib-1.1.0:\n      Successfully uninstalled joblib-1.1.0\n  Attempting uninstall: scikit-learn\n    Found existing installation: scikit-learn 1.0.2\n    Uninstalling scikit-learn-1.0.2:\n      Successfully uninstalled scikit-learn-1.0.2\n  Attempting uninstall: requests\n    Found existing installation: requests 2.23.0\n    Uninstalling requests-2.23.0:\n      Successfully uninstalled requests-2.23.0\n  Attempting uninstall: pyyaml\n    Found existing installation: PyYAML 3.13\n    Uninstalling PyYAML-3.13:\n      Successfully uninstalled PyYAML-3.13\n  Attempting uninstall: pandas-profiling\n    Found existing installation: pandas-profiling 1.4.1\n    Uninstalling pandas-profiling-1.4.1:\n      Successfully uninstalled pandas-profiling-1.4.1\n  Attempting uninstall: mlxtend\n    Found existing installation: mlxtend 0.14.0\n    Uninstalling mlxtend-0.14.0:\n      Successfully uninstalled mlxtend-0.14.0\n  Attempting uninstall: lightgbm\n    Found existing installation: lightgbm 2.2.3\n    Uninstalling lightgbm-2.2.3:\n      Successfully uninstalled lightgbm-2.2.3\n  Attempting uninstall: imbalanced-learn\n    Found existing installation: imbalanced-learn 0.8.1\n    Uninstalling imbalanced-learn-0.8.1:\n      Successfully uninstalled imbalanced-learn-0.8.1\n\u001b[31mERROR: pip's dependency resolver does not currently take into account all the packages that are installed. This behaviour is the source of the following dependency conflicts.\ngoogle-colab 1.0.0 requires requests~=2.23.0, but you have requests 2.27.1 which is incompatible.\ndatascience 0.10.6 requires folium==0.2.1, but you have folium 0.8.3 which is incompatible.\nalbumentations 0.1.12 requires imgaug<0.2.7,>=0.2.5, but you have imgaug 0.2.9 which is incompatible.\u001b[0m\nSuccessfully installed Boruta-0.3 Mako-1.1.6 alembic-1.7.6 databricks-cli-0.16.2 docker-5.0.3 funcy-1.17 gitdb-4.0.9 gitpython-3.1.26 gunicorn-20.1.0 htmlmin-0.1.12 imagehash-4.2.1 imbalanced-learn-0.7.0 joblib-1.0.1 kmodes-0.11.1 lightgbm-3.3.2 mlflow-1.23.1 mlxtend-0.19.0 multimethod-1.7 pandas-profiling-3.1.0 phik-0.12.0 prometheus-flask-exporter-0.18.7 pyLDAvis-3.2.2 pycaret-2.3.6 pydantic-1.9.0 pynndescent-0.5.6 pyod-0.9.7 pyyaml-5.4.1 querystring-parser-1.2.4 requests-2.27.1 scikit-learn-0.23.2 scikit-plot-0.3.7 scipy-1.5.4 smmap-5.0.0 tangled-up-in-unicode-0.1.0 umap-learn-0.5.2 visions-0.7.4 websocket-client-1.2.3\n"
                }
            ],
            "execution_count": 4
        },
        {
            "cell_type": "code",
            "source": [
                "import pandas as pd\n",
                "import sys\n",
                "import numpy as np\n",
                "import pickle\n",
                "from pycaret.classification import * \n",
                "import seaborn as sns\n",
                "import matplotlib.pyplot as plt\n",
                "\n",
                "sys.path.append(\"../tools/\")\n",
                "from final_project.tester import dump_classifier_and_data\n",
                "from tools.feature_format import featureFormat, targetFeatureSplit\n",
                "\n",
                "\n",
                "# Provided to give you a starting point. Try a variety of classifiers.\n",
                "from sklearn.naive_bayes import GaussianNB\n",
                "from sklearn.svm import SVC\n",
                "from sklearn.linear_model import LogisticRegression\n",
                "from sklearn.ensemble import RandomForestClassifier\n",
                "from final_project.tester import test_classifier\n",
                "from sklearn.ensemble import GradientBoostingClassifier\n",
                "from sklearn.tree import DecisionTreeClassifier\n",
                "\n",
                "### Task 1: Select what features you'll use.\n",
                "### features_list is a list of strings, each of which is a feature name.\n",
                "### The first feature must be \"poi\".\n",
                "features_list = ['poi', 'salary', 'deferral_payments', 'total_payments', 'loan_advances',\n",
                "                 'bonus', 'restricted_stock_deferred', 'deferred_income',\n",
                "                 'total_stock_value', 'expenses', 'exercised_stock_options',\n",
                "                 'other', 'long_term_incentive', 'restricted_stock', 'director_fees',\n",
                "                 'to_messages', 'from_poi_to_this_person', 'from_messages',\n",
                "                 'from_this_person_to_poi', 'shared_receipt_with_poi'] \n",
                "\n",
                "### Load the dictionary containing the dataset\n",
                "with open(\"/content/final_project/final_project_dataset.pkl\", \"rb\") as data_file:\n",
                "    data_dict = pickle.load(data_file)\n",
                "\n"
            ],
            "metadata": {
                "id": "JSbclPXiuiXd",
                "colab": {
                    "base_uri": "https://localhost:8080/"
                },
                "outputId": "9716a9e8-b3ca-43bb-b759-b1da5a31b9cf",
                "azdata_cell_guid": "8615f53d-ec36-48d4-a6d6-2ac122a82909"
            },
            "outputs": [
                {
                    "output_type": "stream",
                    "name": "stderr",
                    "text": "/usr/local/lib/python3.7/dist-packages/distributed/config.py:20: YAMLLoadWarning: calling yaml.load() without Loader=... is deprecated, as the default Loader is unsafe. Please read https://msg.pyyaml.org/load for full details.\n  defaults = yaml.load(f)\n"
                }
            ],
            "execution_count": 1
        },
        {
            "cell_type": "code",
            "source": [
                "### Store to my_dataset for easy export below.\n",
                "my_dataset = data_dict\n",
                "\n",
                "### Extract features and labels from dataset for local testing\n",
                "data = featureFormat(my_dataset, features_list, sort_keys = True)"
            ],
            "metadata": {
                "id": "jMT6rxQ-usfH",
                "azdata_cell_guid": "6dfaf4d3-ccff-4ed3-8b59-ea562f6896cc"
            },
            "outputs": [],
            "execution_count": 2
        },
        {
            "cell_type": "code",
            "source": [
                "### converting the data to df for some analysis and exploration\n",
                "my_data = pd.DataFrame(data, columns=features_list)\n",
                "my_data.head()"
            ],
            "metadata": {
                "colab": {
                    "base_uri": "https://localhost:8080/",
                    "height": 270
                },
                "id": "tBkYCMcPaYFm",
                "outputId": "5bc78d9e-490a-43e3-d698-b95239b538ae",
                "azdata_cell_guid": "6cf7f2b9-817a-4815-93b3-dc2ae6542fa8"
            },
            "outputs": [
                {
                    "output_type": "execute_result",
                    "execution_count": 3,
                    "data": {
                        "text/html": "\n  <div id=\"df-0c3d070e-c9d9-4800-b41c-27d6fea4dbc6\">\n    <div class=\"colab-df-container\">\n      <div>\n<style scoped>\n    .dataframe tbody tr th:only-of-type {\n        vertical-align: middle;\n    }\n\n    .dataframe tbody tr th {\n        vertical-align: top;\n    }\n\n    .dataframe thead th {\n        text-align: right;\n    }\n</style>\n<table border=\"1\" class=\"dataframe\">\n  <thead>\n    <tr style=\"text-align: right;\">\n      <th></th>\n      <th>poi</th>\n      <th>salary</th>\n      <th>deferral_payments</th>\n      <th>total_payments</th>\n      <th>loan_advances</th>\n      <th>bonus</th>\n      <th>restricted_stock_deferred</th>\n      <th>deferred_income</th>\n      <th>total_stock_value</th>\n      <th>expenses</th>\n      <th>exercised_stock_options</th>\n      <th>other</th>\n      <th>long_term_incentive</th>\n      <th>restricted_stock</th>\n      <th>director_fees</th>\n      <th>to_messages</th>\n      <th>from_poi_to_this_person</th>\n      <th>from_messages</th>\n      <th>from_this_person_to_poi</th>\n      <th>shared_receipt_with_poi</th>\n    </tr>\n  </thead>\n  <tbody>\n    <tr>\n      <th>0</th>\n      <td>0.0</td>\n      <td>201955.0</td>\n      <td>2869717.0</td>\n      <td>4484442.0</td>\n      <td>0.0</td>\n      <td>4175000.0</td>\n      <td>-126027.0</td>\n      <td>-3081055.0</td>\n      <td>1729541.0</td>\n      <td>13868.0</td>\n      <td>1729541.0</td>\n      <td>152.0</td>\n      <td>304805.0</td>\n      <td>126027.0</td>\n      <td>0.0</td>\n      <td>2902.0</td>\n      <td>47.0</td>\n      <td>2195.0</td>\n      <td>65.0</td>\n      <td>1407.0</td>\n    </tr>\n    <tr>\n      <th>1</th>\n      <td>0.0</td>\n      <td>0.0</td>\n      <td>178980.0</td>\n      <td>182466.0</td>\n      <td>0.0</td>\n      <td>0.0</td>\n      <td>0.0</td>\n      <td>0.0</td>\n      <td>257817.0</td>\n      <td>3486.0</td>\n      <td>257817.0</td>\n      <td>0.0</td>\n      <td>0.0</td>\n      <td>0.0</td>\n      <td>0.0</td>\n      <td>0.0</td>\n      <td>0.0</td>\n      <td>0.0</td>\n      <td>0.0</td>\n      <td>0.0</td>\n    </tr>\n    <tr>\n      <th>2</th>\n      <td>0.0</td>\n      <td>477.0</td>\n      <td>0.0</td>\n      <td>916197.0</td>\n      <td>0.0</td>\n      <td>0.0</td>\n      <td>-560222.0</td>\n      <td>-5104.0</td>\n      <td>5243487.0</td>\n      <td>56301.0</td>\n      <td>4046157.0</td>\n      <td>864523.0</td>\n      <td>0.0</td>\n      <td>1757552.0</td>\n      <td>0.0</td>\n      <td>566.0</td>\n      <td>39.0</td>\n      <td>29.0</td>\n      <td>0.0</td>\n      <td>465.0</td>\n    </tr>\n    <tr>\n      <th>3</th>\n      <td>0.0</td>\n      <td>267102.0</td>\n      <td>1295738.0</td>\n      <td>5634343.0</td>\n      <td>0.0</td>\n      <td>1200000.0</td>\n      <td>0.0</td>\n      <td>-1386055.0</td>\n      <td>10623258.0</td>\n      <td>11200.0</td>\n      <td>6680544.0</td>\n      <td>2660303.0</td>\n      <td>1586055.0</td>\n      <td>3942714.0</td>\n      <td>0.0</td>\n      <td>0.0</td>\n      <td>0.0</td>\n      <td>0.0</td>\n      <td>0.0</td>\n      <td>0.0</td>\n    </tr>\n    <tr>\n      <th>4</th>\n      <td>0.0</td>\n      <td>239671.0</td>\n      <td>260455.0</td>\n      <td>827696.0</td>\n      <td>0.0</td>\n      <td>400000.0</td>\n      <td>-82782.0</td>\n      <td>-201641.0</td>\n      <td>63014.0</td>\n      <td>129142.0</td>\n      <td>0.0</td>\n      <td>69.0</td>\n      <td>0.0</td>\n      <td>145796.0</td>\n      <td>0.0</td>\n      <td>0.0</td>\n      <td>0.0</td>\n      <td>0.0</td>\n      <td>0.0</td>\n      <td>0.0</td>\n    </tr>\n  </tbody>\n</table>\n</div>\n      <button class=\"colab-df-convert\" onclick=\"convertToInteractive('df-0c3d070e-c9d9-4800-b41c-27d6fea4dbc6')\"\n              title=\"Convert this dataframe to an interactive table.\"\n              style=\"display:none;\">\n        \n  <svg xmlns=\"http://www.w3.org/2000/svg\" height=\"24px\"viewBox=\"0 0 24 24\"\n       width=\"24px\">\n    <path d=\"M0 0h24v24H0V0z\" fill=\"none\"/>\n    <path d=\"M18.56 5.44l.94 2.06.94-2.06 2.06-.94-2.06-.94-.94-2.06-.94 2.06-2.06.94zm-11 1L8.5 8.5l.94-2.06 2.06-.94-2.06-.94L8.5 2.5l-.94 2.06-2.06.94zm10 10l.94 2.06.94-2.06 2.06-.94-2.06-.94-.94-2.06-.94 2.06-2.06.94z\"/><path d=\"M17.41 7.96l-1.37-1.37c-.4-.4-.92-.59-1.43-.59-.52 0-1.04.2-1.43.59L10.3 9.45l-7.72 7.72c-.78.78-.78 2.05 0 2.83L4 21.41c.39.39.9.59 1.41.59.51 0 1.02-.2 1.41-.59l7.78-7.78 2.81-2.81c.8-.78.8-2.07 0-2.86zM5.41 20L4 18.59l7.72-7.72 1.47 1.35L5.41 20z\"/>\n  </svg>\n      </button>\n      \n  <style>\n    .colab-df-container {\n      display:flex;\n      flex-wrap:wrap;\n      gap: 12px;\n    }\n\n    .colab-df-convert {\n      background-color: #E8F0FE;\n      border: none;\n      border-radius: 50%;\n      cursor: pointer;\n      display: none;\n      fill: #1967D2;\n      height: 32px;\n      padding: 0 0 0 0;\n      width: 32px;\n    }\n\n    .colab-df-convert:hover {\n      background-color: #E2EBFA;\n      box-shadow: 0px 1px 2px rgba(60, 64, 67, 0.3), 0px 1px 3px 1px rgba(60, 64, 67, 0.15);\n      fill: #174EA6;\n    }\n\n    [theme=dark] .colab-df-convert {\n      background-color: #3B4455;\n      fill: #D2E3FC;\n    }\n\n    [theme=dark] .colab-df-convert:hover {\n      background-color: #434B5C;\n      box-shadow: 0px 1px 3px 1px rgba(0, 0, 0, 0.15);\n      filter: drop-shadow(0px 1px 2px rgba(0, 0, 0, 0.3));\n      fill: #FFFFFF;\n    }\n  </style>\n\n      <script>\n        const buttonEl =\n          document.querySelector('#df-0c3d070e-c9d9-4800-b41c-27d6fea4dbc6 button.colab-df-convert');\n        buttonEl.style.display =\n          google.colab.kernel.accessAllowed ? 'block' : 'none';\n\n        async function convertToInteractive(key) {\n          const element = document.querySelector('#df-0c3d070e-c9d9-4800-b41c-27d6fea4dbc6');\n          const dataTable =\n            await google.colab.kernel.invokeFunction('convertToInteractive',\n                                                     [key], {});\n          if (!dataTable) return;\n\n          const docLinkHtml = 'Like what you see? Visit the ' +\n            '<a target=\"_blank\" href=https://colab.research.google.com/notebooks/data_table.ipynb>data table notebook</a>'\n            + ' to learn more about interactive tables.';\n          element.innerHTML = '';\n          dataTable['output_type'] = 'display_data';\n          await google.colab.output.renderOutput(dataTable, element);\n          const docLink = document.createElement('div');\n          docLink.innerHTML = docLinkHtml;\n          element.appendChild(docLink);\n        }\n      </script>\n    </div>\n  </div>\n  ",
                        "text/plain": "   poi    salary  deferral_payments  total_payments  loan_advances      bonus  \\\n0  0.0  201955.0          2869717.0       4484442.0            0.0  4175000.0   \n1  0.0       0.0           178980.0        182466.0            0.0        0.0   \n2  0.0     477.0                0.0        916197.0            0.0        0.0   \n3  0.0  267102.0          1295738.0       5634343.0            0.0  1200000.0   \n4  0.0  239671.0           260455.0        827696.0            0.0   400000.0   \n\n   restricted_stock_deferred  deferred_income  total_stock_value  expenses  \\\n0                  -126027.0       -3081055.0          1729541.0   13868.0   \n1                        0.0              0.0           257817.0    3486.0   \n2                  -560222.0          -5104.0          5243487.0   56301.0   \n3                        0.0       -1386055.0         10623258.0   11200.0   \n4                   -82782.0        -201641.0            63014.0  129142.0   \n\n   exercised_stock_options      other  long_term_incentive  restricted_stock  \\\n0                1729541.0      152.0             304805.0          126027.0   \n1                 257817.0        0.0                  0.0               0.0   \n2                4046157.0   864523.0                  0.0         1757552.0   \n3                6680544.0  2660303.0            1586055.0         3942714.0   \n4                      0.0       69.0                  0.0          145796.0   \n\n   director_fees  to_messages  from_poi_to_this_person  from_messages  \\\n0            0.0       2902.0                     47.0         2195.0   \n1            0.0          0.0                      0.0            0.0   \n2            0.0        566.0                     39.0           29.0   \n3            0.0          0.0                      0.0            0.0   \n4            0.0          0.0                      0.0            0.0   \n\n   from_this_person_to_poi  shared_receipt_with_poi  \n0                     65.0                   1407.0  \n1                      0.0                      0.0  \n2                      0.0                    465.0  \n3                      0.0                      0.0  \n4                      0.0                      0.0  "
                    },
                    "metadata": {}
                }
            ],
            "execution_count": 3
        },
        {
            "cell_type": "code",
            "source": [
                "### creating a new feature\n",
                "my_data['pct_amount_paid_from_bonus'] = my_data['bonus']/ my_data['total_payments']"
            ],
            "metadata": {
                "id": "JMbQ4I0KTdVq",
                "azdata_cell_guid": "7c08d9d2-78ee-4b51-96f5-c98d546fb049"
            },
            "outputs": [],
            "execution_count": 4
        },
        {
            "cell_type": "code",
            "source": [
                "my_data.fillna(0, inplace=True)"
            ],
            "metadata": {
                "id": "gcUv7amCUHxb",
                "azdata_cell_guid": "28acc99c-6246-4413-96bd-77d98fb67cc3"
            },
            "outputs": [],
            "execution_count": 5
        },
        {
            "cell_type": "code",
            "source": [
                "my_data.head()"
            ],
            "metadata": {
                "colab": {
                    "base_uri": "https://localhost:8080/",
                    "height": 270
                },
                "id": "jiEOQnzMUCzH",
                "outputId": "090dbbe9-3140-4803-a276-551bd5139ef4",
                "azdata_cell_guid": "3afc85cc-95f8-45f5-b1d3-7e41a5cf547a"
            },
            "outputs": [
                {
                    "output_type": "execute_result",
                    "execution_count": 6,
                    "data": {
                        "text/html": "\n  <div id=\"df-d3e4b35c-656a-4243-b2ac-5ea428603194\">\n    <div class=\"colab-df-container\">\n      <div>\n<style scoped>\n    .dataframe tbody tr th:only-of-type {\n        vertical-align: middle;\n    }\n\n    .dataframe tbody tr th {\n        vertical-align: top;\n    }\n\n    .dataframe thead th {\n        text-align: right;\n    }\n</style>\n<table border=\"1\" class=\"dataframe\">\n  <thead>\n    <tr style=\"text-align: right;\">\n      <th></th>\n      <th>poi</th>\n      <th>salary</th>\n      <th>deferral_payments</th>\n      <th>total_payments</th>\n      <th>loan_advances</th>\n      <th>bonus</th>\n      <th>restricted_stock_deferred</th>\n      <th>deferred_income</th>\n      <th>total_stock_value</th>\n      <th>expenses</th>\n      <th>exercised_stock_options</th>\n      <th>other</th>\n      <th>long_term_incentive</th>\n      <th>restricted_stock</th>\n      <th>director_fees</th>\n      <th>to_messages</th>\n      <th>from_poi_to_this_person</th>\n      <th>from_messages</th>\n      <th>from_this_person_to_poi</th>\n      <th>shared_receipt_with_poi</th>\n      <th>pct_amount_paid_from_bonus</th>\n    </tr>\n  </thead>\n  <tbody>\n    <tr>\n      <th>0</th>\n      <td>0.0</td>\n      <td>201955.0</td>\n      <td>2869717.0</td>\n      <td>4484442.0</td>\n      <td>0.0</td>\n      <td>4175000.0</td>\n      <td>-126027.0</td>\n      <td>-3081055.0</td>\n      <td>1729541.0</td>\n      <td>13868.0</td>\n      <td>1729541.0</td>\n      <td>152.0</td>\n      <td>304805.0</td>\n      <td>126027.0</td>\n      <td>0.0</td>\n      <td>2902.0</td>\n      <td>47.0</td>\n      <td>2195.0</td>\n      <td>65.0</td>\n      <td>1407.0</td>\n      <td>0.930997</td>\n    </tr>\n    <tr>\n      <th>1</th>\n      <td>0.0</td>\n      <td>0.0</td>\n      <td>178980.0</td>\n      <td>182466.0</td>\n      <td>0.0</td>\n      <td>0.0</td>\n      <td>0.0</td>\n      <td>0.0</td>\n      <td>257817.0</td>\n      <td>3486.0</td>\n      <td>257817.0</td>\n      <td>0.0</td>\n      <td>0.0</td>\n      <td>0.0</td>\n      <td>0.0</td>\n      <td>0.0</td>\n      <td>0.0</td>\n      <td>0.0</td>\n      <td>0.0</td>\n      <td>0.0</td>\n      <td>0.000000</td>\n    </tr>\n    <tr>\n      <th>2</th>\n      <td>0.0</td>\n      <td>477.0</td>\n      <td>0.0</td>\n      <td>916197.0</td>\n      <td>0.0</td>\n      <td>0.0</td>\n      <td>-560222.0</td>\n      <td>-5104.0</td>\n      <td>5243487.0</td>\n      <td>56301.0</td>\n      <td>4046157.0</td>\n      <td>864523.0</td>\n      <td>0.0</td>\n      <td>1757552.0</td>\n      <td>0.0</td>\n      <td>566.0</td>\n      <td>39.0</td>\n      <td>29.0</td>\n      <td>0.0</td>\n      <td>465.0</td>\n      <td>0.000000</td>\n    </tr>\n    <tr>\n      <th>3</th>\n      <td>0.0</td>\n      <td>267102.0</td>\n      <td>1295738.0</td>\n      <td>5634343.0</td>\n      <td>0.0</td>\n      <td>1200000.0</td>\n      <td>0.0</td>\n      <td>-1386055.0</td>\n      <td>10623258.0</td>\n      <td>11200.0</td>\n      <td>6680544.0</td>\n      <td>2660303.0</td>\n      <td>1586055.0</td>\n      <td>3942714.0</td>\n      <td>0.0</td>\n      <td>0.0</td>\n      <td>0.0</td>\n      <td>0.0</td>\n      <td>0.0</td>\n      <td>0.0</td>\n      <td>0.212980</td>\n    </tr>\n    <tr>\n      <th>4</th>\n      <td>0.0</td>\n      <td>239671.0</td>\n      <td>260455.0</td>\n      <td>827696.0</td>\n      <td>0.0</td>\n      <td>400000.0</td>\n      <td>-82782.0</td>\n      <td>-201641.0</td>\n      <td>63014.0</td>\n      <td>129142.0</td>\n      <td>0.0</td>\n      <td>69.0</td>\n      <td>0.0</td>\n      <td>145796.0</td>\n      <td>0.0</td>\n      <td>0.0</td>\n      <td>0.0</td>\n      <td>0.0</td>\n      <td>0.0</td>\n      <td>0.0</td>\n      <td>0.483269</td>\n    </tr>\n  </tbody>\n</table>\n</div>\n      <button class=\"colab-df-convert\" onclick=\"convertToInteractive('df-d3e4b35c-656a-4243-b2ac-5ea428603194')\"\n              title=\"Convert this dataframe to an interactive table.\"\n              style=\"display:none;\">\n        \n  <svg xmlns=\"http://www.w3.org/2000/svg\" height=\"24px\"viewBox=\"0 0 24 24\"\n       width=\"24px\">\n    <path d=\"M0 0h24v24H0V0z\" fill=\"none\"/>\n    <path d=\"M18.56 5.44l.94 2.06.94-2.06 2.06-.94-2.06-.94-.94-2.06-.94 2.06-2.06.94zm-11 1L8.5 8.5l.94-2.06 2.06-.94-2.06-.94L8.5 2.5l-.94 2.06-2.06.94zm10 10l.94 2.06.94-2.06 2.06-.94-2.06-.94-.94-2.06-.94 2.06-2.06.94z\"/><path d=\"M17.41 7.96l-1.37-1.37c-.4-.4-.92-.59-1.43-.59-.52 0-1.04.2-1.43.59L10.3 9.45l-7.72 7.72c-.78.78-.78 2.05 0 2.83L4 21.41c.39.39.9.59 1.41.59.51 0 1.02-.2 1.41-.59l7.78-7.78 2.81-2.81c.8-.78.8-2.07 0-2.86zM5.41 20L4 18.59l7.72-7.72 1.47 1.35L5.41 20z\"/>\n  </svg>\n      </button>\n      \n  <style>\n    .colab-df-container {\n      display:flex;\n      flex-wrap:wrap;\n      gap: 12px;\n    }\n\n    .colab-df-convert {\n      background-color: #E8F0FE;\n      border: none;\n      border-radius: 50%;\n      cursor: pointer;\n      display: none;\n      fill: #1967D2;\n      height: 32px;\n      padding: 0 0 0 0;\n      width: 32px;\n    }\n\n    .colab-df-convert:hover {\n      background-color: #E2EBFA;\n      box-shadow: 0px 1px 2px rgba(60, 64, 67, 0.3), 0px 1px 3px 1px rgba(60, 64, 67, 0.15);\n      fill: #174EA6;\n    }\n\n    [theme=dark] .colab-df-convert {\n      background-color: #3B4455;\n      fill: #D2E3FC;\n    }\n\n    [theme=dark] .colab-df-convert:hover {\n      background-color: #434B5C;\n      box-shadow: 0px 1px 3px 1px rgba(0, 0, 0, 0.15);\n      filter: drop-shadow(0px 1px 2px rgba(0, 0, 0, 0.3));\n      fill: #FFFFFF;\n    }\n  </style>\n\n      <script>\n        const buttonEl =\n          document.querySelector('#df-d3e4b35c-656a-4243-b2ac-5ea428603194 button.colab-df-convert');\n        buttonEl.style.display =\n          google.colab.kernel.accessAllowed ? 'block' : 'none';\n\n        async function convertToInteractive(key) {\n          const element = document.querySelector('#df-d3e4b35c-656a-4243-b2ac-5ea428603194');\n          const dataTable =\n            await google.colab.kernel.invokeFunction('convertToInteractive',\n                                                     [key], {});\n          if (!dataTable) return;\n\n          const docLinkHtml = 'Like what you see? Visit the ' +\n            '<a target=\"_blank\" href=https://colab.research.google.com/notebooks/data_table.ipynb>data table notebook</a>'\n            + ' to learn more about interactive tables.';\n          element.innerHTML = '';\n          dataTable['output_type'] = 'display_data';\n          await google.colab.output.renderOutput(dataTable, element);\n          const docLink = document.createElement('div');\n          docLink.innerHTML = docLinkHtml;\n          element.appendChild(docLink);\n        }\n      </script>\n    </div>\n  </div>\n  ",
                        "text/plain": "   poi    salary  deferral_payments  total_payments  loan_advances      bonus  \\\n0  0.0  201955.0          2869717.0       4484442.0            0.0  4175000.0   \n1  0.0       0.0           178980.0        182466.0            0.0        0.0   \n2  0.0     477.0                0.0        916197.0            0.0        0.0   \n3  0.0  267102.0          1295738.0       5634343.0            0.0  1200000.0   \n4  0.0  239671.0           260455.0        827696.0            0.0   400000.0   \n\n   restricted_stock_deferred  deferred_income  total_stock_value  expenses  \\\n0                  -126027.0       -3081055.0          1729541.0   13868.0   \n1                        0.0              0.0           257817.0    3486.0   \n2                  -560222.0          -5104.0          5243487.0   56301.0   \n3                        0.0       -1386055.0         10623258.0   11200.0   \n4                   -82782.0        -201641.0            63014.0  129142.0   \n\n   exercised_stock_options      other  long_term_incentive  restricted_stock  \\\n0                1729541.0      152.0             304805.0          126027.0   \n1                 257817.0        0.0                  0.0               0.0   \n2                4046157.0   864523.0                  0.0         1757552.0   \n3                6680544.0  2660303.0            1586055.0         3942714.0   \n4                      0.0       69.0                  0.0          145796.0   \n\n   director_fees  to_messages  from_poi_to_this_person  from_messages  \\\n0            0.0       2902.0                     47.0         2195.0   \n1            0.0          0.0                      0.0            0.0   \n2            0.0        566.0                     39.0           29.0   \n3            0.0          0.0                      0.0            0.0   \n4            0.0          0.0                      0.0            0.0   \n\n   from_this_person_to_poi  shared_receipt_with_poi  \\\n0                     65.0                   1407.0   \n1                      0.0                      0.0   \n2                      0.0                    465.0   \n3                      0.0                      0.0   \n4                      0.0                      0.0   \n\n   pct_amount_paid_from_bonus  \n0                    0.930997  \n1                    0.000000  \n2                    0.000000  \n3                    0.212980  \n4                    0.483269  "
                    },
                    "metadata": {}
                }
            ],
            "execution_count": 6
        },
        {
            "cell_type": "code",
            "source": [
                "# inspect info\n",
                "my_data.info()"
            ],
            "metadata": {
                "colab": {
                    "base_uri": "https://localhost:8080/"
                },
                "id": "A8lxj8DjaxxT",
                "outputId": "7288ee2c-6b79-401f-e1d0-49507b72e1b9",
                "azdata_cell_guid": "76b1e9f6-4889-49df-804f-dce245584d45"
            },
            "outputs": [
                {
                    "output_type": "stream",
                    "name": "stdout",
                    "text": "<class 'pandas.core.frame.DataFrame'>\nRangeIndex: 145 entries, 0 to 144\nData columns (total 21 columns):\n #   Column                      Non-Null Count  Dtype  \n---  ------                      --------------  -----  \n 0   poi                         145 non-null    float64\n 1   salary                      145 non-null    float64\n 2   deferral_payments           145 non-null    float64\n 3   total_payments              145 non-null    float64\n 4   loan_advances               145 non-null    float64\n 5   bonus                       145 non-null    float64\n 6   restricted_stock_deferred   145 non-null    float64\n 7   deferred_income             145 non-null    float64\n 8   total_stock_value           145 non-null    float64\n 9   expenses                    145 non-null    float64\n 10  exercised_stock_options     145 non-null    float64\n 11  other                       145 non-null    float64\n 12  long_term_incentive         145 non-null    float64\n 13  restricted_stock            145 non-null    float64\n 14  director_fees               145 non-null    float64\n 15  to_messages                 145 non-null    float64\n 16  from_poi_to_this_person     145 non-null    float64\n 17  from_messages               145 non-null    float64\n 18  from_this_person_to_poi     145 non-null    float64\n 19  shared_receipt_with_poi     145 non-null    float64\n 20  pct_amount_paid_from_bonus  145 non-null    float64\ndtypes: float64(21)\nmemory usage: 23.9 KB\n"
                }
            ],
            "execution_count": 14
        },
        {
            "cell_type": "code",
            "source": [
                "### find how many values are missing in each column\n",
                "selected_features_missing = []\n",
                "for col in features_list[1:]:\n",
                "  missing_vals = len(my_data[col][np.where(my_data[col]==0)[0]])\n",
                "  total_vals = len(my_data[col])\n",
                "  ptc_missing = missing_vals / total_vals\n",
                "  if ptc_missing < 0.25:\n",
                "    selected_features_missing.append(col)\n",
                "  print(f'{col} = {ptc_missing:.2f}%')"
            ],
            "metadata": {
                "colab": {
                    "base_uri": "https://localhost:8080/"
                },
                "id": "l7TDK06maryU",
                "outputId": "91910c9f-e853-4465-aafa-8459007de7ae",
                "azdata_cell_guid": "a06ddb41-10c8-40ff-871a-03a5617946f7"
            },
            "outputs": [
                {
                    "output_type": "stream",
                    "name": "stdout",
                    "text": "salary = 0.34%\ndeferral_payments = 0.73%\ntotal_payments = 0.14%\nloan_advances = 0.97%\nbonus = 0.43%\nrestricted_stock_deferred = 0.88%\ndeferred_income = 0.66%\ntotal_stock_value = 0.13%\nexpenses = 0.34%\nexercised_stock_options = 0.30%\nother = 0.36%\nlong_term_incentive = 0.54%\nrestricted_stock = 0.24%\ndirector_fees = 0.88%\nto_messages = 0.41%\nfrom_poi_to_this_person = 0.49%\nfrom_messages = 0.41%\nfrom_this_person_to_poi = 0.54%\nshared_receipt_with_poi = 0.41%\n"
                }
            ],
            "execution_count": 15
        },
        {
            "cell_type": "code",
            "source": [
                "selected_features_missing"
            ],
            "metadata": {
                "colab": {
                    "base_uri": "https://localhost:8080/"
                },
                "id": "lt9HHxy_cpIz",
                "outputId": "ecc33d99-294f-49c2-9af9-fc8e63163752",
                "azdata_cell_guid": "cf337f0e-d498-47e4-b43f-4d769ab1a4a8"
            },
            "outputs": [
                {
                    "output_type": "execute_result",
                    "execution_count": 16,
                    "data": {
                        "text/plain": "['total_payments', 'total_stock_value', 'restricted_stock']"
                    },
                    "metadata": {}
                }
            ],
            "execution_count": 16
        },
        {
            "cell_type": "code",
            "source": [
                "### find the correlation in features\n",
                "plt.figure(figsize=(10, 10))\n",
                "sns.heatmap(my_data.corr());"
            ],
            "metadata": {
                "colab": {
                    "base_uri": "https://localhost:8080/",
                    "height": 720
                },
                "id": "7UaSPd3RcxoO",
                "outputId": "0cb9e586-1726-495b-ce3f-39ec3d54b481",
                "azdata_cell_guid": "4cdfe2dd-11ea-4bfc-8b60-f32f19719066"
            },
            "outputs": [
                {
                    "output_type": "display_data",
                    "data": {
                        "image/png": "[encoded data removed]",
                        "text/plain": "<Figure size 720x720 with 2 Axes>"
                    },
                    "metadata": {}
                }
            ],
            "execution_count": 17
        },
        {
            "cell_type": "code",
            "source": [
                "### is data really balanced?\n",
                "plt.title('Is Data Balanced?')\n",
                "plt.xlabel('Class/Label')\n",
                "plt.ylabel('Count')\n",
                "my_data['poi'].value_counts().plot.bar();"
            ],
            "metadata": {
                "colab": {
                    "base_uri": "https://localhost:8080/",
                    "height": 298
                },
                "id": "4zQAsy1rcxhd",
                "outputId": "9839591e-bc06-4ba1-8654-e294245d030c",
                "azdata_cell_guid": "ad579bcb-c601-4b84-b5a0-b8071fc95d54"
            },
            "outputs": [
                {
                    "output_type": "display_data",
                    "data": {
                        "image/png": "[encoded data removed]",
                        "text/plain": "<Figure size 432x288 with 1 Axes>"
                    },
                    "metadata": {
                        "needs_background": "light"
                    }
                }
            ],
            "execution_count": null
        },
        {
            "cell_type": "code",
            "source": [
                "pd.DataFrame(data_dict).T['poi'].value_counts()"
            ],
            "metadata": {
                "colab": {
                    "base_uri": "https://localhost:8080/"
                },
                "id": "nWvQf2sAeCu8",
                "outputId": "0f12a5e7-d15e-4782-ce64-5d7b507e9b09",
                "azdata_cell_guid": "7f7fc7d8-f94e-419a-b837-3dc419568c1e"
            },
            "outputs": [
                {
                    "output_type": "execute_result",
                    "execution_count": 11,
                    "data": {
                        "text/plain": "False    128\nTrue      18\nName: poi, dtype: int64"
                    },
                    "metadata": {}
                }
            ],
            "execution_count": null
        },
        {
            "cell_type": "markdown",
            "source": [
                "Data is very much imbalanced and more biased to class 0."
            ],
            "metadata": {
                "id": "e2flSEAweiap",
                "azdata_cell_guid": "090f5048-8d27-45b1-994e-d3523d8a74dd"
            }
        },
        {
            "cell_type": "code",
            "source": [
                "### Task 2: Remove outliers\n",
                "### Task 3: Create new feature(s)"
            ],
            "metadata": {
                "id": "GnUFUWgThfqM",
                "azdata_cell_guid": "5b8e8998-0aa7-4485-a1a3-eba60f727a36"
            },
            "outputs": [],
            "execution_count": null
        },
        {
            "cell_type": "markdown",
            "source": [
                "### modeling experiments\n",
                "1. Take all the data as it is and find the baseline model."
            ],
            "metadata": {
                "id": "ItFrBZ9OfXmp",
                "azdata_cell_guid": "ff16a389-5dba-45eb-93df-e1612bcd0ee4"
            }
        },
        {
            "cell_type": "code",
            "source": [
                "### Task 4: Try a varity of classifiers\n",
                "### Please name your classifier clf for easy export below.\n",
                "### Note that if you want to do PCA or other multi-stage operations,\n",
                "### you'll need to use Pipelines. For more info:\n",
                "### http://scikit-learn.org/stable/modules/pipeline.html"
            ],
            "metadata": {
                "id": "j1Hq5H9FhXEC",
                "azdata_cell_guid": "04d9b322-13f0-4f09-a61d-a124a8dd6765"
            },
            "outputs": [],
            "execution_count": null
        },
        {
            "cell_type": "code",
            "source": [
                "experiment = setup(my_data, target='poi')  \n",
                "best_model = compare_models(sort='F1')"
            ],
            "metadata": {
                "colab": {
                    "base_uri": "https://localhost:8080/",
                    "height": 488,
                    "referenced_widgets": [
                        "5f66ec30dafc4dd6ae789f78379f14dd",
                        "29819c3ef1df41f4b61cad75f3399f12",
                        "4121e8c0b2f0451fa45af69c4913e6b7",
                        "74e38437d46449aca2cf8af3a20ac624",
                        "5bbc3f52607345d6a927a3e6743d24bf",
                        "bb4b357a14bb4f93a62dcb3d2e97afeb",
                        "41c936b54dae40fdbe30557b58a556b1",
                        "ad906769f82442658320caedc30a4f2a",
                        "18f902890cf64cd0989436518e80b032"
                    ]
                },
                "id": "qdCxU076fe54",
                "outputId": "148df75a-b555-4364-94c3-33dd71d24dde",
                "azdata_cell_guid": "552d2e14-cda1-4fbc-a041-c960e26521bd"
            },
            "outputs": [
                {
                    "output_type": "display_data",
                    "data": {
                        "text/html": "\n  <div id=\"df-fa659fdc-4b81-40b3-bf78-0bcfde762f71\">\n    <div class=\"colab-df-container\">\n      <div>\n<style scoped>\n    .dataframe tbody tr th:only-of-type {\n        vertical-align: middle;\n    }\n\n    .dataframe tbody tr th {\n        vertical-align: top;\n    }\n\n    .dataframe thead th {\n        text-align: right;\n    }\n</style>\n<table border=\"1\" class=\"dataframe\">\n  <thead>\n    <tr style=\"text-align: right;\">\n      <th></th>\n      <th>Model</th>\n      <th>Accuracy</th>\n      <th>AUC</th>\n      <th>Recall</th>\n      <th>Prec.</th>\n      <th>F1</th>\n      <th>Kappa</th>\n      <th>MCC</th>\n      <th>TT (Sec)</th>\n    </tr>\n  </thead>\n  <tbody>\n    <tr>\n      <th>ada</th>\n      <td>Ada Boost Classifier</td>\n      <td>0.8418</td>\n      <td>0.7771</td>\n      <td>0.35</td>\n      <td>0.2917</td>\n      <td>0.3133</td>\n      <td>0.2520</td>\n      <td>0.2532</td>\n      <td>0.096</td>\n    </tr>\n    <tr>\n      <th>nb</th>\n      <td>Naive Bayes</td>\n      <td>0.4245</td>\n      <td>0.6125</td>\n      <td>0.80</td>\n      <td>0.1731</td>\n      <td>0.2718</td>\n      <td>0.0696</td>\n      <td>0.1189</td>\n      <td>0.017</td>\n    </tr>\n    <tr>\n      <th>lightgbm</th>\n      <td>Light Gradient Boosting Machine</td>\n      <td>0.8518</td>\n      <td>0.7979</td>\n      <td>0.30</td>\n      <td>0.2500</td>\n      <td>0.2667</td>\n      <td>0.2154</td>\n      <td>0.2167</td>\n      <td>0.067</td>\n    </tr>\n    <tr>\n      <th>gbc</th>\n      <td>Gradient Boosting Classifier</td>\n      <td>0.8327</td>\n      <td>0.7299</td>\n      <td>0.20</td>\n      <td>0.2500</td>\n      <td>0.2167</td>\n      <td>0.1426</td>\n      <td>0.1454</td>\n      <td>0.155</td>\n    </tr>\n    <tr>\n      <th>lr</th>\n      <td>Logistic Regression</td>\n      <td>0.8218</td>\n      <td>0.6243</td>\n      <td>0.20</td>\n      <td>0.2000</td>\n      <td>0.1833</td>\n      <td>0.1035</td>\n      <td>0.1140</td>\n      <td>0.429</td>\n    </tr>\n    <tr>\n      <th>dt</th>\n      <td>Decision Tree Classifier</td>\n      <td>0.7636</td>\n      <td>0.5438</td>\n      <td>0.25</td>\n      <td>0.1583</td>\n      <td>0.1833</td>\n      <td>0.0543</td>\n      <td>0.0639</td>\n      <td>0.016</td>\n    </tr>\n    <tr>\n      <th>ridge</th>\n      <td>Ridge Classifier</td>\n      <td>0.8436</td>\n      <td>0.0000</td>\n      <td>0.15</td>\n      <td>0.2250</td>\n      <td>0.1667</td>\n      <td>0.1086</td>\n      <td>0.1189</td>\n      <td>0.016</td>\n    </tr>\n    <tr>\n      <th>lda</th>\n      <td>Linear Discriminant Analysis</td>\n      <td>0.8336</td>\n      <td>0.6722</td>\n      <td>0.15</td>\n      <td>0.2250</td>\n      <td>0.1667</td>\n      <td>0.1043</td>\n      <td>0.1134</td>\n      <td>0.018</td>\n    </tr>\n    <tr>\n      <th>qda</th>\n      <td>Quadratic Discriminant Analysis</td>\n      <td>0.7918</td>\n      <td>0.6799</td>\n      <td>0.05</td>\n      <td>0.0500</td>\n      <td>0.0500</td>\n      <td>-0.0109</td>\n      <td>-0.0217</td>\n      <td>0.017</td>\n    </tr>\n    <tr>\n      <th>et</th>\n      <td>Extra Trees Classifier</td>\n      <td>0.8218</td>\n      <td>0.7229</td>\n      <td>0.05</td>\n      <td>0.0500</td>\n      <td>0.0500</td>\n      <td>-0.0052</td>\n      <td>-0.0063</td>\n      <td>0.465</td>\n    </tr>\n    <tr>\n      <th>svm</th>\n      <td>SVM - Linear Kernel</td>\n      <td>0.7327</td>\n      <td>0.0000</td>\n      <td>0.10</td>\n      <td>0.0125</td>\n      <td>0.0222</td>\n      <td>-0.0821</td>\n      <td>-0.0732</td>\n      <td>0.015</td>\n    </tr>\n    <tr>\n      <th>knn</th>\n      <td>K Neighbors Classifier</td>\n      <td>0.8418</td>\n      <td>0.5024</td>\n      <td>0.00</td>\n      <td>0.0000</td>\n      <td>0.0000</td>\n      <td>-0.0265</td>\n      <td>-0.0278</td>\n      <td>0.115</td>\n    </tr>\n    <tr>\n      <th>rf</th>\n      <td>Random Forest Classifier</td>\n      <td>0.8118</td>\n      <td>0.7333</td>\n      <td>0.00</td>\n      <td>0.0000</td>\n      <td>0.0000</td>\n      <td>-0.0558</td>\n      <td>-0.0583</td>\n      <td>0.475</td>\n    </tr>\n    <tr>\n      <th>dummy</th>\n      <td>Dummy Classifier</td>\n      <td>0.8618</td>\n      <td>0.5000</td>\n      <td>0.00</td>\n      <td>0.0000</td>\n      <td>0.0000</td>\n      <td>0.0000</td>\n      <td>0.0000</td>\n      <td>0.012</td>\n    </tr>\n  </tbody>\n</table>\n</div>\n      <button class=\"colab-df-convert\" onclick=\"convertToInteractive('df-fa659fdc-4b81-40b3-bf78-0bcfde762f71')\"\n              title=\"Convert this dataframe to an interactive table.\"\n              style=\"display:none;\">\n        \n  <svg xmlns=\"http://www.w3.org/2000/svg\" height=\"24px\"viewBox=\"0 0 24 24\"\n       width=\"24px\">\n    <path d=\"M0 0h24v24H0V0z\" fill=\"none\"/>\n    <path d=\"M18.56 5.44l.94 2.06.94-2.06 2.06-.94-2.06-.94-.94-2.06-.94 2.06-2.06.94zm-11 1L8.5 8.5l.94-2.06 2.06-.94-2.06-.94L8.5 2.5l-.94 2.06-2.06.94zm10 10l.94 2.06.94-2.06 2.06-.94-2.06-.94-.94-2.06-.94 2.06-2.06.94z\"/><path d=\"M17.41 7.96l-1.37-1.37c-.4-.4-.92-.59-1.43-.59-.52 0-1.04.2-1.43.59L10.3 9.45l-7.72 7.72c-.78.78-.78 2.05 0 2.83L4 21.41c.39.39.9.59 1.41.59.51 0 1.02-.2 1.41-.59l7.78-7.78 2.81-2.81c.8-.78.8-2.07 0-2.86zM5.41 20L4 18.59l7.72-7.72 1.47 1.35L5.41 20z\"/>\n  </svg>\n      </button>\n      \n  <style>\n    .colab-df-container {\n      display:flex;\n      flex-wrap:wrap;\n      gap: 12px;\n    }\n\n    .colab-df-convert {\n      background-color: #E8F0FE;\n      border: none;\n      border-radius: 50%;\n      cursor: pointer;\n      display: none;\n      fill: #1967D2;\n      height: 32px;\n      padding: 0 0 0 0;\n      width: 32px;\n    }\n\n    .colab-df-convert:hover {\n      background-color: #E2EBFA;\n      box-shadow: 0px 1px 2px rgba(60, 64, 67, 0.3), 0px 1px 3px 1px rgba(60, 64, 67, 0.15);\n      fill: #174EA6;\n    }\n\n    [theme=dark] .colab-df-convert {\n      background-color: #3B4455;\n      fill: #D2E3FC;\n    }\n\n    [theme=dark] .colab-df-convert:hover {\n      background-color: #434B5C;\n      box-shadow: 0px 1px 3px 1px rgba(0, 0, 0, 0.15);\n      filter: drop-shadow(0px 1px 2px rgba(0, 0, 0, 0.3));\n      fill: #FFFFFF;\n    }\n  </style>\n\n      <script>\n        const buttonEl =\n          document.querySelector('#df-fa659fdc-4b81-40b3-bf78-0bcfde762f71 button.colab-df-convert');\n        buttonEl.style.display =\n          google.colab.kernel.accessAllowed ? 'block' : 'none';\n\n        async function convertToInteractive(key) {\n          const element = document.querySelector('#df-fa659fdc-4b81-40b3-bf78-0bcfde762f71');\n          const dataTable =\n            await google.colab.kernel.invokeFunction('convertToInteractive',\n                                                     [key], {});\n          if (!dataTable) return;\n\n          const docLinkHtml = 'Like what you see? Visit the ' +\n            '<a target=\"_blank\" href=https://colab.research.google.com/notebooks/data_table.ipynb>data table notebook</a>'\n            + ' to learn more about interactive tables.';\n          element.innerHTML = '';\n          dataTable['output_type'] = 'display_data';\n          await google.colab.output.renderOutput(dataTable, element);\n          const docLink = document.createElement('div');\n          docLink.innerHTML = docLinkHtml;\n          element.appendChild(docLink);\n        }\n      </script>\n    </div>\n  </div>\n  ",
                        "text/plain": "                                    Model  Accuracy     AUC  Recall   Prec.  \\\nada                  Ada Boost Classifier    0.8418  0.7771    0.35  0.2917   \nnb                            Naive Bayes    0.4245  0.6125    0.80  0.1731   \nlightgbm  Light Gradient Boosting Machine    0.8518  0.7979    0.30  0.2500   \ngbc          Gradient Boosting Classifier    0.8327  0.7299    0.20  0.2500   \nlr                    Logistic Regression    0.8218  0.6243    0.20  0.2000   \ndt               Decision Tree Classifier    0.7636  0.5438    0.25  0.1583   \nridge                    Ridge Classifier    0.8436  0.0000    0.15  0.2250   \nlda          Linear Discriminant Analysis    0.8336  0.6722    0.15  0.2250   \nqda       Quadratic Discriminant Analysis    0.7918  0.6799    0.05  0.0500   \net                 Extra Trees Classifier    0.8218  0.7229    0.05  0.0500   \nsvm                   SVM - Linear Kernel    0.7327  0.0000    0.10  0.0125   \nknn                K Neighbors Classifier    0.8418  0.5024    0.00  0.0000   \nrf               Random Forest Classifier    0.8118  0.7333    0.00  0.0000   \ndummy                    Dummy Classifier    0.8618  0.5000    0.00  0.0000   \n\n              F1   Kappa     MCC  TT (Sec)  \nada       0.3133  0.2520  0.2532     0.096  \nnb        0.2718  0.0696  0.1189     0.017  \nlightgbm  0.2667  0.2154  0.2167     0.067  \ngbc       0.2167  0.1426  0.1454     0.155  \nlr        0.1833  0.1035  0.1140     0.429  \ndt        0.1833  0.0543  0.0639     0.016  \nridge     0.1667  0.1086  0.1189     0.016  \nlda       0.1667  0.1043  0.1134     0.018  \nqda       0.0500 -0.0109 -0.0217     0.017  \net        0.0500 -0.0052 -0.0063     0.465  \nsvm       0.0222 -0.0821 -0.0732     0.015  \nknn       0.0000 -0.0265 -0.0278     0.115  \nrf        0.0000 -0.0558 -0.0583     0.475  \ndummy     0.0000  0.0000  0.0000     0.012  "
                    },
                    "metadata": {}
                }
            ],
            "execution_count": null
        },
        {
            "cell_type": "code",
            "source": [
                "best_model"
            ],
            "metadata": {
                "colab": {
                    "base_uri": "https://localhost:8080/"
                },
                "id": "FKWktKQGgYLa",
                "outputId": "a8094921-21c4-4594-8fd5-b5b81216ced0",
                "azdata_cell_guid": "dd576806-a3ec-4733-bcb7-bf52c00433aa"
            },
            "outputs": [
                {
                    "output_type": "execute_result",
                    "execution_count": 33,
                    "data": {
                        "text/plain": "AdaBoostClassifier(algorithm='SAMME.R', base_estimator=None, learning_rate=1.0,\n                   n_estimators=50, random_state=8895)"
                    },
                    "metadata": {}
                }
            ],
            "execution_count": null
        },
        {
            "cell_type": "markdown",
            "source": [
                "#### best model found in first experiment\n",
                "AdaBoostClassifier(algorithm='SAMME.R', base_estimator=None, learning_rate=1.0,\n",
                "                   n_estimators=50, random_state=8895)"
            ],
            "metadata": {
                "id": "pzG1CiQlgxkV",
                "azdata_cell_guid": "0f7bffac-470e-45c2-90bd-50a462b9b673"
            }
        },
        {
            "cell_type": "code",
            "source": [
                "from sklearn.ensemble import AdaBoostClassifier\n",
                "from sklearn.preprocessing import MinMaxScaler\n",
                "from sklearn.model_selection import train_test_split\n",
                "from sklearn.metrics import precision_score, recall_score"
            ],
            "metadata": {
                "id": "s_TSYdQDjsJI",
                "azdata_cell_guid": "9e0615af-7d10-4549-a509-d881fd968354"
            },
            "outputs": [],
            "execution_count": 21
        },
        {
            "cell_type": "code",
            "source": [
                "scaller = MinMaxScaler()\n",
                "\n",
                "best_model = AdaBoostClassifier(algorithm='SAMME.R', base_estimator=None, learning_rate=1.0,\n",
                "                   n_estimators=50, random_state=8895)"
            ],
            "metadata": {
                "id": "dpl_a5kTjpqt",
                "azdata_cell_guid": "208aa341-4302-46cf-9a72-37aef8b026d8"
            },
            "outputs": [],
            "execution_count": 12
        },
        {
            "cell_type": "markdown",
            "source": [
                "#### model training and evaluation"
            ],
            "metadata": {
                "id": "gyzSwRm_V2vT",
                "azdata_cell_guid": "6f49347e-20bc-42a6-9566-3e0a53d35677"
            }
        },
        {
            "cell_type": "code",
            "source": [
                "### testing the best model with tester code\n",
                "### splitting the selected data into X(features-independent vars) and y (labels-dependent vars)\n",
                "labels, features = targetFeatureSplit(my_data.values)\n",
                "\n",
                "### ### scalling the data\n",
                "features_scalled  = scaller.fit_transform(features)\n",
                "\n",
                "\n",
                "### split the data in train and test\n",
                "X_train, X_test, y_train, y_test = train_test_split(features_scalled, labels, test_size=0.2, random_state=42)"
            ],
            "metadata": {
                "id": "_ix5qMhzVx5h",
                "azdata_cell_guid": "2d94b64c-6074-40db-9f7e-fcd33ba1606d"
            },
            "outputs": [],
            "execution_count": 18
        },
        {
            "cell_type": "code",
            "source": [
                "### train the model \n",
                "best_model.fit(X_train, y_train)"
            ],
            "metadata": {
                "id": "lS41a4kkehOr",
                "colab": {
                    "base_uri": "https://localhost:8080/"
                },
                "outputId": "eee86bac-06ef-4313-ecbf-736ea1d416b7",
                "azdata_cell_guid": "74b7861a-6efe-496f-a2fe-43fc5166a146"
            },
            "outputs": [
                {
                    "output_type": "execute_result",
                    "execution_count": 19,
                    "data": {
                        "text/plain": "AdaBoostClassifier(random_state=8895)"
                    },
                    "metadata": {}
                }
            ],
            "execution_count": 19
        },
        {
            "cell_type": "code",
            "source": [
                "### evaluate the model on testing data\n",
                "### accuracy\n",
                "preds = best_model.predict(X_test)\n",
                "\n",
                "acc = best_model.score(X_test, y_test)\n",
                "print('Accuracy=', acc)\n",
                "\n",
                "prec = precision_score(y_test, preds)\n",
                "print('Precision=', prec)\n",
                "\n",
                "recall = recall_score(y_test, preds)\n",
                "print('Recall=', recall)\n"
            ],
            "metadata": {
                "colab": {
                    "base_uri": "https://localhost:8080/"
                },
                "id": "pBQRV5RpXL7k",
                "outputId": "24400bf8-fc7b-4d9d-fb56-7bec3355d53a",
                "azdata_cell_guid": "f5bba087-0dcc-4e30-b4e4-b55edacc1c3e"
            },
            "outputs": [
                {
                    "output_type": "stream",
                    "name": "stdout",
                    "text": "Accuracy= 0.8620689655172413\nPrecision= 0.5\nRecall= 0.5\n"
                }
            ],
            "execution_count": 23
        },
        {
            "cell_type": "code",
            "source": [
                "### Task 5: Tune your classifier to achieve better than .3 precision and recall \n",
                "### using our testing script. Check the tester.py script in the final project\n",
                "### folder for details on the evaluation method, especially the test_classifier\n",
                "### function. Because of the small size of the dataset, the script uses\n",
                "### stratified shuffle split cross validation. For more info: \n",
                "### http://scikit-learn.org/stable/modules/generated/sklearn.cross_validation.StratifiedShuffleSplit.html\n",
                "\n",
                "precision, recall, accuracy = test_classifier(best_model, my_dataset, features_list, folds=200)\n",
                "print(f'Precision: {precision}')\n",
                "print(f'Recall: {recall}')\n",
                "print(f'Accuracy: {accuracy}')\n",
                "print()"
            ],
            "metadata": {
                "colab": {
                    "base_uri": "https://localhost:8080/"
                },
                "id": "R4RQwzc0hIeS",
                "outputId": "e03e5c90-c07b-48a1-eddb-0d581ceafc7a",
                "azdata_cell_guid": "2d40691c-6c9c-41fe-aff4-2bc489b32fb5"
            },
            "outputs": [
                {
                    "output_type": "stream",
                    "name": "stdout",
                    "text": "Precision: 0.3824451410658307\nRecall: 0.305\nAccuracy: 0.8416666666666667\n\n"
                }
            ],
            "execution_count": 9
        },
        {
            "cell_type": "code",
            "source": [
                "dump_classifier_and_data()"
            ],
            "metadata": {
                "azdata_cell_guid": "6e8166e6-ee84-4b4d-bca4-7906fa244733"
            },
            "outputs": [],
            "execution_count": null
        }
    ]
}